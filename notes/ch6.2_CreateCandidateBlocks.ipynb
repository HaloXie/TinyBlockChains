{
 "cells": [
  {
   "cell_type": "markdown",
   "metadata": {
    "collapsed": true
   },
   "source": [
    "# 创建候选区块"
   ]
  },
  {
   "cell_type": "markdown",
   "metadata": {},
   "source": [
    "每个“矿工”都有一个属于自己的候选区块，最终只有获胜“矿工”的候选区块会被写进区块链得到“续命”，而其他候选区块的生命在“矿工”验证获胜“矿工”广播的区块有效起得到“终结”。当候选区块创建好后，“矿工”开始“挖矿”，即通过枚举nonce的方式求出满足条件的工作量证明nonce值。"
   ]
  },
  {
   "cell_type": "markdown",
   "metadata": {},
   "source": [
    "根据区块高度计算区块奖励的函数示例如下："
   ]
  },
  {
   "cell_type": "code",
   "execution_count": 1,
   "metadata": {},
   "outputs": [],
   "source": [
    "def get_block_reward(height, fees=0):\n",
    "    # 减半间隔为210000个区块\n",
    "    reward_interval = 210000\n",
    "    # 初始建立50比特币\n",
    "    reward = 50\n",
    "    # 减半次数\n",
    "    halvings = height // reward_interval\n",
    "\n",
    "    # 如果减半次数超过64，返回交易费\n",
    "    if halvings >= 64:\n",
    "        return fees\n",
    "\n",
    "    # 否则奖励减半\n",
    "    reward >>= halvings\n",
    "    return reward + fees"
   ]
  },
  {
   "cell_type": "markdown",
   "metadata": {},
   "source": [
    "### 创币交易"
   ]
  },
  {
   "cell_type": "code",
   "execution_count": 2,
   "metadata": {},
   "outputs": [
    {
     "data": {
      "text/plain": [
       "Tx(id:f6d6ed236316ca82747ef4e04b23cad3315ce43e74a0ef5b79a4c8acace1c5ba)"
      ]
     },
     "execution_count": 2,
     "metadata": {},
     "output_type": "execute_result"
    }
   ],
   "source": [
    "from simchain import Tx\n",
    "# 创币交易，地址'bb'，金额为5000分\n",
    "tx = Tx.create_coinbase('bb', 5000)\n",
    "tx"
   ]
  },
  {
   "cell_type": "code",
   "execution_count": 3,
   "metadata": {},
   "outputs": [
    {
     "data": {
      "text/plain": [
       "[Vout(to_addr:bb,value:5000)]"
      ]
     },
     "execution_count": 3,
     "metadata": {},
     "output_type": "execute_result"
    }
   ],
   "source": [
    "# 只有一个输出单元\n",
    "tx.tx_out"
   ]
  },
  {
   "cell_type": "code",
   "execution_count": 4,
   "metadata": {},
   "outputs": [
    {
     "data": {
      "text/plain": [
       "[Vin(to_spend:None,signature:b'\\xbc4\\xbf\\x90\\xcf.\\xfb\\xde\\xa0\\x0bZ\\xbd\\x08=\\xf6\\xaevwE\\xfb\\xeaN4\\xc8p8\\xbd~\"\\x02#&',pubkey:None)]"
      ]
     },
     "execution_count": 4,
     "metadata": {},
     "output_type": "execute_result"
    }
   ],
   "source": [
    "# 只有一个输入单元，且定位地址为None\n",
    "tx.tx_in"
   ]
  },
  {
   "cell_type": "code",
   "execution_count": 5,
   "metadata": {},
   "outputs": [
    {
     "data": {
      "text/plain": [
       "True"
      ]
     },
     "execution_count": 5,
     "metadata": {},
     "output_type": "execute_result"
    }
   ],
   "source": [
    "tx.is_coinbase"
   ]
  },
  {
   "cell_type": "markdown",
   "metadata": {},
   "source": [
    "### 定义创建候选区块的函数"
   ]
  },
  {
   "cell_type": "code",
   "execution_count": 6,
   "metadata": {},
   "outputs": [],
   "source": [
    "# 输入参数为选择要打包的交易列表，矿工收款地址、前区块、前区块的高度和本地时间\n",
    "def create_candidate_block(self):\n",
    "    self.choose_tx_candidates() \n",
    "    txs = self.candidate_block_txs\n",
    "    # 计算总奖励，为“挖矿”奖励和交易费之和\n",
    "    value = self.get_block_reward() + self.calculate_fees(txs)\n",
    "    # 创建创币交易\n",
    "    coinbase = self.create_coinbase(value)\n",
    "    # 将创币交易插入到交易列表第1条\n",
    "    txs = [coinbase] + txs\n",
    "\n",
    "    # 获取前区块的哈希值\n",
    "    prev_block_hash = self.blockchain[-1].hash\n",
    "    bits = Params.INITIAL_DIFFICULTY_BITS\n",
    "    # 创建候选区块\n",
    "    self.candidate_block = Block(version=0,\n",
    "                                 prev_block_hash=prev_block_hash,\n",
    "                                 timestamp=self.network.time[-1],\n",
    "                                 bits=bits,\n",
    "                                 nonce=0,\n",
    "                                 txs=txs or [])\n",
    "\n",
    "    self._is_block_candidate_created = True"
   ]
  },
  {
   "cell_type": "code",
   "execution_count": 7,
   "metadata": {},
   "outputs": [
    {
     "name": "stderr",
     "output_type": "stream",
     "text": [
      "2019-06-13 23:51:45,591 - A blockchain p2p network created,12 peers joined\n",
      "2019-06-13 23:51:45,627 - genesis block has been generated\n",
      "2019-06-13 23:51:45,670 - peer(52, 99)(pid=3) created a transaction\n",
      "2019-06-13 23:51:45,671 - peer(52, 99)(pid=3) sent a transaction to network\n",
      "2019-06-13 23:51:46,503 - peer(52, 99)(pid=3)'s transaction verified by 11 peers\n",
      "2019-06-13 23:51:46,542 - peer(70, 9)(pid=1) created a transaction\n",
      "2019-06-13 23:51:46,543 - peer(70, 9)(pid=1) sent a transaction to network\n",
      "2019-06-13 23:51:47,380 - peer(70, 9)(pid=1)'s transaction verified by 11 peers\n",
      "2019-06-13 23:51:47,422 - peer(28, 13)(pid=4) created a transaction\n",
      "2019-06-13 23:51:47,425 - peer(28, 13)(pid=4) sent a transaction to network\n",
      "2019-06-13 23:51:48,279 - peer(28, 13)(pid=4)'s transaction verified by 11 peers\n"
     ]
    },
    {
     "data": {
      "text/plain": [
       "Block(hash:38175dcb4e784d1d19c66f80ffd081f06e5725e423126fa2b4583230570de075)"
      ]
     },
     "execution_count": 7,
     "metadata": {},
     "output_type": "execute_result"
    }
   ],
   "source": [
    "from simchain import Network\n",
    "net = Network()\n",
    "zhangsan = net.peers[0]\n",
    "net.make_random_transactions()\n",
    "# 张三创建候选区块\n",
    "zhangsan.create_candidate_block()\n",
    "# 访问张三的候选区块\n",
    "zhangsan.candidate_block"
   ]
  },
  {
   "cell_type": "code",
   "execution_count": 8,
   "metadata": {},
   "outputs": [
    {
     "data": {
      "text/plain": [
       "[Tx(id:e3b9bfc01aa9c047eb727a041140e0d2146f44bf10dfe69d3a5cef95a1db6488),\n",
       " Tx(id:0e8ecbd047af6617e386c108eb40b81e16ef731461662cf3fb4e7f93a2c10579),\n",
       " Tx(id:5c825b99e249628a980ef0615d679ddd3be65bdb7bee5610972afd526f915022),\n",
       " Tx(id:4e8909c8bce66b260e4e682161dc66000bee0cd4fb4c603149d34178e6d82321)]"
      ]
     },
     "execution_count": 8,
     "metadata": {},
     "output_type": "execute_result"
    }
   ],
   "source": [
    "# 候选区块中的交易\n",
    "zhangsan.candidate_block.txs"
   ]
  },
  {
   "cell_type": "code",
   "execution_count": 9,
   "metadata": {},
   "outputs": [
    {
     "data": {
      "text/plain": [
       "True"
      ]
     },
     "execution_count": 9,
     "metadata": {},
     "output_type": "execute_result"
    }
   ],
   "source": [
    "# 获取交易列表第1条交易\n",
    "tx = zhangsan.candidate_block.txs[0]\n",
    "# 创币交易\n",
    "tx.is_coinbase"
   ]
  },
  {
   "cell_type": "code",
   "execution_count": 10,
   "metadata": {},
   "outputs": [
    {
     "data": {
      "text/plain": [
       "530"
      ]
     },
     "execution_count": 10,
     "metadata": {},
     "output_type": "execute_result"
    }
   ],
   "source": [
    "# 金额为530\n",
    "tx.tx_out[0].value"
   ]
  },
  {
   "cell_type": "code",
   "execution_count": 11,
   "metadata": {},
   "outputs": [
    {
     "data": {
      "text/plain": [
       "4"
      ]
     },
     "execution_count": 11,
     "metadata": {},
     "output_type": "execute_result"
    }
   ],
   "source": [
    "# 打包交易为4条，每条交易费固定为10分\n",
    "len(zhangsan.candidate_block.txs)"
   ]
  },
  {
   "cell_type": "code",
   "execution_count": 12,
   "metadata": {
    "scrolled": true
   },
   "outputs": [
    {
     "data": {
      "text/plain": [
       "4"
      ]
     },
     "execution_count": 12,
     "metadata": {},
     "output_type": "execute_result"
    }
   ],
   "source": [
    "# 改变交易选择策略为“随机”选择\n",
    "zhangsan.tx_choice_method = 'random'\n",
    "zhangsan.create_candidate_block()\n",
    "len(zhangsan.candidate_block.txs)"
   ]
  },
  {
   "cell_type": "markdown",
   "metadata": {},
   "source": [
    "# 挖矿、打包、广播区块"
   ]
  },
  {
   "cell_type": "markdown",
   "metadata": {},
   "source": [
    "## 挖矿"
   ]
  },
  {
   "cell_type": "code",
   "execution_count": 13,
   "metadata": {},
   "outputs": [
    {
     "data": {
      "text/plain": [
       "423371"
      ]
     },
     "execution_count": 13,
     "metadata": {},
     "output_type": "execute_result"
    }
   ],
   "source": [
    "from simchain.consensus import mine\n",
    "# 计算满足条件的nonce\n",
    "nonce = mine(zhangsan.candidate_block)\n",
    "nonce"
   ]
  },
  {
   "cell_type": "code",
   "execution_count": 14,
   "metadata": {},
   "outputs": [
    {
     "data": {
      "text/plain": [
       "423371"
      ]
     },
     "execution_count": 14,
     "metadata": {},
     "output_type": "execute_result"
    }
   ],
   "source": [
    "# 也可以直接调用节点对象的consensus()方法\n",
    "zhangsan.consensus()"
   ]
  },
  {
   "cell_type": "markdown",
   "metadata": {},
   "source": [
    "## 打包候选区块"
   ]
  },
  {
   "cell_type": "code",
   "execution_count": 15,
   "metadata": {},
   "outputs": [
    {
     "data": {
      "text/plain": [
       "Block(hash:000023d61f7c0aa69b7c4a6e8c9df6d294d39c2225240d6123d56907c476e14f)"
      ]
     },
     "execution_count": 15,
     "metadata": {},
     "output_type": "execute_result"
    }
   ],
   "source": [
    "# 节点打包区块\n",
    "block = zhangsan.package_block(nonce)\n",
    "block"
   ]
  },
  {
   "cell_type": "code",
   "execution_count": 16,
   "metadata": {},
   "outputs": [
    {
     "data": {
      "text/plain": [
       "Block(hash:000023d61f7c0aa69b7c4a6e8c9df6d294d39c2225240d6123d56907c476e14f)"
      ]
     },
     "execution_count": 16,
     "metadata": {},
     "output_type": "execute_result"
    }
   ],
   "source": [
    "# 替换nonce\n",
    "block1 = zhangsan.candidate_block._replace(nonce=nonce)\n",
    "block1"
   ]
  },
  {
   "cell_type": "code",
   "execution_count": 17,
   "metadata": {},
   "outputs": [
    {
     "data": {
      "text/plain": [
       "True"
      ]
     },
     "execution_count": 17,
     "metadata": {},
     "output_type": "execute_result"
    }
   ],
   "source": [
    "from simchain.consensus import caculate_target\n",
    "# nonce满足条件\n",
    "int(block.hash, 16) < caculate_target(block.bits)"
   ]
  },
  {
   "cell_type": "code",
   "execution_count": 18,
   "metadata": {},
   "outputs": [
    {
     "data": {
      "text/plain": [
       "0"
      ]
     },
     "execution_count": 18,
     "metadata": {},
     "output_type": "execute_result"
    }
   ],
   "source": [
    "from simchain import Block\n",
    "block.version"
   ]
  },
  {
   "cell_type": "code",
   "execution_count": 19,
   "metadata": {},
   "outputs": [
    {
     "data": {
      "text/plain": [
       "Block(hash:0a1ed8398c2fa6ab2eb4266ef9938f7618e9bb79627c73cb6ec70e2343acf568)"
      ]
     },
     "execution_count": 19,
     "metadata": {},
     "output_type": "execute_result"
    }
   ],
   "source": [
    "# 仅改变之前区块的版本号\n",
    "block2 = Block(2, block.prev_block_hash, block.timestamp, block.bits, nonce, block.txs)\n",
    "block2"
   ]
  },
  {
   "cell_type": "code",
   "execution_count": 20,
   "metadata": {},
   "outputs": [
    {
     "data": {
      "text/plain": [
       "False"
      ]
     },
     "execution_count": 20,
     "metadata": {},
     "output_type": "execute_result"
    }
   ],
   "source": [
    "# nonce不满足条件\n",
    "int(block2.hash, 16) < caculate_target(block2.bits)"
   ]
  },
  {
   "cell_type": "markdown",
   "metadata": {},
   "source": [
    "由上述可知，候选区块的创建是一次性的，创建好后，除了nonce值的替换外，其他数据都不能修改。"
   ]
  },
  {
   "cell_type": "markdown",
   "metadata": {},
   "source": [
    "## 广播区块"
   ]
  },
  {
   "cell_type": "markdown",
   "metadata": {},
   "source": [
    "和广播交易类似，当获胜“矿工”成功打包区块后，会将区块广播到网络中，通过泛洪路由协议传播到其他节点。由于验证一个区块比验证一个交易复杂得多，且数据量较单笔交易大得多，导致区块广播比交易广播耗时大很多。"
   ]
  }
 ],
 "metadata": {
  "kernelspec": {
   "display_name": "Python 3",
   "language": "python",
   "name": "python3"
  },
  "language_info": {
   "codemirror_mode": {
    "name": "ipython",
    "version": 3
   },
   "file_extension": ".py",
   "mimetype": "text/x-python",
   "name": "python",
   "nbconvert_exporter": "python",
   "pygments_lexer": "ipython3",
   "version": "3.7.2"
  },
  "toc": {
   "base_numbering": 1,
   "nav_menu": {},
   "number_sections": false,
   "sideBar": true,
   "skip_h1_title": false,
   "title_cell": "Table of Contents",
   "title_sidebar": "Contents",
   "toc_cell": false,
   "toc_position": {},
   "toc_section_display": true,
   "toc_window_display": false
  }
 },
 "nbformat": 4,
 "nbformat_minor": 1
}
