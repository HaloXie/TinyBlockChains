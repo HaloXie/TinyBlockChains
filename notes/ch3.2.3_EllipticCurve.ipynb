{
 "cells": [
  {
   "cell_type": "markdown",
   "metadata": {
    "collapsed": true
   },
   "source": [
    "# 椭圆曲线"
   ]
  },
  {
   "cell_type": "markdown",
   "metadata": {},
   "source": [
    "常见的椭圆曲线为如下所示的二元三阶方程：$$y^2=x^3+ax+b$$"
   ]
  },
  {
   "cell_type": "markdown",
   "metadata": {},
   "source": [
    " ## 有限域上的椭圆曲线"
   ]
  },
  {
   "cell_type": "markdown",
   "metadata": {},
   "source": [
    "有限域$F_p$的定义：  \n",
    "1. $F_p$上有$p$（$p$为质数）个元素，分别为$0,1,2,\\dots,p-2,p-1$\n",
    "2. $F_p$上的加法是$a+b\\equiv c(mod p)$\n",
    "3. $F_p$上的乘法是$a\\times b\\equiv c(mod p)$\n",
    "4. $F_p$上的除法是$a\\div b\\equiv c(mod p)，即a\\times b^{-1}\\equiv c(mod p)$\n",
    "5. $F_p$上的运算满足交换律、结合律、分配率\n",
    "6. 如果椭圆曲线上的一点P,存在最小的正整数n，使得数乘$np=\\infty$，则称n为P的阶，若n不存在，则称点P是无限阶。  \n",
    "对于分数的求余，采用逆元将其转换为乘法：$$a/b(modp)=a \\times b^{-1}(mod p)$$其中$b^{-1}$是$b$的逆元，满足$b \\times b^{-1} \\equiv 1(modp)$ "
   ]
  },
  {
   "cell_type": "markdown",
   "metadata": {},
   "source": [
    "对于$b \\times b^{-1} \\equiv 1(modp)$，Simchain采用欧几里德算法求逆元$b^{-1}$"
   ]
  },
  {
   "cell_type": "code",
   "execution_count": 1,
   "metadata": {},
   "outputs": [],
   "source": [
    "def inv_mod(b, p):\n",
    "    \n",
    "    if b < 0 or p <= b:\n",
    "        b = b % p\n",
    "\n",
    "    c, d = b, p\n",
    "    uc, vc, ud, vd = 1, 0, 0, 1\n",
    "    while c != 0:\n",
    "        q, c, d = divmod(d, c) + (c,)\n",
    "        uc, vc, ud, vd = ud - q * uc, vd - q * vc, uc, vc\n",
    "        \n",
    "    # 如果d==1，则报错无解    \n",
    "    assert d == 1\n",
    "    if ud > 0:\n",
    "        return ud\n",
    "    else:\n",
    "        return ud + p"
   ]
  },
  {
   "cell_type": "code",
   "execution_count": 2,
   "metadata": {},
   "outputs": [
    {
     "data": {
      "text/plain": [
       "12"
      ]
     },
     "execution_count": 2,
     "metadata": {},
     "output_type": "execute_result"
    }
   ],
   "source": [
    "inv_mod(2,23)"
   ]
  },
  {
   "cell_type": "code",
   "execution_count": 3,
   "metadata": {},
   "outputs": [
    {
     "data": {
      "text/plain": [
       "13"
      ]
     },
     "execution_count": 3,
     "metadata": {},
     "output_type": "execute_result"
    }
   ],
   "source": [
    "3*inv_mod(2,23)%23"
   ]
  },
  {
   "cell_type": "markdown",
   "metadata": {},
   "source": [
    "有限域$F_p$的椭圆曲线$E_p(a,b)$的方程为$$\\begin{array}{ccc} \n",
    "y^2 = x^3+ax+b(modp) \\\\\n",
    "4a^2+27b^2 \\neq 0(modp)\n",
    "\\end{array}$$其中，$x,y \\in [0, p-1]$\n",
    "曲线上的点还遵循以下法则：  \n",
    "1. 无穷远点$\\infty$为零元，$\\infty+\\infty=\\infty,P+\\infty=\\infty$\n",
    "2. 点$P(x,y)$的负元是$(x, -y(modp))=(x,p-y),P+(-P)=\\infty$\n",
    "3. 点$P(x_1,y_1)$和点$Q(x_2,y_2)$，与点$R(x_3,y_3)$的关系为$$\\begin{array}{ccc} \n",
    "x_3=l^2-x_1-x_2(modp) \\\\\n",
    "y_3=l(x_1-x_3)-y_1(modp)\n",
    "\\end{array}$$其中，$$\\left\\{ \\begin{array}{ll}\n",
    "l = (y_2-y_1) \\times (x_2-x_1)^{-1}(modp) & 如果P \\neq Q \\\\\n",
    "l = (3x_1^2+a) \\times (2y_1)^{-1}(modp)  &  如果P=Q\n",
    "\\end{array} \\right.$$"
   ]
  },
  {
   "cell_type": "markdown",
   "metadata": {},
   "source": [
    "### 展示椭圆曲线上的点"
   ]
  },
  {
   "cell_type": "markdown",
   "metadata": {},
   "source": [
    "求椭圆曲线$E_29：y^2=x^3+4x+20(mod29)$上的所有点"
   ]
  },
  {
   "cell_type": "code",
   "execution_count": 4,
   "metadata": {},
   "outputs": [],
   "source": [
    "def show_points(p,a,b):\n",
    "    return [(x, y) for x in range(p) for y in range(p)\n",
    "            if (y*y-(x*x*x+a*x+b))%p ==0]"
   ]
  },
  {
   "cell_type": "code",
   "execution_count": 5,
   "metadata": {},
   "outputs": [
    {
     "data": {
      "text/plain": [
       "[(0, 7),\n",
       " (0, 22),\n",
       " (1, 5),\n",
       " (1, 24),\n",
       " (2, 6),\n",
       " (2, 23),\n",
       " (3, 1),\n",
       " (3, 28),\n",
       " (4, 10),\n",
       " (4, 19),\n",
       " (5, 7),\n",
       " (5, 22),\n",
       " (6, 12),\n",
       " (6, 17),\n",
       " (8, 10),\n",
       " (8, 19),\n",
       " (10, 4),\n",
       " (10, 25),\n",
       " (13, 6),\n",
       " (13, 23),\n",
       " (14, 6),\n",
       " (14, 23),\n",
       " (15, 2),\n",
       " (15, 27),\n",
       " (16, 2),\n",
       " (16, 27),\n",
       " (17, 10),\n",
       " (17, 19),\n",
       " (19, 13),\n",
       " (19, 16),\n",
       " (20, 3),\n",
       " (20, 26),\n",
       " (24, 7),\n",
       " (24, 22),\n",
       " (27, 2),\n",
       " (27, 27)]"
      ]
     },
     "execution_count": 5,
     "metadata": {},
     "output_type": "execute_result"
    }
   ],
   "source": [
    "show_points(p=29, a=4, b=20)"
   ]
  },
  {
   "cell_type": "markdown",
   "metadata": {},
   "source": [
    "---\n",
    "已知椭圆曲线$E_5：y^2=x^3+2x+3(mod5)$，试计算$(1,4)+(3,1)$，以及$(1,4) \\times 2$"
   ]
  },
  {
   "cell_type": "markdown",
   "metadata": {},
   "source": [
    "### 倍点运算"
   ]
  },
  {
   "cell_type": "code",
   "execution_count": 6,
   "metadata": {},
   "outputs": [],
   "source": [
    "def double(x,y,p,a,b):\n",
    "    l = ((3 * x * x + a) * inv_mod(2 * y,p)) % p\n",
    "    x3 = (l * l -2 * x) % p\n",
    "    y3 = (l *(x - x3) - y) % p\n",
    "    return x3,y3"
   ]
  },
  {
   "cell_type": "code",
   "execution_count": 7,
   "metadata": {},
   "outputs": [
    {
     "data": {
      "text/plain": [
       "(3, 1)"
      ]
     },
     "execution_count": 7,
     "metadata": {},
     "output_type": "execute_result"
    }
   ],
   "source": [
    "double(1,4,p=5,a=2,b=3)"
   ]
  },
  {
   "cell_type": "markdown",
   "metadata": {},
   "source": [
    "### 加法运算"
   ]
  },
  {
   "cell_type": "code",
   "execution_count": 8,
   "metadata": {},
   "outputs": [],
   "source": [
    "def add(x1,y1,x2,y2,p,a,b):\n",
    "\n",
    "    if x1 == x2 and y1 == y2:\n",
    "        return double(x1,y1,p,a,b)\n",
    "\n",
    "    l = ((y2 - y1) * inv_mod(x2 - x1,p)) % p\n",
    "    x3 = (l * l - x1 - x2) % p\n",
    "    y3 = (l * (x1 - x3) - y1) % p\n",
    "    return x3,y3"
   ]
  },
  {
   "cell_type": "code",
   "execution_count": 9,
   "metadata": {},
   "outputs": [
    {
     "data": {
      "text/plain": [
       "(2, 0)"
      ]
     },
     "execution_count": 9,
     "metadata": {},
     "output_type": "execute_result"
    }
   ],
   "source": [
    "add(1,4,3,1,p=5, a=2, b=3)"
   ]
  },
  {
   "cell_type": "markdown",
   "metadata": {},
   "source": [
    "### 数乘运算"
   ]
  },
  {
   "cell_type": "markdown",
   "metadata": {},
   "source": [
    "第1步，反向获取n的二进制数每一位的集合"
   ]
  },
  {
   "cell_type": "code",
   "execution_count": 10,
   "metadata": {},
   "outputs": [],
   "source": [
    "def get_bits(n):\n",
    "    bits = []\n",
    "    while n != 0:\n",
    "        bits.append(n & 1)\n",
    "        n >>= 1\n",
    "    return bits"
   ]
  },
  {
   "cell_type": "code",
   "execution_count": 11,
   "metadata": {},
   "outputs": [],
   "source": [
    "from simchain.ecc import Point, CurveFp\n",
    "# 设置椭圆曲线参数\n",
    "p, a, b = 29, 4, 20\n",
    "# 定义一条椭圆曲线\n",
    "curve = CurveFp(p, a, b)\n",
    "# 选择椭圆曲线上的一个点\n",
    "p0 = Point(curve, 3, 1)"
   ]
  },
  {
   "cell_type": "code",
   "execution_count": 12,
   "metadata": {},
   "outputs": [
    {
     "data": {
      "text/plain": [
       "(24,7)"
      ]
     },
     "execution_count": 12,
     "metadata": {},
     "output_type": "execute_result"
    }
   ],
   "source": [
    "# 计算2倍点\n",
    "p0 * 2"
   ]
  },
  {
   "cell_type": "code",
   "execution_count": 13,
   "metadata": {},
   "outputs": [
    {
     "data": {
      "text/plain": [
       "(15,27)"
      ]
     },
     "execution_count": 13,
     "metadata": {},
     "output_type": "execute_result"
    }
   ],
   "source": [
    "# 计算20倍\n",
    "p0 * 20"
   ]
  },
  {
   "cell_type": "markdown",
   "metadata": {},
   "source": [
    "例：已知有限域上的椭圆曲线$E_{37}：y^2 = x^3 -x+3(mod7)$，求点$P(2,3)$的阶"
   ]
  },
  {
   "cell_type": "code",
   "execution_count": 14,
   "metadata": {},
   "outputs": [
    {
     "name": "stdout",
     "output_type": "stream",
     "text": [
      "n = 7\n",
      "p1 = (2,34)\n",
      "p1+p0 = infinity\n"
     ]
    }
   ],
   "source": [
    "# 设置参数\n",
    "p, a, b = 37, -1, 3\n",
    "# 定义椭圆曲线\n",
    "curve = CurveFp(p, a, b)\n",
    "# 定义P\n",
    "p0 = Point(curve, 2, 3)\n",
    "# 定义-P\n",
    "_p0 = Point(curve, 2, 34)\n",
    "p1 = p0\n",
    "# 从2倍开始计算\n",
    "n = 2\n",
    "while p1 != _p0:\n",
    "    p1 = n*p0\n",
    "    n += 1\n",
    "print(\"n = {0}\".format(n))\n",
    "print(\"p1 = {0}\".format(p1))\n",
    "print(\"p1+p0 = {0}\".format(p1+p0))"
   ]
  },
  {
   "cell_type": "markdown",
   "metadata": {},
   "source": [
    "由上可知点$P(2,3)$的阶为8，因为$8P=\\infty$"
   ]
  }
 ],
 "metadata": {
  "kernelspec": {
   "display_name": "Python 3",
   "language": "python",
   "name": "python3"
  },
  "language_info": {
   "codemirror_mode": {
    "name": "ipython",
    "version": 3
   },
   "file_extension": ".py",
   "mimetype": "text/x-python",
   "name": "python",
   "nbconvert_exporter": "python",
   "pygments_lexer": "ipython3",
   "version": "3.7.2"
  },
  "toc": {
   "base_numbering": 1,
   "nav_menu": {},
   "number_sections": false,
   "sideBar": true,
   "skip_h1_title": false,
   "title_cell": "Table of Contents",
   "title_sidebar": "Contents",
   "toc_cell": false,
   "toc_position": {},
   "toc_section_display": true,
   "toc_window_display": false
  }
 },
 "nbformat": 4,
 "nbformat_minor": 1
}
