{
 "cells": [
  {
   "cell_type": "markdown",
   "metadata": {
    "collapsed": true
   },
   "source": [
    "# 创建交易"
   ]
  },
  {
   "cell_type": "markdown",
   "metadata": {},
   "source": [
    "## 1.定位指针Point\n",
    "根据标准交易格式，输入单元指向交易创建者的UTXO，该UTXO对应于区块链中某笔交易的第某个输出单元。由于每笔交易都有唯一的编号，于是定义Simchian中最简单的自定义数据结构，指向UTXO在区块链中的定位指针Pointer。"
   ]
  },
  {
   "cell_type": "code",
   "execution_count": 1,
   "metadata": {},
   "outputs": [],
   "source": [
    "class Pointer(tuple):\n",
    "    \n",
    "    # 初始输入参数为交易编号，UTXO为在交易输出中的索引\n",
    "    def __new__(cls,tx_id,n):\n",
    "        # 初始化参数为tx_id, n\n",
    "        return super(Pointer,cls).__new__(cls,(tx_id,n))\n",
    "    \n",
    "    # 交易编号\n",
    "    @property\n",
    "    def tx_id(self):\n",
    "        return self[0]\n",
    "    \n",
    "    # 输出单元索引\n",
    "    @property\n",
    "    def n(self):\n",
    "        return self[1]\n",
    "    \n",
    "    def __repr__(self):\n",
    "        return \"Pointer(tx_id:{0},n:{1})\".format(self[0],self[1])"
   ]
  },
  {
   "cell_type": "code",
   "execution_count": 2,
   "metadata": {},
   "outputs": [],
   "source": [
    "from simchain import Network, Pointer, sha256d"
   ]
  },
  {
   "cell_type": "code",
   "execution_count": 3,
   "metadata": {},
   "outputs": [
    {
     "data": {
      "text/plain": [
       "Pointer(tx_id:1,n:2)"
      ]
     },
     "execution_count": 3,
     "metadata": {},
     "output_type": "execute_result"
    }
   ],
   "source": [
    "# 创建一个定位指针\n",
    "p = Pointer(1, 2)\n",
    "p"
   ]
  },
  {
   "cell_type": "code",
   "execution_count": 4,
   "metadata": {},
   "outputs": [
    {
     "name": "stderr",
     "output_type": "stream",
     "text": [
      "2019-05-17 14:16:55,225 - A blockchain p2p network created,12 peers joined\n",
      "2019-05-17 14:16:55,241 - genesis block has been generated\n"
     ]
    },
    {
     "data": {
      "text/plain": [
       "1"
      ]
     },
     "execution_count": 4,
     "metadata": {},
     "output_type": "execute_result"
    }
   ],
   "source": [
    "# 创建一个P2P网络\n",
    "net = Network()\n",
    "# 将0号节点命名为张三\n",
    "zhangsan = net.peers[0]\n",
    "# 张三只有一个UTXO\n",
    "len(zhangsan.get_utxo())"
   ]
  },
  {
   "cell_type": "code",
   "execution_count": 5,
   "metadata": {},
   "outputs": [
    {
     "data": {
      "text/plain": [
       "Pointer(tx_id:1816e0f3f29092910fc879cd7bf0618273a39e0456dfda1636e87434f58ef14a,n:0)"
      ]
     },
     "execution_count": 5,
     "metadata": {},
     "output_type": "execute_result"
    }
   ],
   "source": [
    "# 获取张三的UTXO\n",
    "utxo = zhangsan.get_utxo()[0]\n",
    "# 获取张三UTXO的定位指针\n",
    "utxo.pointer"
   ]
  },
  {
   "cell_type": "code",
   "execution_count": 6,
   "metadata": {},
   "outputs": [
    {
     "data": {
      "text/plain": [
       "100000"
      ]
     },
     "execution_count": 6,
     "metadata": {},
     "output_type": "execute_result"
    }
   ],
   "source": [
    "# 获取张三的UTXO金额\n",
    "utxo.vout.value"
   ]
  },
  {
   "cell_type": "code",
   "execution_count": 7,
   "metadata": {},
   "outputs": [
    {
     "data": {
      "text/plain": [
       "[Tx(id:1816e0f3f29092910fc879cd7bf0618273a39e0456dfda1636e87434f58ef14a)]"
      ]
     },
     "execution_count": 7,
     "metadata": {},
     "output_type": "execute_result"
    }
   ],
   "source": [
    "# 获取创世区块中的交易\n",
    "txs = zhangsan.blockchain[0].txs\n",
    "txs"
   ]
  },
  {
   "cell_type": "code",
   "execution_count": 8,
   "metadata": {},
   "outputs": [
    {
     "data": {
      "text/plain": [
       "Vout(to_addr:1HYCEuvH5g8j4siKtYqVwov6xaSFnLgXD9,value:100000)"
      ]
     },
     "execution_count": 8,
     "metadata": {},
     "output_type": "execute_result"
    }
   ],
   "source": [
    "# 获取交易的第一个输出单元\n",
    "txs[0].tx_out[0]"
   ]
  },
  {
   "cell_type": "code",
   "execution_count": 9,
   "metadata": {},
   "outputs": [
    {
     "data": {
      "text/plain": [
       "'1HYCEuvH5g8j4siKtYqVwov6xaSFnLgXD9'"
      ]
     },
     "execution_count": 9,
     "metadata": {},
     "output_type": "execute_result"
    }
   ],
   "source": [
    "# 指向张三的地址\n",
    "zhangsan.addr"
   ]
  },
  {
   "cell_type": "markdown",
   "metadata": {},
   "source": [
    "## 2.输入单元Vin\n",
    "交易输入和输出的数量是不固定的，是输入单元和输出单元的集合。定义输入单元和输出单元数据结构。"
   ]
  },
  {
   "cell_type": "code",
   "execution_count": 10,
   "metadata": {},
   "outputs": [],
   "source": [
    "class Vin(tuple):\n",
    "    \n",
    "    # 初始输入参数，定位指针、公钥和签名\n",
    "    def __new__(cls,to_spend,signature,pubkey):\n",
    "        return super(cls,Vin).__new__(cls,(to_spend,signature,pubkey))\n",
    "        \n",
    "    # 输入单元使用的UTXO在区块链中的定位\n",
    "    @property\n",
    "    def to_spend(self):\n",
    "        return self[0]\n",
    "    \n",
    "    # 数字签名\n",
    "    @property\n",
    "    def signature(self):\n",
    "        return self[1]\n",
    "    \n",
    "    # 公钥\n",
    "    @property\n",
    "    def pubkey(self):\n",
    "        return self[2]\n",
    "\n",
    "    # 签名脚本\n",
    "    @property\n",
    "    def sig_script(self):\n",
    "        return self[1]+self[2]\n",
    "\n",
    "    def __repr__(self):\n",
    "        return \"Vin(to_spend:{0}, signature:{1}, pubkey:{2})\".format(self[0],self[1],self[2])"
   ]
  },
  {
   "cell_type": "code",
   "execution_count": 11,
   "metadata": {},
   "outputs": [
    {
     "data": {
      "text/plain": [
       "Vin(to_spend:1,signature:2,pubkey:3)"
      ]
     },
     "execution_count": 11,
     "metadata": {},
     "output_type": "execute_result"
    }
   ],
   "source": [
    "from simchain import Vin\n",
    "# 创建一个输入单元\n",
    "vin = Vin(1, 2, 3)\n",
    "vin"
   ]
  },
  {
   "cell_type": "code",
   "execution_count": 12,
   "metadata": {},
   "outputs": [
    {
     "name": "stderr",
     "output_type": "stream",
     "text": [
      "2019-05-17 14:16:56,131 - peer(6, 3)(pid=0) created a transaction\n"
     ]
    },
    {
     "data": {
      "text/plain": [
       "Vin(to_spend:Pointer(tx_id:1816e0f3f29092910fc879cd7bf0618273a39e0456dfda1636e87434f58ef14a,n:0),signature:b'\\x10\\xf4y!\\xf6\\xe9\\xe4u\\xec\\xd9X\\xf1\\xab,\\xd0b\\xb7\\x1cI\\xb8\\xe6\\xe0nf\\x8a\\x9a\\xdb`\\x0c\\x070\\x05Ja!,\\xcam)\\x9d\\xe1\\xcf\\xb1d\\xa6\\xe6\\xc4j\\x86 \\x98ZX)*D}~\\x18^\\xa1&0\\xfa',pubkey:b'\\xf7\\x98\\x12\\x8d\\xc2W\\x07\\xa1l!,\\xa2\\x8c~5\\xb9Z\\xf8\\x99\\xb3\\x97b\\xeb;\\x1e\\x9e\\xaf\\xed\\xda\\xfaREW\\xd2\\xd6\\x1f\\x02=\\xc2\\x9f[\\xb8J\\x89\\xd40\\xfa;\\xd6\\xf1\\x93\\x14y\\xee/\\xce\\xcc\\x15\\x9bH\\xcd\\x8cf\\x83')"
      ]
     },
     "execution_count": 12,
     "metadata": {},
     "output_type": "execute_result"
    }
   ],
   "source": [
    "# 将4号节点命名为李四\n",
    "lisi = net.peers[4]\n",
    "# 张三给李四转账100\n",
    "zhangsan.create_transaction(lisi.wallet.addrs[-1], 100)\n",
    "# 获取张三创建的当前交易\n",
    "tx = zhangsan.txs[0]\n",
    "# 获取交易的第一个输出单元Vin\n",
    "tx.tx_in[0]"
   ]
  },
  {
   "cell_type": "markdown",
   "metadata": {},
   "source": [
    "## 3.输出单元Vout"
   ]
  },
  {
   "cell_type": "code",
   "execution_count": 13,
   "metadata": {},
   "outputs": [],
   "source": [
    "class Vout(tuple):\n",
    "    \n",
    "    def __new__(cls,to_addr,value):\n",
    "        return super(Vout,cls).__new__(cls,(to_addr,value))\n",
    "        \n",
    "    # 交易接收者的地址    \n",
    "    @property\n",
    "    def to_addr(self):\n",
    "        return self[0]\n",
    "    \n",
    "    # 转账金额\n",
    "    @property\n",
    "    def value(self):\n",
    "        return self[1]\n",
    "\n",
    "    # 公钥脚本\n",
    "    @property\n",
    "    def pubkey_script(self):\n",
    "        script = \"OP_DUP OP_ADDR {0} OP_EQ OP_CHECKSIG\".format(self[0])\n",
    "        return script\n",
    "\n",
    "    def __repr__(self):\n",
    "        return \"Vout(to_addr:{0},value:{1})\".format(self[0],self[1])"
   ]
  },
  {
   "cell_type": "code",
   "execution_count": 14,
   "metadata": {},
   "outputs": [
    {
     "data": {
      "text/plain": [
       "Vout(to_addr:11,value:100)"
      ]
     },
     "execution_count": 14,
     "metadata": {},
     "output_type": "execute_result"
    }
   ],
   "source": [
    "from simchain import Vout\n",
    "vout = Vout(11, 100)\n",
    "vout"
   ]
  },
  {
   "cell_type": "code",
   "execution_count": 15,
   "metadata": {},
   "outputs": [
    {
     "data": {
      "text/plain": [
       "Vout(to_addr:1NYvthL4HG9crMXJGCFjKGCT7xCQQWVZNr,value:100)"
      ]
     },
     "execution_count": 15,
     "metadata": {},
     "output_type": "execute_result"
    }
   ],
   "source": [
    "# 交易输出的第1个输出单元\n",
    "tx.tx_out[0]"
   ]
  },
  {
   "cell_type": "code",
   "execution_count": 16,
   "metadata": {},
   "outputs": [
    {
     "data": {
      "text/plain": [
       "Vout(to_addr:1HYCEuvH5g8j4siKtYqVwov6xaSFnLgXD9,value:99890)"
      ]
     },
     "execution_count": 16,
     "metadata": {},
     "output_type": "execute_result"
    }
   ],
   "source": [
    "# 第2个交易输出单元，指向张三自己地址的UTXO，10分的交易费\n",
    "tx.tx_out[1]"
   ]
  },
  {
   "cell_type": "markdown",
   "metadata": {},
   "source": [
    "## 4.交易Tx\n",
    "交易由输入和输出组成，将其定义为Tx。"
   ]
  },
  {
   "cell_type": "code",
   "execution_count": 17,
   "metadata": {},
   "outputs": [],
   "source": [
    "class Tx(tuple):\n",
    "    \n",
    "    # 输入初始参数\n",
    "    def __new__(cls,tx_in,tx_out,fee=0,timestamp=0,nlocktime=0):\n",
    "        return super(Tx,cls).__new__(cls,(tx_in,\n",
    "                                          tx_out,\n",
    "                                          fee,\n",
    "                                          timestamp,\n",
    "                                          nlocktime))\n",
    "    \n",
    "    # 交易输入\n",
    "    @property\n",
    "    def tx_in(self):\n",
    "        return self[0]\n",
    "    \n",
    "    # 交易输出\n",
    "    @property\n",
    "    def tx_out(self):\n",
    "        return self[1]\n",
    "    \n",
    "    # 交易费\n",
    "    @property\n",
    "    def fee(self):\n",
    "        return self[2]\n",
    "    \n",
    "    # 交易锁定时间\n",
    "    @property\n",
    "    def nlocktime(self):\n",
    "        return self[3]\n",
    "    \n",
    "    # 是否为创币交易\n",
    "    @property\n",
    "    def is_coinbase(self) -> bool:\n",
    "        return len(self[0]) == 1 and self[0][0].to_spend is None\n",
    "\n",
    "    # 定义类方法，返回一个创币交易，创币交易只有一个Vin和Vout\n",
    "    # Vin的定位指针为空，签名是一个32字节的系统随机数，Vout指向获胜节点的地址\n",
    "    @classmethod\n",
    "    def create_coinbase(cls, pay_to_addr, value):\n",
    "        import os\n",
    "        return cls(\n",
    "            tx_in = [Vin(to_spend=None,\n",
    "                         signature= str(os.urandom(32)),\n",
    "                         pubkey=None)],\n",
    "            tx_out = [Vout(to_addr=pay_to_addr,\n",
    "                           value=value)]\n",
    "            )\n",
    "\n",
    "    # 交易编号，调用eec.py模块中的sha256d双哈希函数，对交易数据进行哈希运算\n",
    "    @property\n",
    "    def id(self):\n",
    "        return sha256d(self.to_string())\n",
    "    \n",
    "    def to_string(self):\n",
    "        return \"{0}{1}{2}\".format(self[0],\n",
    "                                  self[1],\n",
    "                                  self[3])\n",
    "\n",
    "    def __repr__(self):\n",
    "        return \"Tx(id:{0})\".format(self.id)"
   ]
  },
  {
   "cell_type": "code",
   "execution_count": 18,
   "metadata": {},
   "outputs": [
    {
     "data": {
      "text/plain": [
       "Tx(id:aadd7b0c9ed66235a33514ea8ac2c7be35deba97d8c2b7e801384c9ec0b95c9c)"
      ]
     },
     "execution_count": 18,
     "metadata": {},
     "output_type": "execute_result"
    }
   ],
   "source": [
    "from simchain import Pointer, Vin, Vout, Tx\n",
    "# 创建一个Pointer\n",
    "pointer = Pointer(2, 3)\n",
    "# 创建一个Vin\n",
    "vin = Vin(pointer, 2, 3)\n",
    "# 创建一个Vout\n",
    "vout = Vout(2, 4)\n",
    "# 创建交易\n",
    "tx = Tx([vin], [vout])\n",
    "tx"
   ]
  },
  {
   "cell_type": "markdown",
   "metadata": {},
   "source": [
    "如果修改定位指针Pointer，则交易的编号会发生变化。"
   ]
  },
  {
   "cell_type": "code",
   "execution_count": 19,
   "metadata": {},
   "outputs": [
    {
     "data": {
      "text/plain": [
       "Tx(id:f65798a2e3081198775ad6a424df37e356e70cce7468e19e6434bf95a9269f93)"
      ]
     },
     "execution_count": 19,
     "metadata": {},
     "output_type": "execute_result"
    }
   ],
   "source": [
    "pointer1 = Pointer(3, 4)\n",
    "vin1 = Vin(pointer1, 2, 3)\n",
    "tx.tx_in[0] = vin1\n",
    "tx"
   ]
  },
  {
   "cell_type": "markdown",
   "metadata": {},
   "source": [
    "直接调用类方法create_coinase()创建一个创币交易"
   ]
  },
  {
   "cell_type": "code",
   "execution_count": 20,
   "metadata": {},
   "outputs": [
    {
     "data": {
      "text/plain": [
       "Tx(id:1829c7e4c6eeb0cde88049f9555f4b955b9d50078d66c27f2c76da018a176752)"
      ]
     },
     "execution_count": 20,
     "metadata": {},
     "output_type": "execute_result"
    }
   ],
   "source": [
    "# 输入获胜矿工地址和金额\n",
    "base = Tx.create_coinbase(1, 20)\n",
    "base"
   ]
  },
  {
   "cell_type": "markdown",
   "metadata": {},
   "source": [
    "## 5.UTXO和UTXO集\n",
    "建立单独的微型交易数据库，仅存储和自己有关的交易。每个节点将自己区块链中所有的UTXO独立存储在一个数据集中，称为UTXO集，用UTXO_SET表示，将微型交易数据库中指向自己地址的输出单元封装成UTXO，用OWN_UTXO_SET表示。当节点需要创建交易时，从OWN_UTXO_SET中查找，但当节点需要验证某笔交易使用的UTXO是否有效时，只能从UTXO_SET中查找。"
   ]
  },
  {
   "cell_type": "code",
   "execution_count": 21,
   "metadata": {},
   "outputs": [],
   "source": [
    "class UTXO(tuple):\n",
    "    \n",
    "    # 输入长寿为输出单元Vout，Vout在区块链中的定位指针Pointer，是否来自创币交易以及是否被消费和确认，两种状态有默认值\n",
    "    def __new__(cls,\n",
    "                vout,\n",
    "                pointer,\n",
    "                is_coinbase,\n",
    "                unspent=True,\n",
    "                confirmed=False,\n",
    "                ):\n",
    "        return super(UTXO,cls).__new__(cls,(vout,\n",
    "                                            pointer,\n",
    "                                            is_coinbase,\n",
    "                                            unspent,\n",
    "                                            confirmed))\n",
    "        \n",
    "    # 该UTXO封装的输出单元\n",
    "    @property\n",
    "    def vout(self):\n",
    "        return self[0]\n",
    "    \n",
    "    # 输出单元在区块链中的定位\n",
    "    @property\n",
    "    def pointer(self):\n",
    "        return self[1]\n",
    "    \n",
    "    # 封装的输出单元是否来自创币交易\n",
    "    @property\n",
    "    def is_coinbase(self):\n",
    "        return self[2]\n",
    "\n",
    "    # 公钥脚本，与输出单元的公钥脚本一致\n",
    "    @property\n",
    "    def pubkey_script(self):\n",
    "        return self[0].pubkey_script\n",
    "\n",
    "    # 是否被消费\n",
    "    @property\n",
    "    def unspent(self):\n",
    "        return self[3]\n",
    "\n",
    "    # 是否被确认\n",
    "    @property\n",
    "    def confirmed(self):\n",
    "        return self[4]\n",
    "\n",
    "    # 返回新的UTXO，修改原UTXO的两个状态\n",
    "    def _replace(self,unspent = True, confirmed = False):\n",
    "        return UTXO(self[0],self[1],self[2],unspent,confirmed)\n",
    "    \n",
    "    def __repr__(self):\n",
    "        return \"UTXO(vout:{0},pointer:{1})\".format(self[0],self[1])"
   ]
  },
  {
   "cell_type": "code",
   "execution_count": 22,
   "metadata": {},
   "outputs": [],
   "source": [
    "# 创建一个定位指针\n",
    "pointer = Pointer(3, 4)\n",
    "# 创建一个输出单元\n",
    "vout = Vout(2, 100)"
   ]
  },
  {
   "cell_type": "code",
   "execution_count": 23,
   "metadata": {},
   "outputs": [
    {
     "data": {
      "text/plain": [
       "UTXO(vout:Vout(to_addr:2,value:100),pointer:Pointer(tx_id:3,n:4))"
      ]
     },
     "execution_count": 23,
     "metadata": {},
     "output_type": "execute_result"
    }
   ],
   "source": [
    "from simchain import UTXO\n",
    "# 创建一个UTXO对象\n",
    "utxo = UTXO(vout, pointer, False)\n",
    "utxo"
   ]
  },
  {
   "cell_type": "code",
   "execution_count": 24,
   "metadata": {},
   "outputs": [
    {
     "data": {
      "text/plain": [
       "(False, True)"
      ]
     },
     "execution_count": 24,
     "metadata": {},
     "output_type": "execute_result"
    }
   ],
   "source": [
    "# 创建一个新的UTXO对象，替换原UTXO的状态\n",
    "utxo1 = utxo._replace(False, True)\n",
    "utxo1.unspent, utxo1.confirmed"
   ]
  },
  {
   "cell_type": "code",
   "execution_count": 25,
   "metadata": {},
   "outputs": [
    {
     "data": {
      "text/plain": [
       "(True, False)"
      ]
     },
     "execution_count": 25,
     "metadata": {},
     "output_type": "execute_result"
    }
   ],
   "source": [
    "# 原UTXO状态并没有改变\n",
    "utxo.unspent, utxo.confirmed"
   ]
  },
  {
   "cell_type": "code",
   "execution_count": 26,
   "metadata": {},
   "outputs": [
    {
     "name": "stderr",
     "output_type": "stream",
     "text": [
      "2019-05-17 14:16:58,236 - A new peer joined in --> peer(75, 77)(pid=12)\n",
      "2019-05-17 14:16:58,282 - peer(6, 3)(pid=0) created a transaction\n"
     ]
    },
    {
     "data": {
      "text/plain": [
       "True"
      ]
     },
     "execution_count": 26,
     "metadata": {},
     "output_type": "execute_result"
    }
   ],
   "source": [
    "# 网络中添加新节点\n",
    "net.add_peer()\n",
    "# 将新节点命名为王五\n",
    "wangwu = net.peers[-1]\n",
    "# 张三给王五转账\n",
    "zhangsan.create_transaction(wangwu.wallet.addrs[-1], 100)"
   ]
  },
  {
   "cell_type": "code",
   "execution_count": 27,
   "metadata": {},
   "outputs": [
    {
     "name": "stderr",
     "output_type": "stream",
     "text": [
      "2019-05-17 14:16:58,415 - peer(6, 3)(pid=0) sent a transaction to network\n",
      "2019-05-17 14:16:59,361 - peer(6, 3)(pid=0)'s transaction verified by 12 peers\n"
     ]
    },
    {
     "data": {
      "text/plain": [
       "12"
      ]
     },
     "execution_count": 27,
     "metadata": {},
     "output_type": "execute_result"
    }
   ],
   "source": [
    "# 张三将交易广播到网络中\n",
    "zhangsan.broadcast_transaction()"
   ]
  },
  {
   "cell_type": "code",
   "execution_count": 28,
   "metadata": {},
   "outputs": [
    {
     "data": {
      "text/plain": [
       "[UTXO(vout:Vout(to_addr:1HYCEuvH5g8j4siKtYqVwov6xaSFnLgXD9,value:99890),pointer:Pointer(tx_id:55e190ede2154d5c612f0c3e221354f37bacd4623341af50c2df4cdfdb9a4ec5,n:1))]"
      ]
     },
     "execution_count": 28,
     "metadata": {},
     "output_type": "execute_result"
    }
   ],
   "source": [
    "# 获取张三未确认的UTXO\n",
    "zhangsan.get_unconfirmed_utxo()"
   ]
  },
  {
   "cell_type": "code",
   "execution_count": 29,
   "metadata": {},
   "outputs": [
    {
     "data": {
      "text/plain": [
       "[UTXO(vout:Vout(to_addr:1FaAoyp2KikHamJhKRHufUeHnPzewGXDBH,value:100),pointer:Pointer(tx_id:55e190ede2154d5c612f0c3e221354f37bacd4623341af50c2df4cdfdb9a4ec5,n:0))]"
      ]
     },
     "execution_count": 29,
     "metadata": {},
     "output_type": "execute_result"
    }
   ],
   "source": [
    "# 获取王五未确认的UTXO，来自同一条交易\n",
    "wangwu_utxo = wangwu.get_unconfirmed_utxo()\n",
    "wangwu_utxo"
   ]
  },
  {
   "cell_type": "code",
   "execution_count": 30,
   "metadata": {},
   "outputs": [
    {
     "name": "stderr",
     "output_type": "stream",
     "text": [
      "2019-05-17 14:16:59,559 - 6 peers are mining\n",
      "2019-05-17 14:17:09,526 - peer(33, 46)(pid=10) is winner,9.966892004013062 secs used\n",
      "2019-05-17 14:17:10,513 - Block(hash:000017a1b83a7a51a03fbe5c48683a2d8580ae79e69731bb38480a8b228a3ef2) received by 12 peers\n"
     ]
    }
   ],
   "source": [
    "# 达成共识\n",
    "net.consensus()"
   ]
  },
  {
   "cell_type": "code",
   "execution_count": 31,
   "metadata": {},
   "outputs": [
    {
     "data": {
      "text/plain": [
       "[]"
      ]
     },
     "execution_count": 31,
     "metadata": {},
     "output_type": "execute_result"
    }
   ],
   "source": [
    "# 获取张三未确认的UTXO\n",
    "zhangsan.get_unconfirmed_utxo()"
   ]
  },
  {
   "cell_type": "code",
   "execution_count": 32,
   "metadata": {},
   "outputs": [
    {
     "data": {
      "text/plain": [
       "[]"
      ]
     },
     "execution_count": 32,
     "metadata": {},
     "output_type": "execute_result"
    }
   ],
   "source": [
    "# 获取王五未确认的UTXO\n",
    "wangwu.get_unconfirmed_utxo()"
   ]
  },
  {
   "cell_type": "markdown",
   "metadata": {},
   "source": [
    "Simchain中的UTXO_SET使用字典存储，元素key为UTXO对象的定位指针Pointer，这样可以方便地根据定位指针来查找UTXO。每个完整节点都有全网UTXO_SET备份，和区块链数据同步的。"
   ]
  },
  {
   "cell_type": "code",
   "execution_count": 33,
   "metadata": {},
   "outputs": [
    {
     "data": {
      "text/plain": [
       "UTXO(vout:Vout(to_addr:1FaAoyp2KikHamJhKRHufUeHnPzewGXDBH,value:100),pointer:Pointer(tx_id:55e190ede2154d5c612f0c3e221354f37bacd4623341af50c2df4cdfdb9a4ec5,n:0))"
      ]
     },
     "execution_count": 33,
     "metadata": {},
     "output_type": "execute_result"
    }
   ],
   "source": [
    "pointer = Pointer(wangwu_utxo[0].pointer.tx_id, 0)\n",
    "wangwu.utxo_set[pointer]"
   ]
  },
  {
   "cell_type": "code",
   "execution_count": 34,
   "metadata": {},
   "outputs": [
    {
     "data": {
      "text/plain": [
       "dict"
      ]
     },
     "execution_count": 34,
     "metadata": {},
     "output_type": "execute_result"
    }
   ],
   "source": [
    "type(wangwu.utxo_set)"
   ]
  },
  {
   "cell_type": "markdown",
   "metadata": {},
   "source": [
    "## 一般交易的创建"
   ]
  },
  {
   "cell_type": "code",
   "execution_count": 35,
   "metadata": {},
   "outputs": [],
   "source": [
    "# 输入参数为创建交易节点、支付地址和支付金额\n",
    "def create_normal_tx(peer,to_addr,value) :\n",
    "    # 获取节点自己的UTXO列表和余额\n",
    "    utxos,balance = peer.get_utxo(), peer.get_balance()\n",
    "    \n",
    "    # 获取节点的交易费和钱包\n",
    "    fee,wallet = peer.fee,peer.wallet\n",
    "    \n",
    "    # 初始化交易输入和输出列表\n",
    "    tx_in,tx_out = [],[]\n",
    "    \n",
    "    # 计算总支付金额，数量为应支付金额加交易费\n",
    "    value = value + fee\n",
    "    \n",
    "    # 判断余额是否足够支付\n",
    "    if balance  < value:\n",
    "        logger.info('no enough money for transaction for {0}(pid = {1})'.format(peer,peer.pid))\n",
    "        return\n",
    "        \n",
    "    # 初始化需要使用的UTXO数量n，以及金额之和    \n",
    "    need_to_spend,n = 0,0\n",
    "    \n",
    "    # 在自己的UTXO列表中找到前n个UTXO\n",
    "    for i,utxo in enumerate(utxos):\n",
    "        need_to_spend += utxo.vout.value\n",
    "        if need_to_spend >= value:\n",
    "            n = i+1\n",
    "            break\n",
    "            \n",
    "    # 如果前n个UTXO金额之和大于应支付总金额        \n",
    "    if need_to_spend > value:\n",
    "        # 获取自己的最新地址\n",
    "        my_addr = wallet.addrs[-1]\n",
    "        # 交易输出单元为两条，分别指向接收方的地址和指向自己的地址\n",
    "        tx_out +=[Vout(to_addr,value-fee),Vout(my_addr,need_to_spend-value)]\n",
    "    \n",
    "    # 如果前n个UTXO金额之和等于应支付总金额    \n",
    "    else:\n",
    "        # 只有一条指向接收方地址的输出单元\n",
    "        tx_out += [Vout(to_addr,value-fee)]\n",
    "            \n",
    "    # 使用前n个UTXO创建交易的n个输入单元        \n",
    "    for utxo in utxos[:n]:\n",
    "        \n",
    "        # 获取当前UTXO指向的地址\n",
    "        addr = utxo.vout.to_addr\n",
    "        \n",
    "        # 在钱包中找到该地址的索引\n",
    "        idx = wallet.addrs.index(addr)\n",
    "        \n",
    "        # 找到该地址对应的私钥和公钥\n",
    "        sk,pk = wallet.keys[idx].sk,wallet.keys[idx].pk\n",
    "        \n",
    "        # 选择签名明文，为UTXO定位指针，公钥和输出单元\n",
    "        string = str(utxo.pointer) + str(pk.to_bytes()) + str(tx_out)\n",
    "        \n",
    "        # 计算明文的哈希值\n",
    "        message = build_message(string)\n",
    "        \n",
    "        # 使用私钥对明文签名\n",
    "        signature = sk.sign(message)\n",
    "        \n",
    "        # 创建单个输入单元并添加到交易输入列表\n",
    "        tx_in.append(Vin(utxo.pointer,signature,pk.to_bytes()))\n",
    "        \n",
    "    return tx_in,tx_out,fee\n",
    "    \n",
    "# 计算明文的哈希值，调用sha256d双哈希函数    \n",
    "def build_message(string):\n",
    "    return sha256d(string).encode()"
   ]
  },
  {
   "cell_type": "code",
   "execution_count": 36,
   "metadata": {},
   "outputs": [
    {
     "name": "stderr",
     "output_type": "stream",
     "text": [
      "2019-05-17 14:17:11,500 - A blockchain p2p network created,12 peers joined\n",
      "2019-05-17 14:17:11,500 - genesis block has been generated\n"
     ]
    },
    {
     "data": {
      "text/plain": [
       "[Vin(to_spend:Pointer(tx_id:48cd191d5d596a4a65f6d90cd37448ea97739fa2dc37fed0f934826f2f3db680,n:0),signature:b'\\xc7\\x0cF\\xb6B\\x8a\\xc8\\x98%`6\\xf8\\xc8\\x1c\\xe59\\xea\\x08\\x93F\\xa4\\xd2\\x00\\x9e~m\\x94B\\x97\\xbc\\x9bhf\\xe1PHq\"\\xddC2<\\xf2\\x1f\\x91\\x02[\\x8b\\xfb\\x03\\xee\\xc0k\\x14^\\x01\\x7f\\xcbP\\xa6\\xcf8\\xf7\\x9e',pubkey:b'\\x14\\x1c\\xbf\\x97\\xf8\\x82\\xb6\\xb0\\xbamx\\xfagT\\x07\\xd2m\\xb1j\\xe4\"z\\xca8\\x06\\xce\\x01\\x84v\\xaa\\xd0\\x99\\x95\\xcc\\x08\\xd1k\\xa0\\xd47\\x9a~?\\x89\\xf4\\xf5\\xbc\\xdf~tJ$\\x0e\\xc8<\\xb8\\xac\\xe9\\x80i\\xc8R\\xa7\\x18')]"
      ]
     },
     "execution_count": 36,
     "metadata": {},
     "output_type": "execute_result"
    }
   ],
   "source": [
    "from simchain import Network, Tx\n",
    "from simchain.peer import create_normal_tx\n",
    "net = Network()\n",
    "zhangsan, lisi = net.peers[0], net.peers[1]\n",
    "# 张三创建一笔交易\n",
    "results = create_normal_tx(zhangsan, lisi.addr, 100)\n",
    "# 返回交易的输入列表\n",
    "results[0]"
   ]
  },
  {
   "cell_type": "code",
   "execution_count": 37,
   "metadata": {},
   "outputs": [
    {
     "data": {
      "text/plain": [
       "[Vout(to_addr:1Kia3uVCvPyJN8C41fMhuXywxw66KtspPB,value:100),\n",
       " Vout(to_addr:14wDYis6r8Wq2kPwkXnVa5kWomonimEvCV,value:99890)]"
      ]
     },
     "execution_count": 37,
     "metadata": {},
     "output_type": "execute_result"
    }
   ],
   "source": [
    "# 返回交易的输出列表\n",
    "results[1]"
   ]
  },
  {
   "cell_type": "code",
   "execution_count": 38,
   "metadata": {},
   "outputs": [
    {
     "data": {
      "text/plain": [
       "10"
      ]
     },
     "execution_count": 38,
     "metadata": {},
     "output_type": "execute_result"
    }
   ],
   "source": [
    "# 返回交易费\n",
    "results[2]"
   ]
  },
  {
   "cell_type": "code",
   "execution_count": 39,
   "metadata": {},
   "outputs": [
    {
     "data": {
      "text/plain": [
       "Tx(id:0cb147eb5237888328bbe359d8f47b7dcaaa81e7fe8827b0dca1b65f200903aa)"
      ]
     },
     "execution_count": 39,
     "metadata": {},
     "output_type": "execute_result"
    }
   ],
   "source": [
    "# 通过输入、输出、交易费创建交易\n",
    "tx = Tx(results[0], results[1], results[2])\n",
    "tx"
   ]
  },
  {
   "cell_type": "markdown",
   "metadata": {},
   "source": [
    "交易创建好后，在广播交易之前，先将交易放进自己的交易池中，然后标记交易。"
   ]
  },
  {
   "cell_type": "code",
   "execution_count": 40,
   "metadata": {},
   "outputs": [],
   "source": [
    "# 输入参数为UTXO_SET和创建的交易\n",
    "def sign_utxo_from_tx(utxo_set,tx):\n",
    "    \n",
    "    # 遍历交易所有的输入单元Vin\n",
    "    for vin in tx.tx_in:\n",
    "        \n",
    "        # 获取Vin的定位指针\n",
    "        pointer = vin.to_spend\n",
    "        \n",
    "        # 在UTXO_SET中找到该定位指针对应的UTXO\n",
    "        utxo = utxo_set[pointer]\n",
    "        \n",
    "        # 创建一个新的UTXO，与原UTXO相比，仅仅是修改了消费状态\n",
    "        utxo = utxo._replace(unspent = False)\n",
    "        \n",
    "        # 用新的UTXO替换之前的UTXO\n",
    "        utxo_set[pointer] = utxo"
   ]
  },
  {
   "cell_type": "code",
   "execution_count": 41,
   "metadata": {},
   "outputs": [
    {
     "data": {
      "text/plain": [
       "[]"
      ]
     },
     "execution_count": 41,
     "metadata": {},
     "output_type": "execute_result"
    }
   ],
   "source": [
    "from simchain.peer import sign_utxo_from_tx\n",
    "# 对交易使用过的UTXO进行标记\n",
    "sign_utxo_from_tx(zhangsan.utxo_set, tx)\n",
    "# 张三的UTXO为空\n",
    "zhangsan.get_utxo()"
   ]
  },
  {
   "cell_type": "code",
   "execution_count": 42,
   "metadata": {},
   "outputs": [
    {
     "data": {
      "text/plain": [
       "[]"
      ]
     },
     "execution_count": 42,
     "metadata": {},
     "output_type": "execute_result"
    }
   ],
   "source": [
    "# 张三的未确认UTXO也为空\n",
    "zhangsan.get_unconfirmed_utxo()"
   ]
  },
  {
   "cell_type": "markdown",
   "metadata": {},
   "source": [
    "如果全网允许从未确认的有效交易中获取UTXO，则节点还需要将该笔交易的每个输出单元Vout封装为UTXO，加入到UTXO_SET中，但这些UTXO的状态应标记为未确认。"
   ]
  },
  {
   "cell_type": "code",
   "execution_count": 43,
   "metadata": {},
   "outputs": [],
   "source": [
    "# 输入为节点和创建的交易\n",
    "def add_tx_to_mem_pool(peer,tx):\n",
    "    \n",
    "    # 将交易添加到交易池中\n",
    "    peer.mem_pool[tx.id] = tx\n",
    "    # 如果允许从未确认的有效交易中获取UTXO\n",
    "    if peer.allow_utxo_from_pool:\n",
    "        add_utxos_from_tx_to_set(peer.utxo_set,tx)\n",
    "\n",
    "# 将封装好的UTXO添加到UTXO_SET中 \n",
    "def add_utxos_from_tx_to_set(utxo_set,tx):\n",
    "    utxos = find_utxos_from_tx(tx)\n",
    "    for utxo in utxos:\n",
    "        utxo_set[utxo.pointer] = utxo\n",
    "\n",
    "# 将交易中所有的Vout封装成UTXO，默认状态为未消费，未确认\n",
    "def find_utxos_from_tx(tx):\n",
    "    return [UTXO(vout,Pointer(tx.id,i),tx.is_coinbase)\n",
    "            for i,vout in enumerate(tx.tx_out)]"
   ]
  },
  {
   "cell_type": "code",
   "execution_count": 44,
   "metadata": {},
   "outputs": [
    {
     "data": {
      "text/plain": [
       "[UTXO(vout:Vout(to_addr:14wDYis6r8Wq2kPwkXnVa5kWomonimEvCV,value:99890),pointer:Pointer(tx_id:0cb147eb5237888328bbe359d8f47b7dcaaa81e7fe8827b0dca1b65f200903aa,n:1))]"
      ]
     },
     "execution_count": 44,
     "metadata": {},
     "output_type": "execute_result"
    }
   ],
   "source": [
    "from simchain.peer import add_tx_to_mem_pool\n",
    "add_tx_to_mem_pool(zhangsan, tx)\n",
    "# 张三的未确认UTXO\n",
    "zhangsan.get_unconfirmed_utxo()"
   ]
  },
  {
   "cell_type": "code",
   "execution_count": 45,
   "metadata": {},
   "outputs": [
    {
     "data": {
      "text/plain": [
       "{'0cb147eb5237888328bbe359d8f47b7dcaaa81e7fe8827b0dca1b65f200903aa': Tx(id:0cb147eb5237888328bbe359d8f47b7dcaaa81e7fe8827b0dca1b65f200903aa)}"
      ]
     },
     "execution_count": 45,
     "metadata": {},
     "output_type": "execute_result"
    }
   ],
   "source": [
    "# 张三的交易池中有一条交易\n",
    "zhangsan.mem_pool"
   ]
  },
  {
   "cell_type": "code",
   "execution_count": 46,
   "metadata": {},
   "outputs": [
    {
     "data": {
      "text/plain": [
       "{}"
      ]
     },
     "execution_count": 46,
     "metadata": {},
     "output_type": "execute_result"
    }
   ],
   "source": [
    "# 李四的交易池为空\n",
    "lisi.mem_pool"
   ]
  },
  {
   "cell_type": "code",
   "execution_count": 47,
   "metadata": {},
   "outputs": [
    {
     "data": {
      "text/plain": [
       "100000"
      ]
     },
     "execution_count": 47,
     "metadata": {},
     "output_type": "execute_result"
    }
   ],
   "source": [
    "# 李四的余额没变\n",
    "lisi.get_balance()"
   ]
  },
  {
   "cell_type": "code",
   "execution_count": 48,
   "metadata": {},
   "outputs": [
    {
     "data": {
      "text/plain": [
       "[]"
      ]
     },
     "execution_count": 48,
     "metadata": {},
     "output_type": "execute_result"
    }
   ],
   "source": [
    "# 李四没有未确认的UTXO，因为张三并没有广播交易\n",
    "lisi.get_unconfirmed_utxo()"
   ]
  },
  {
   "cell_type": "code",
   "execution_count": 49,
   "metadata": {},
   "outputs": [
    {
     "data": {
      "text/plain": [
       "True"
      ]
     },
     "execution_count": 49,
     "metadata": {},
     "output_type": "execute_result"
    }
   ],
   "source": [
    "# 李四验证交易有效\n",
    "lisi.verify_transaction(tx, lisi.mem_pool)"
   ]
  },
  {
   "cell_type": "code",
   "execution_count": 50,
   "metadata": {},
   "outputs": [
    {
     "data": {
      "text/plain": [
       "100100"
      ]
     },
     "execution_count": 50,
     "metadata": {},
     "output_type": "execute_result"
    }
   ],
   "source": [
    "# 将交易添加到李四的交易池\n",
    "add_tx_to_mem_pool(lisi, tx)\n",
    "# 李四账户余额增加\n",
    "lisi.get_balance()"
   ]
  },
  {
   "cell_type": "code",
   "execution_count": 51,
   "metadata": {},
   "outputs": [
    {
     "data": {
      "text/plain": [
       "[UTXO(vout:Vout(to_addr:1Kia3uVCvPyJN8C41fMhuXywxw66KtspPB,value:100),pointer:Pointer(tx_id:0cb147eb5237888328bbe359d8f47b7dcaaa81e7fe8827b0dca1b65f200903aa,n:0))]"
      ]
     },
     "execution_count": 51,
     "metadata": {},
     "output_type": "execute_result"
    }
   ],
   "source": [
    "# 有一个未确认UTXO\n",
    "lisi.get_unconfirmed_utxo()"
   ]
  },
  {
   "cell_type": "markdown",
   "metadata": {},
   "source": [
    "## 创币交易的创建\n",
    "创币交易不需要花费UTXO，而且只有指向获胜共识节点地址的唯一输出单元，金额为共识奖励和交易费之和，Simchain中默认共识奖励为500分，每笔交易费为10分。"
   ]
  },
  {
   "cell_type": "code",
   "execution_count": 52,
   "metadata": {},
   "outputs": [],
   "source": [
    "# 输出参数为获胜节点地址和金额\n",
    "def create_coinbase(cls, pay_to_addr, value):\n",
    "    return cls(\n",
    "        tx_in = [Vin(to_spend=None,\n",
    "                     signature= str(os.urandom(32)),\n",
    "                     pubkey=None)],\n",
    "        tx_out = [Vout(to_addr=pay_to_addr,\n",
    "                       value=value)]\n",
    "        )\n",
    "\n",
    "# 输入参数为区块交易列表\n",
    "def calculate_fees(self,txs=[]):\n",
    "    return sum(tx.fee for tx in txs)"
   ]
  },
  {
   "cell_type": "code",
   "execution_count": 53,
   "metadata": {},
   "outputs": [
    {
     "data": {
      "text/plain": [
       "Tx(id:12e723205568781379eb0328da38477a745dade7c5e67e623f7d9800291a3ae4)"
      ]
     },
     "execution_count": 53,
     "metadata": {},
     "output_type": "execute_result"
    }
   ],
   "source": [
    "# 给李四发放奖励\n",
    "tx.create_coinbase(lisi.addr, 510)"
   ]
  },
  {
   "cell_type": "code",
   "execution_count": 54,
   "metadata": {},
   "outputs": [
    {
     "data": {
      "text/plain": [
       "10"
      ]
     },
     "execution_count": 54,
     "metadata": {},
     "output_type": "execute_result"
    }
   ],
   "source": [
    "# 李四计算交易费\n",
    "lisi.calculate_fees([tx])"
   ]
  },
  {
   "cell_type": "markdown",
   "metadata": {},
   "source": [
    "在创建交易的过程中，无论用户使用的UTXO_SET还是OWN_UTXO_SEt，都不需要和其他任何节点进行数据交换，该过程完全是可以离线进行的。"
   ]
  }
 ],
 "metadata": {
  "jupytext": {
   "formats": "ipynb,py:light"
  },
  "kernelspec": {
   "display_name": "Python 3",
   "language": "python",
   "name": "python3"
  },
  "language_info": {
   "codemirror_mode": {
    "name": "ipython",
    "version": 3
   },
   "file_extension": ".py",
   "mimetype": "text/x-python",
   "name": "python",
   "nbconvert_exporter": "python",
   "pygments_lexer": "ipython3",
   "version": "3.7.2"
  },
  "toc": {
   "base_numbering": 1.0,
   "nav_menu": {},
   "number_sections": false,
   "sideBar": true,
   "skip_h1_title": false,
   "title_cell": "Table of Contents",
   "title_sidebar": "Contents",
   "toc_cell": false,
   "toc_position": {},
   "toc_section_display": true,
   "toc_window_display": false
  }
 },
 "nbformat": 4,
 "nbformat_minor": 2
}
