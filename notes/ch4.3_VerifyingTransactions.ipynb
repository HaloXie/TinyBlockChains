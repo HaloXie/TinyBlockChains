{
 "cells": [
  {
   "cell_type": "markdown",
   "metadata": {
    "collapsed": true
   },
   "source": [
    "# 验证交易"
   ]
  },
  {
   "cell_type": "markdown",
   "metadata": {},
   "source": [
    "使用Python实现交易验证过程："
   ]
  },
  {
   "cell_type": "code",
   "execution_count": 1,
   "metadata": {},
   "outputs": [],
   "source": [
    "# peer：节点，tx：待验证交易，pool：交易池\n",
    "def verify_tx(peer,tx,pool = {}):\n",
    "    \n",
    "    # 验证交易基本信息\n",
    "    if not verify_tx_basics(tx):\n",
    "        return False\n",
    "\n",
    "    # 验证交易池中是否存在双重支付\n",
    "    if double_payment(pool,tx):\n",
    "        logger.info('{0} double payment'.format(tx))\n",
    "        return False\n",
    "    \n",
    "    # 初始化交易输入之和\n",
    "    available_value = 0\n",
    "\n",
    "    # 遍历交易所有的输入单元Vin\n",
    "    for vin in tx.tx_in:\n",
    "        \n",
    "        # 在节点的UTXO_SET中查找该交易输入单元使用的UTXO\n",
    "        utxo = peer.utxo_set.get(vin.to_spend)\n",
    "        \n",
    "        # 如果UTXO不存在，将该交易添加到孤立交易池中\n",
    "        if not utxo:\n",
    "            logger.info(\n",
    "                    '{0}(pid={1}) find a orphan transaction {2}'.format(peer,peer.pid,tx)\n",
    "                    )\n",
    "            peer.orphan_pool[tx.id] = tx\n",
    "            return False\n",
    "        \n",
    "        # 对每个输入单元验证签名，如果不成功则拒绝交易\n",
    "        if not verify_signature(peer,vin,utxo,tx.tx_out):\n",
    "            logger.info('singature does not math for {0}'.format(tx))\n",
    "            return False\n",
    "        \n",
    "        # 计算交易输入金额总和\n",
    "        available_value += utxo.vout.value\n",
    "        \n",
    "    # 如果交易输入金额总和小于交易输出金额总和，则拒绝交易\n",
    "    if available_value < sum(vout.value for vout in tx.tx_out):\n",
    "        logger.info(\n",
    "                '{0} no enought available value to spend by {1}(pid={2})'.format(tx,peer,peer.pid)\n",
    "                )\n",
    "        return False\n",
    "\n",
    "    # 所有条件满足则验证交易\n",
    "    return True"
   ]
  },
  {
   "cell_type": "markdown",
   "metadata": {},
   "source": [
    "验证交易基本条件过程："
   ]
  },
  {
   "cell_type": "code",
   "execution_count": 2,
   "metadata": {},
   "outputs": [],
   "source": [
    "# tx：待验证交易\n",
    "def verify_tx_basics(tx):\n",
    "    \n",
    "    # 验证交易类型Tx\n",
    "    if not isinstance(tx,Tx):\n",
    "        logger.info('{0} is not Tx type'.format(tx))\n",
    "        return False\n",
    "    \n",
    "    # 交易输入输出的非空验证\n",
    "    if (not tx.tx_out) or (not tx.tx_in):\n",
    "        logger.info('{0} Missing tx_out or tx_in'.format(tx))\n",
    "        return False\n",
    "    return True"
   ]
  },
  {
   "cell_type": "markdown",
   "metadata": {},
   "source": [
    "验证交易池中是否存在双重支付，即判断待验证的交易与交易池中的交易是否使用了相同的UTXO。"
   ]
  },
  {
   "cell_type": "code",
   "execution_count": 3,
   "metadata": {},
   "outputs": [],
   "source": [
    "# pool：节点的交易池，tx：待验证交易\n",
    "def double_payment(pool,tx):\n",
    "    \n",
    "    # 验证交易是否已经在交易池中\n",
    "    if tx.id in pool:\n",
    "        return True\n",
    "    \n",
    "    # 将待验证交易输入单元的定位指针存储在集合a中\n",
    "    a = {vin.to_spend for vin in tx.tx_in}\n",
    "    \n",
    "    # 将交易池中所有交易输入单元的定位指针存储在集合b中\n",
    "    b = {vin.to_spend for tx in pool.values() for vin in tx.tx_in}\n",
    "    \n",
    "    # 如果集合a和b有交集，则为双重支付\n",
    "    return a.intersection(b)"
   ]
  },
  {
   "cell_type": "markdown",
   "metadata": {},
   "source": [
    "### 示例"
   ]
  },
  {
   "cell_type": "code",
   "execution_count": 4,
   "metadata": {},
   "outputs": [
    {
     "name": "stderr",
     "output_type": "stream",
     "text": [
      "2019-06-11 23:49:44,100 - A blockchain p2p network created,12 peers joined\n",
      "2019-06-11 23:49:44,131 - genesis block has been generated\n",
      "2019-06-11 23:49:44,176 - peer(52, 42)(pid=0) created a transaction\n"
     ]
    },
    {
     "data": {
      "text/plain": [
       "True"
      ]
     },
     "execution_count": 4,
     "metadata": {},
     "output_type": "execute_result"
    }
   ],
   "source": [
    "from simchain import Network\n",
    "from simchain.peer import verify_tx_basics, double_payment, verify_tx\n",
    "\n",
    "net = Network()\n",
    "zhangsan, lisi = net.peers[0], net.peers[1]\n",
    "\n",
    "# 张三给李四转账100\n",
    "zhangsan.create_transaction(lisi.addr, 100)\n",
    "# 获取张三创建的交易\n",
    "tx = zhangsan.txs[-1]\n",
    "# 验证交易基本条件满足\n",
    "verify_tx_basics(tx)"
   ]
  },
  {
   "cell_type": "code",
   "execution_count": 5,
   "metadata": {},
   "outputs": [
    {
     "data": {
      "text/plain": [
       "set()"
      ]
     },
     "execution_count": 5,
     "metadata": {},
     "output_type": "execute_result"
    }
   ],
   "source": [
    "# 没有双重支付发生\n",
    "double_payment(zhangsan.mem_pool, tx)"
   ]
  },
  {
   "cell_type": "markdown",
   "metadata": {},
   "source": [
    "此时张三并没有广播交易，如果广播交易后会发生什么呢？"
   ]
  },
  {
   "cell_type": "code",
   "execution_count": 6,
   "metadata": {},
   "outputs": [
    {
     "name": "stderr",
     "output_type": "stream",
     "text": [
      "2019-06-11 23:49:44,317 - peer(52, 42)(pid=0) sent a transaction to network\n",
      "2019-06-11 23:49:45,180 - peer(52, 42)(pid=0)'s transaction verified by 9 peers\n"
     ]
    },
    {
     "data": {
      "text/plain": [
       "{'9f0af61720abeaf459a801b1966e67760110fa0e03310687a0eb4a10b4ddc8ed': Tx(id:9f0af61720abeaf459a801b1966e67760110fa0e03310687a0eb4a10b4ddc8ed)}"
      ]
     },
     "execution_count": 6,
     "metadata": {},
     "output_type": "execute_result"
    }
   ],
   "source": [
    "# 张三广播交易\n",
    "zhangsan.broadcast_transaction()\n",
    "# 张三的交易池\n",
    "zhangsan.mem_pool"
   ]
  },
  {
   "cell_type": "code",
   "execution_count": 7,
   "metadata": {},
   "outputs": [
    {
     "data": {
      "text/plain": [
       "{}"
      ]
     },
     "execution_count": 7,
     "metadata": {},
     "output_type": "execute_result"
    }
   ],
   "source": [
    "# 李四和张三一样的交易池\n",
    "lisi.mem_pool"
   ]
  },
  {
   "cell_type": "code",
   "execution_count": 8,
   "metadata": {},
   "outputs": [
    {
     "name": "stderr",
     "output_type": "stream",
     "text": [
      "2019-06-11 23:49:45,299 - Tx(id:9f0af61720abeaf459a801b1966e67760110fa0e03310687a0eb4a10b4ddc8ed) double payment\n"
     ]
    },
    {
     "data": {
      "text/plain": [
       "False"
      ]
     },
     "execution_count": 8,
     "metadata": {},
     "output_type": "execute_result"
    }
   ],
   "source": [
    "# 张三验证交易不通过\n",
    "verify_tx(zhangsan, tx, zhangsan.mem_pool)"
   ]
  },
  {
   "cell_type": "code",
   "execution_count": 9,
   "metadata": {},
   "outputs": [
    {
     "data": {
      "text/plain": [
       "True"
      ]
     },
     "execution_count": 9,
     "metadata": {},
     "output_type": "execute_result"
    }
   ],
   "source": [
    "# 因为该条交易已经存在交易池中\n",
    "double_payment(zhangsan.mem_pool, tx)"
   ]
  },
  {
   "cell_type": "markdown",
   "metadata": {},
   "source": [
    "## 数字签名匹配"
   ]
  },
  {
   "cell_type": "markdown",
   "metadata": {},
   "source": [
    "使用Python实现单个输入单元的验证过程："
   ]
  },
  {
   "cell_type": "code",
   "execution_count": 10,
   "metadata": {},
   "outputs": [],
   "source": [
    "# vin：待验证交易的输入单元，utxo：需要消费的UTXO，tx_out：交易的输出\n",
    "def verify_signature_for_vin(vin,utxo,tx_out):\n",
    "    \n",
    "    # 获取输入单元中的签名，以及公钥字节串\n",
    "    pk_str,signature = vin.pubkey,vin.signature\n",
    "    \n",
    "    # 获取UTXO指向的地址\n",
    "    to_addr = utxo.vout.to_addr\n",
    "    \n",
    "    # 用UTXO的定位指针、公钥字节符，以及交易输出作为签名明文\n",
    "    # 选用的明文必须与创建交易时的规则一致\n",
    "    # 调用build_message()函数计算明文的哈希值\n",
    "    string = str(vin.to_spend) + str(pk_str) + str(tx_out)\n",
    "    message = build_message(string)\n",
    "    \n",
    "    # 将公钥字节符转换为地址\n",
    "    pubkey_as_addr = convert_pubkey_to_addr(pk_str)\n",
    "    \n",
    "    # 从公钥字节符创建公钥对象\n",
    "    verifying_key = VerifyingKey.from_bytes(pk_str)\n",
    "\n",
    "    # 如果通过公钥字节串转换得到的地址与UTXO指向的地址不匹配，则拒绝\n",
    "    # 简单来讲，UTXO中指向的地址与公钥不是对应关系\n",
    "    if pubkey_as_addr != to_addr:\n",
    "        return False\n",
    "    \n",
    "    # 如果通过公钥字节串创建的公钥对象验证签名不通过，则拒绝\n",
    "    # 简单来讲，公钥和私钥不是对应关系\n",
    "    if not verifying_key.verify(signature, message):\n",
    "        return False\n",
    "\n",
    "    # 所有条件满足，则通过签名验证\n",
    "    return True"
   ]
  },
  {
   "cell_type": "markdown",
   "metadata": {},
   "source": [
    "### 继续示例代码"
   ]
  },
  {
   "cell_type": "code",
   "execution_count": 11,
   "metadata": {},
   "outputs": [
    {
     "data": {
      "text/plain": [
       "True"
      ]
     },
     "execution_count": 11,
     "metadata": {},
     "output_type": "execute_result"
    }
   ],
   "source": [
    "from simchain.peer import verify_signature_for_vin\n",
    "\n",
    "# 获取交易的第一个输入单元\n",
    "vin = tx.tx_in[0]\n",
    "# 获取输入单元使用的UTXO\n",
    "utxo = zhangsan.utxo_set[vin.to_spend]\n",
    "# 验证输入单元有效\n",
    "verify_signature_for_vin(vin, utxo, tx.tx_out)"
   ]
  },
  {
   "cell_type": "markdown",
   "metadata": {},
   "source": [
    "当交易被独立验证有效后，节点会将其加入交易池中。除此之外，还要对孤立交易池进行验证。"
   ]
  },
  {
   "cell_type": "markdown",
   "metadata": {},
   "source": [
    "## 创币交易的验证"
   ]
  },
  {
   "cell_type": "code",
   "execution_count": 12,
   "metadata": {},
   "outputs": [],
   "source": [
    "# tx：交易，reward：总奖励（共识奖励和交易费之和）\n",
    "def verify_coinbase(tx,reward):\n",
    "    \n",
    "    # 是否为Tx类型\n",
    "    if not isinstance(tx,Tx):\n",
    "        return False\n",
    "    \n",
    "    # 是否为创币交易\n",
    "    if not tx.is_coinbase:\n",
    "        return False\n",
    "    \n",
    "    # 交易的输出列表是否只有一个输出单元，输出金额是否等于总金额\n",
    "    if (not (len(tx.tx_out) ==1))  or (tx.tx_out[0].value != reward):\n",
    "        return False\n",
    "    return True"
   ]
  },
  {
   "cell_type": "markdown",
   "metadata": {},
   "source": [
    "----\n",
    "# 交易传播中的安全"
   ]
  },
  {
   "cell_type": "markdown",
   "metadata": {},
   "source": [
    "## 签名明文攻击"
   ]
  },
  {
   "cell_type": "markdown",
   "metadata": {},
   "source": [
    "假设张三离线创建了一条指向李四的交易，然后将其广播到了区块链网络中，张三的邻居节点只有王五，王五截获并将交易输出替换成自己的地址，然后将修改后的新交易传播到网络中。示例如下："
   ]
  },
  {
   "cell_type": "code",
   "execution_count": 13,
   "metadata": {},
   "outputs": [
    {
     "name": "stderr",
     "output_type": "stream",
     "text": [
      "2019-06-11 23:49:45,962 - A blockchain p2p network created,2 peers joined\n",
      "2019-06-11 23:49:45,962 - genesis block has been generated\n",
      "2019-06-11 23:49:46,012 - peer(45, 70)(pid=0) created a transaction\n",
      "2019-06-11 23:49:46,054 - A new peer joined in --> peer(33, 1)(pid=2)\n"
     ]
    },
    {
     "data": {
      "text/plain": [
       "Tx(id:3b6a3bd60071eafa0c9f59c431d47c4adcc5dc5c7e0ae0b5f86c1e4ad0120e1a)"
      ]
     },
     "execution_count": 13,
     "metadata": {},
     "output_type": "execute_result"
    }
   ],
   "source": [
    "from simchain import Network, Vout\n",
    "net = Network(nop=2, von=10000)\n",
    "zhangsan, lisi = net.peers[0], net.peers[1]\n",
    "zhangsan.create_transaction(lisi.addr, 1000)\n",
    "net.add_peer()\n",
    "wangwu = net.peers[2]\n",
    "# 获取张三创建的交易\n",
    "tx = zhangsan.txs[-1]\n",
    "tx"
   ]
  },
  {
   "cell_type": "code",
   "execution_count": 14,
   "metadata": {},
   "outputs": [
    {
     "data": {
      "text/plain": [
       "Tx(id:cf87b08e465fe46bcfc27bf365e35706a7d05db7a9f99df685b0c407ee910759)"
      ]
     },
     "execution_count": 14,
     "metadata": {},
     "output_type": "execute_result"
    }
   ],
   "source": [
    "# 获取交易的第一个输出单元\n",
    "vout = tx.tx_out[0]\n",
    "# 王五替换地址\n",
    "new_vout = Vout(wangwu.addr, 1000)\n",
    "# 替换交易的第一个输出单元，得到新的交易\n",
    "tx.tx_out[0] = new_vout\n",
    "# 交易编号发生变化\n",
    "tx"
   ]
  },
  {
   "cell_type": "code",
   "execution_count": 15,
   "metadata": {},
   "outputs": [
    {
     "name": "stderr",
     "output_type": "stream",
     "text": [
      "2019-06-11 23:49:46,236 - singature does not math for Tx(id:cf87b08e465fe46bcfc27bf365e35706a7d05db7a9f99df685b0c407ee910759)\n"
     ]
    },
    {
     "data": {
      "text/plain": [
       "False"
      ]
     },
     "execution_count": 15,
     "metadata": {},
     "output_type": "execute_result"
    }
   ],
   "source": [
    "# 王五将交易发送给李四，李四验证不通过\n",
    "lisi.verify_transaction(tx)"
   ]
  },
  {
   "cell_type": "markdown",
   "metadata": {},
   "source": [
    "如果某种加密货币的客户端在数字签名的过程中选择的签名明文如果与交易的输出无关，例如仅选择输入单元的定位指针、公钥，而不包括交易的输出，则表明网络中所有有效交易的输出都可以被篡改的，这种攻击称为签名明文攻击。"
   ]
  },
  {
   "cell_type": "markdown",
   "metadata": {},
   "source": [
    "### 示例"
   ]
  },
  {
   "cell_type": "code",
   "execution_count": 16,
   "metadata": {},
   "outputs": [
    {
     "data": {
      "text/plain": [
       "True"
      ]
     },
     "execution_count": 16,
     "metadata": {},
     "output_type": "execute_result"
    }
   ],
   "source": [
    "from simchain import Pointer, Vin, Vout, Tx\n",
    "from simchain.ecc import SigningKey, convert_pubkey_to_addr, VerifyingKey\n",
    "\n",
    "# 假设这是张三的私钥\n",
    "k = 345643\n",
    "# 用整数创建一个私钥对象\n",
    "sk = SigningKey.from_number(k)\n",
    "# 获取该私钥对应的公钥\n",
    "pk = sk.get_verifying_key()\n",
    "# 将公钥转换为对应的地址\n",
    "addr = convert_pubkey_to_addr(pk.to_bytes())\n",
    "# 用创币交易给张三发100的钱\n",
    "coinbase = Tx.create_coinbase(addr, 100)\n",
    "# 获取张三创币交易中的UTXO的定位指针\n",
    "pointer = Pointer(coinbase.id, 0)\n",
    "# 张三选择一条签名明文\n",
    "message = b'I love blockchain'\n",
    "# 张三用该明文签名\n",
    "sig = sk.sign(message)\n",
    "# 张三创建了一个输入单元\n",
    "vin = Vin(pointer, sig, pk.to_bytes())\n",
    "# 李四对该输入单元进行验证，先获取公钥\n",
    "pub_str = vin.pubkey\n",
    "# 将公钥转换为地址\n",
    "addr1 = convert_pubkey_to_addr(pub_str)\n",
    "# 地址匹配\n",
    "addr1 == addr"
   ]
  },
  {
   "cell_type": "code",
   "execution_count": 17,
   "metadata": {},
   "outputs": [
    {
     "data": {
      "text/plain": [
       "True"
      ]
     },
     "execution_count": 17,
     "metadata": {},
     "output_type": "execute_result"
    }
   ],
   "source": [
    "# 李四用公钥字节串创建一个公钥对象\n",
    "vk = VerifyingKey.from_bytes(pub_str)\n",
    "# 选择与张三一样的签名明文验证签名通过\n",
    "vk.verify(sig, message)"
   ]
  },
  {
   "cell_type": "code",
   "execution_count": 18,
   "metadata": {},
   "outputs": [
    {
     "data": {
      "text/plain": [
       "False"
      ]
     },
     "execution_count": 18,
     "metadata": {},
     "output_type": "execute_result"
    }
   ],
   "source": [
    "message1 = b'i love blockchain'\n",
    "# 选择与张三不一样的明文验证签名不通过\n",
    "vk.verify(sig, message1)"
   ]
  }
 ],
 "metadata": {
  "kernelspec": {
   "display_name": "Python 3",
   "language": "python",
   "name": "python3"
  },
  "language_info": {
   "codemirror_mode": {
    "name": "ipython",
    "version": 3
   },
   "file_extension": ".py",
   "mimetype": "text/x-python",
   "name": "python",
   "nbconvert_exporter": "python",
   "pygments_lexer": "ipython3",
   "version": "3.7.2"
  },
  "toc": {
   "base_numbering": 1,
   "nav_menu": {},
   "number_sections": false,
   "sideBar": true,
   "skip_h1_title": false,
   "title_cell": "Table of Contents",
   "title_sidebar": "Contents",
   "toc_cell": false,
   "toc_position": {},
   "toc_section_display": true,
   "toc_window_display": false
  }
 },
 "nbformat": 4,
 "nbformat_minor": 1
}
