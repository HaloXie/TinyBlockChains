{
 "cells": [
  {
   "cell_type": "markdown",
   "metadata": {
    "collapsed": true
   },
   "source": [
    "# 区块链"
   ]
  },
  {
   "cell_type": "markdown",
   "metadata": {},
   "source": [
    "关于Simchain中的区块链结构，示例如下："
   ]
  },
  {
   "cell_type": "code",
   "execution_count": 1,
   "metadata": {},
   "outputs": [
    {
     "name": "stderr",
     "output_type": "stream",
     "text": [
      "2019-06-12 21:45:00,113 - A blockchain p2p network created,12 peers joined\n",
      "2019-06-12 21:45:00,155 - genesis block has been generated\n",
      "2019-06-12 21:45:00,198 - peer(24, 49)(pid=8) created a transaction\n",
      "2019-06-12 21:45:00,220 - peer(24, 49)(pid=8) sent a transaction to network\n",
      "2019-06-12 21:45:01,058 - peer(24, 49)(pid=8)'s transaction verified by 11 peers\n",
      "2019-06-12 21:45:01,095 - peer(12, 69)(pid=5) created a transaction\n",
      "2019-06-12 21:45:01,097 - peer(12, 69)(pid=5) sent a transaction to network\n",
      "2019-06-12 21:45:01,925 - peer(12, 69)(pid=5)'s transaction verified by 11 peers\n",
      "2019-06-12 21:45:01,967 - peer(14, 100)(pid=11) created a transaction\n",
      "2019-06-12 21:45:01,971 - peer(14, 100)(pid=11) sent a transaction to network\n",
      "2019-06-12 21:45:02,794 - peer(14, 100)(pid=11)'s transaction verified by 11 peers\n",
      "2019-06-12 21:45:02,836 - peer(12, 69)(pid=5) created a transaction\n",
      "2019-06-12 21:45:02,839 - peer(12, 69)(pid=5) sent a transaction to network\n",
      "2019-06-12 21:45:03,681 - peer(12, 69)(pid=5)'s transaction verified by 11 peers\n",
      "2019-06-12 21:45:03,721 - peer(86, 68)(pid=1) created a transaction\n",
      "2019-06-12 21:45:03,722 - peer(86, 68)(pid=1) sent a transaction to network\n",
      "2019-06-12 21:45:04,558 - peer(86, 68)(pid=1)'s transaction verified by 11 peers\n",
      "2019-06-12 21:45:04,597 - peer(16, 99)(pid=3) created a transaction\n",
      "2019-06-12 21:45:04,599 - peer(16, 99)(pid=3) sent a transaction to network\n",
      "2019-06-12 21:45:05,453 - peer(16, 99)(pid=3)'s transaction verified by 11 peers\n",
      "2019-06-12 21:45:05,532 - peer(14, 100)(pid=11) created a transaction\n",
      "2019-06-12 21:45:05,534 - peer(14, 100)(pid=11) sent a transaction to network\n",
      "2019-06-12 21:45:07,196 - peer(14, 100)(pid=11)'s transaction verified by 11 peers\n",
      "2019-06-12 21:45:07,237 - peer(95, 75)(pid=7) created a transaction\n",
      "2019-06-12 21:45:07,238 - peer(95, 75)(pid=7) sent a transaction to network\n",
      "2019-06-12 21:45:08,059 - peer(95, 75)(pid=7)'s transaction verified by 11 peers\n",
      "2019-06-12 21:45:08,100 - peer(45, 92)(pid=10) created a transaction\n",
      "2019-06-12 21:45:08,102 - peer(45, 92)(pid=10) sent a transaction to network\n",
      "2019-06-12 21:45:08,938 - peer(45, 92)(pid=10)'s transaction verified by 11 peers\n",
      "2019-06-12 21:45:08,940 - 8 peers are mining\n",
      "2019-06-12 21:45:14,983 - peer(46, 65)(pid=4) is winner,6.041345596313477 secs used\n",
      "2019-06-12 21:45:24,006 - Block(hash:00000d818801b4287334a6000d6586923db2b25ee55f09d3138ad74d411dbf64) received by 11 peers\n",
      "2019-06-12 21:45:24,050 - peer(46, 65)(pid=4) created a transaction\n",
      "2019-06-12 21:45:24,051 - peer(46, 65)(pid=4) sent a transaction to network\n",
      "2019-06-12 21:45:24,885 - peer(46, 65)(pid=4)'s transaction verified by 9 peers\n",
      "2019-06-12 21:45:24,924 - peer(85, 59)(pid=9) created a transaction\n",
      "2019-06-12 21:45:24,926 - peer(85, 59)(pid=9) sent a transaction to network\n",
      "2019-06-12 21:45:25,746 - peer(85, 59)(pid=9)'s transaction verified by 11 peers\n",
      "2019-06-12 21:45:25,788 - peer(14, 100)(pid=11) created a transaction\n",
      "2019-06-12 21:45:25,789 - peer(14, 100)(pid=11) sent a transaction to network\n",
      "2019-06-12 21:45:26,615 - peer(14, 100)(pid=11)'s transaction verified by 11 peers\n",
      "2019-06-12 21:45:26,694 - peer(14, 100)(pid=11) created a transaction\n",
      "2019-06-12 21:45:26,696 - peer(14, 100)(pid=11) sent a transaction to network\n",
      "2019-06-12 21:45:28,342 - peer(14, 100)(pid=11)'s transaction verified by 11 peers\n",
      "2019-06-12 21:45:28,382 - peer(46, 65)(pid=4) created a transaction\n",
      "2019-06-12 21:45:28,384 - peer(46, 65)(pid=4) sent a transaction to network\n",
      "2019-06-12 21:45:29,246 - peer(46, 65)(pid=4)'s transaction verified by 11 peers\n",
      "2019-06-12 21:45:29,327 - peer(45, 92)(pid=10) created a transaction\n",
      "2019-06-12 21:45:29,328 - peer(45, 92)(pid=10) sent a transaction to network\n",
      "2019-06-12 21:45:30,963 - peer(45, 92)(pid=10)'s transaction verified by 11 peers\n",
      "2019-06-12 21:45:31,003 - peer(65, 56)(pid=6) created a transaction\n",
      "2019-06-12 21:45:31,004 - peer(65, 56)(pid=6) sent a transaction to network\n",
      "2019-06-12 21:45:31,876 - peer(65, 56)(pid=6)'s transaction verified by 9 peers\n",
      "2019-06-12 21:45:31,954 - peer(24, 49)(pid=8) created a transaction\n",
      "2019-06-12 21:45:31,955 - peer(24, 49)(pid=8) sent a transaction to network\n",
      "2019-06-12 21:45:33,572 - peer(24, 49)(pid=8)'s transaction verified by 11 peers\n",
      "2019-06-12 21:45:33,650 - peer(86, 68)(pid=1) created a transaction\n",
      "2019-06-12 21:45:33,653 - peer(86, 68)(pid=1) sent a transaction to network\n",
      "2019-06-12 21:45:35,296 - peer(86, 68)(pid=1)'s transaction verified by 11 peers\n",
      "2019-06-12 21:45:35,344 - peer(16, 99)(pid=3) created a transaction\n",
      "2019-06-12 21:45:35,349 - peer(16, 99)(pid=3) sent a transaction to network\n",
      "2019-06-12 21:45:36,179 - peer(16, 99)(pid=3)'s transaction verified by 9 peers\n",
      "2019-06-12 21:45:36,181 - 8 peers are mining\n",
      "2019-06-12 21:45:49,187 - peer(14, 100)(pid=11) is winner,13.003743886947632 secs used\n",
      "2019-06-12 21:46:01,719 - Block(hash:00000272a558c6fd895567bf792dff872a0d2cd039537da7143c9fed6f3dd4b3) received by 11 peers\n",
      "2019-06-12 21:46:01,820 - peer(65, 56)(pid=6) created a transaction\n",
      "2019-06-12 21:46:01,824 - peer(65, 56)(pid=6) sent a transaction to network\n",
      "2019-06-12 21:46:03,482 - peer(65, 56)(pid=6)'s transaction verified by 11 peers\n",
      "2019-06-12 21:46:03,522 - peer(46, 65)(pid=4) created a transaction\n",
      "2019-06-12 21:46:03,524 - peer(46, 65)(pid=4) sent a transaction to network\n",
      "2019-06-12 21:46:04,350 - peer(46, 65)(pid=4)'s transaction verified by 11 peers\n",
      "2019-06-12 21:46:04,392 - peer(14, 100)(pid=11) created a transaction\n",
      "2019-06-12 21:46:04,394 - peer(14, 100)(pid=11) sent a transaction to network\n",
      "2019-06-12 21:46:05,228 - peer(14, 100)(pid=11)'s transaction verified by 11 peers\n",
      "2019-06-12 21:46:05,267 - peer(86, 68)(pid=1) created a transaction\n",
      "2019-06-12 21:46:05,268 - peer(86, 68)(pid=1) sent a transaction to network\n",
      "2019-06-12 21:46:06,079 - peer(86, 68)(pid=1)'s transaction verified by 11 peers\n",
      "2019-06-12 21:46:06,157 - peer(24, 49)(pid=8) created a transaction\n",
      "2019-06-12 21:46:06,159 - peer(24, 49)(pid=8) sent a transaction to network\n",
      "2019-06-12 21:46:07,784 - peer(24, 49)(pid=8)'s transaction verified by 11 peers\n",
      "2019-06-12 21:46:07,873 - peer(16, 99)(pid=3) created a transaction\n",
      "2019-06-12 21:46:07,876 - peer(16, 99)(pid=3) sent a transaction to network\n",
      "2019-06-12 21:46:09,536 - peer(16, 99)(pid=3)'s transaction verified by 11 peers\n",
      "2019-06-12 21:46:09,577 - peer(24, 49)(pid=8) created a transaction\n",
      "2019-06-12 21:46:09,579 - peer(24, 49)(pid=8) sent a transaction to network\n",
      "2019-06-12 21:46:10,402 - peer(24, 49)(pid=8)'s transaction verified by 9 peers\n",
      "2019-06-12 21:46:10,443 - peer(46, 65)(pid=4) created a transaction\n",
      "2019-06-12 21:46:10,445 - peer(46, 65)(pid=4) sent a transaction to network\n",
      "2019-06-12 21:46:11,257 - peer(46, 65)(pid=4)'s transaction verified by 11 peers\n",
      "2019-06-12 21:46:11,297 - peer(24, 49)(pid=8) created a transaction\n",
      "2019-06-12 21:46:11,299 - peer(24, 49)(pid=8) sent a transaction to network\n",
      "2019-06-12 21:46:12,121 - peer(24, 49)(pid=8)'s transaction verified by 11 peers\n",
      "2019-06-12 21:46:12,123 - 8 peers are mining\n",
      "2019-06-12 21:46:20,795 - peer(96, 38)(pid=2) is winner,8.671496152877808 secs used\n",
      "2019-06-12 21:46:31,517 - Block(hash:0000184f31ae23cede54b9e60e70b0d8701984bb4812c6c414f3f84b7d8f53f4) received by 11 peers\n",
      "2019-06-12 21:46:31,622 - peer(95, 75)(pid=7) created a transaction\n",
      "2019-06-12 21:46:31,626 - peer(95, 75)(pid=7) sent a transaction to network\n",
      "2019-06-12 21:46:33,271 - peer(95, 75)(pid=7)'s transaction verified by 11 peers\n",
      "2019-06-12 21:46:33,311 - peer(95, 75)(pid=7) created a transaction\n",
      "2019-06-12 21:46:33,312 - peer(95, 75)(pid=7) sent a transaction to network\n",
      "2019-06-12 21:46:34,134 - peer(95, 75)(pid=7)'s transaction verified by 11 peers\n",
      "2019-06-12 21:46:34,175 - peer(46, 65)(pid=4) created a transaction\n",
      "2019-06-12 21:46:34,176 - peer(46, 65)(pid=4) sent a transaction to network\n",
      "2019-06-12 21:46:34,990 - peer(46, 65)(pid=4)'s transaction verified by 11 peers\n",
      "2019-06-12 21:46:35,031 - peer(46, 65)(pid=4) created a transaction\n",
      "2019-06-12 21:46:35,035 - peer(46, 65)(pid=4) sent a transaction to network\n",
      "2019-06-12 21:46:35,882 - peer(46, 65)(pid=4)'s transaction verified by 11 peers\n",
      "2019-06-12 21:46:35,962 - peer(85, 59)(pid=9) created a transaction\n"
     ]
    },
    {
     "name": "stderr",
     "output_type": "stream",
     "text": [
      "2019-06-12 21:46:35,964 - peer(85, 59)(pid=9) sent a transaction to network\n",
      "2019-06-12 21:46:37,654 - peer(85, 59)(pid=9)'s transaction verified by 10 peers\n",
      "2019-06-12 21:46:37,696 - peer(85, 59)(pid=9) created a transaction\n",
      "2019-06-12 21:46:37,699 - peer(85, 59)(pid=9) sent a transaction to network\n",
      "2019-06-12 21:46:38,534 - peer(85, 59)(pid=9)'s transaction verified by 11 peers\n",
      "2019-06-12 21:46:38,536 - 8 peers are mining\n",
      "2019-06-12 21:46:50,467 - peer(96, 38)(pid=2) is winner,11.93068242073059 secs used\n",
      "2019-06-12 21:46:57,848 - Block(hash:00003dbc03c3c1e1b66f1406ec843bab7e3037ebf55409bb3436912943aa81be) received by 11 peers\n",
      "2019-06-12 21:46:57,901 - peer(14, 100)(pid=11) created a transaction\n",
      "2019-06-12 21:46:57,903 - peer(14, 100)(pid=11) sent a transaction to network\n",
      "2019-06-12 21:46:58,773 - peer(14, 100)(pid=11)'s transaction verified by 11 peers\n",
      "2019-06-12 21:46:58,812 - peer(16, 99)(pid=3) created a transaction\n",
      "2019-06-12 21:46:58,814 - peer(16, 99)(pid=3) sent a transaction to network\n",
      "2019-06-12 21:46:59,650 - peer(16, 99)(pid=3)'s transaction verified by 11 peers\n",
      "2019-06-12 21:46:59,728 - peer(16, 99)(pid=3) created a transaction\n",
      "2019-06-12 21:46:59,730 - peer(16, 99)(pid=3) sent a transaction to network\n",
      "2019-06-12 21:47:01,407 - peer(16, 99)(pid=3)'s transaction verified by 11 peers\n",
      "2019-06-12 21:47:01,408 - 8 peers are mining\n",
      "2019-06-12 21:47:22,198 - peer(85, 59)(pid=9) is winner,20.788188934326172 secs used\n",
      "2019-06-12 21:47:25,858 - Block(hash:000001c9005751cc1a4eac712afbb00c41ee593ff3657a06cee0478808006c32) received by 11 peers\n"
     ]
    },
    {
     "data": {
      "text/plain": [
       "['de79b5f372e6c18a86124b90b750e76a1e32511be251514052bb09cef09e5276',\n",
       " '00000d818801b4287334a6000d6586923db2b25ee55f09d3138ad74d411dbf64',\n",
       " '00000272a558c6fd895567bf792dff872a0d2cd039537da7143c9fed6f3dd4b3',\n",
       " '0000184f31ae23cede54b9e60e70b0d8701984bb4812c6c414f3f84b7d8f53f4',\n",
       " '00003dbc03c3c1e1b66f1406ec843bab7e3037ebf55409bb3436912943aa81be',\n",
       " '000001c9005751cc1a4eac712afbb00c41ee593ff3657a06cee0478808006c32']"
      ]
     },
     "execution_count": 1,
     "metadata": {},
     "output_type": "execute_result"
    },
    {
     "name": "stderr",
     "output_type": "stream",
     "text": [
      "2019-06-12 21:47:25,864 - Loaded backend module://ipykernel.pylab.backend_inline version unknown.\n"
     ]
    }
   ],
   "source": [
    "from simchain import Network\n",
    "net = Network()\n",
    "# 5次随机交易、5次共识\n",
    "for _ in range(5):\n",
    "    net.make_random_transactions()\n",
    "    net.consensus()\n",
    "chain = net.peers[0].blockchain\n",
    "# 获取区块的哈希值列表\n",
    "[block.hash for block in chain]"
   ]
  },
  {
   "cell_type": "code",
   "execution_count": 2,
   "metadata": {},
   "outputs": [
    {
     "data": {
      "text/plain": [
       "[None,\n",
       " 'de79b5f372e6c18a86124b90b750e76a1e32511be251514052bb09cef09e5276',\n",
       " '00000d818801b4287334a6000d6586923db2b25ee55f09d3138ad74d411dbf64',\n",
       " '00000272a558c6fd895567bf792dff872a0d2cd039537da7143c9fed6f3dd4b3',\n",
       " '0000184f31ae23cede54b9e60e70b0d8701984bb4812c6c414f3f84b7d8f53f4',\n",
       " '00003dbc03c3c1e1b66f1406ec843bab7e3037ebf55409bb3436912943aa81be']"
      ]
     },
     "execution_count": 2,
     "metadata": {},
     "output_type": "execute_result"
    }
   ],
   "source": [
    "# 获取前区块哈希值列表\n",
    "[block.prev_block_hash for block in chain]"
   ]
  },
  {
   "cell_type": "code",
   "execution_count": 3,
   "metadata": {},
   "outputs": [
    {
     "data": {
      "text/plain": [
       "Block(hash:00000272a558c6fd895567bf792dff872a0d2cd039537da7143c9fed6f3dd4b3)"
      ]
     },
     "execution_count": 3,
     "metadata": {},
     "output_type": "execute_result"
    }
   ],
   "source": [
    "# 获取高度为3的区块\n",
    "chain[2]"
   ]
  },
  {
   "cell_type": "markdown",
   "metadata": {},
   "source": [
    "## 创世区块的创建过程"
   ]
  },
  {
   "cell_type": "code",
   "execution_count": 4,
   "metadata": {},
   "outputs": [],
   "source": [
    "def create_genesis_block(self, number, value):\n",
    "    self.init_peers(number=number)\n",
    "    \n",
    "    # 交易的输入列表\n",
    "    tx_in = [Vin(to_spend=None,\n",
    "                 signature=b'I love blockchain',\n",
    "                 pubkey=None)]\n",
    "    \n",
    "    # 交易的输出列表，输出单元指向节点的地址\n",
    "    tx_out = [Vout(value=value, to_addr=peer.wallet.addrs[-1])\n",
    "              for peer in self.peers]\n",
    "\n",
    "    # 创世区块中的交易\n",
    "    txs = [Tx(tx_in=tx_in, tx_out=tx_out, nlocktime=0)]\n",
    "    \n",
    "    # 创世区块中的内容，时间戳是作者的生日\n",
    "    # 难度位数可以在params模块中进行调整\n",
    "    genesis_block = Block(version=0,\n",
    "                          prev_block_hash=None,\n",
    "                          timestamp=841124,\n",
    "                          bits=0,\n",
    "                          nonce=0,\n",
    "                          txs=txs)\n",
    "\n",
    "    logger.info('A blockchain p2p network created,{0} peers joined'.format(self.nop))\n",
    "    logger.info('genesis block has been generated')\n",
    "\n",
    "    utxos = find_utxos_from_block(txs)\n",
    "    for peer in self.peers:\n",
    "        peer.blockchain.append(genesis_block)\n",
    "        add_utxos_to_set(peer.utxo_set, utxos)"
   ]
  },
  {
   "cell_type": "markdown",
   "metadata": {},
   "source": [
    "当创世区块创建完成后，还需要将创世区块中的交易输出封装成UTXO添加到UTXO_SET。Simchain中定义了三种封装在节点添加区块到区块链时，UTXO的函数。"
   ]
  },
  {
   "cell_type": "code",
   "execution_count": 5,
   "metadata": {},
   "outputs": [],
   "source": [
    "# 将交易列表中的所有输出单元封装到UTXO列表，默认为未确认\n",
    "def find_utxos_from_txs(txs):\n",
    "    return [UTXO(vout, Pointer(tx.id, i), tx.is_coinbase)\n",
    "            for tx in txs for i, vout in enumerate(tx.tx_out)]\n",
    "\n",
    "# 将交易列表中的所有输出单元封装到UTXO列表，默认为已确认\n",
    "def find_utxos_from_block(txs):\n",
    "    return [UTXO(vout, Pointer(tx.id, i), tx.is_coinbase, True, True)\n",
    "            for tx in txs for i, vout in enumerate(tx.tx_out)]\n",
    "\n",
    "# 将单笔交易的所有输出单元封装到UTXO列表，默认为未确认\n",
    "def find_utxos_from_tx(tx):\n",
    "    return [UTXO(vout, Pointer(tx.id, i), tx.is_coinbase)\n",
    "            for i, vout in enumerate(tx.tx_out)]"
   ]
  },
  {
   "cell_type": "markdown",
   "metadata": {},
   "source": [
    "当交易的所有输出单元被封装为UTXO后，则可以添加到UTXO_SET中，也定义了三个函数。"
   ]
  },
  {
   "cell_type": "code",
   "execution_count": 6,
   "metadata": {},
   "outputs": [],
   "source": [
    "# 将单笔交易的输出单元封装成UTXO并添加到UTXO_SET中，未确认\n",
    "def add_utxos_from_tx_to_set(utxo_set, tx):\n",
    "    # 调用find_utxos_from_tx()函数封装UTXO\n",
    "    utxos = find_utxos_from_tx(tx)\n",
    "    # 将所有UTXO添加到UTXO_SET中\n",
    "    for utxo in utxos:\n",
    "        utxo_set[utxo.pointer] = utxo\n",
    "\n",
    "# 将交易列表的输出单元封装成UTXO并添加到UTXO_SET，未确认\n",
    "def add_utxo_from_txs_to_set(utxo_set, txs):\n",
    "    # 调用find_utxos_from_txs()函数封装UTXO\n",
    "    utxos = find_utxos_from_txs(txs)\n",
    "    add_utxos_to_set(utxo_set, utxos)\n",
    "\n",
    "# 将区块交易的输出单元封装成UTXO并添加值UTXO_SET，已确认\n",
    "def add_utxo_from_block_to_set(utxo_set, txs):\n",
    "    # 调用find_utxos_from_block()函数封装UTXO\n",
    "    utxos = find_utxos_from_block(txs)\n",
    "    add_utxos_to_set(utxo_set, utxos)"
   ]
  },
  {
   "cell_type": "markdown",
   "metadata": {},
   "source": [
    "以上有了两个函数调用add_utxos_to_set()函数，该函数将UTXO列表或字典添加到UTXO_SET中"
   ]
  },
  {
   "cell_type": "code",
   "execution_count": 7,
   "metadata": {},
   "outputs": [],
   "source": [
    "# 将UTXO列表或字典添加到UTXO_SET\n",
    "def add_utxos_to_set(utxo_set, utxos):\n",
    "    # 如果utxos是字典类型，则对其values进行操作\n",
    "    if isinstance(utxos, dict):\n",
    "        utxos = utxos.values()\n",
    "\n",
    "    # 将所有UTXO添加到UTXO_SET中\n",
    "    for utxo in utxos:\n",
    "        utxo_set[utxo.pointer] = utxo"
   ]
  },
  {
   "cell_type": "markdown",
   "metadata": {},
   "source": [
    "示例如下："
   ]
  },
  {
   "cell_type": "code",
   "execution_count": 8,
   "metadata": {},
   "outputs": [],
   "source": [
    "from simchain import Vin, Vout, Tx, Block, SigningKey\n",
    "from simchain.ecc import convert_pubkey_to_addr\n",
    "import random"
   ]
  },
  {
   "cell_type": "code",
   "execution_count": 9,
   "metadata": {},
   "outputs": [
    {
     "data": {
      "text/plain": [
       "[9013, 20872, 59153, 32192, 95719]"
      ]
     },
     "execution_count": 9,
     "metadata": {},
     "output_type": "execute_result"
    }
   ],
   "source": [
    "# 创建5个整数作为私钥数值\n",
    "ks = [random.randint(0, 100000) for _ in range(5)]\n",
    "ks"
   ]
  },
  {
   "cell_type": "code",
   "execution_count": 10,
   "metadata": {},
   "outputs": [],
   "source": [
    "# 通过数值创建5个私钥对象\n",
    "sks = [SigningKey.from_number(k) for k in ks]\n",
    "# 获取对应的公钥和地址\n",
    "pks = [sk.get_verifying_key() for sk in sks]\n",
    "addrs = [convert_pubkey_to_addr(pk.to_bytes()) for pk in pks]"
   ]
  },
  {
   "cell_type": "code",
   "execution_count": 11,
   "metadata": {},
   "outputs": [],
   "source": [
    "# 交易输入\n",
    "tx_in = [Vin(to_spend=None, signature=None, pubkey=None)]\n",
    "# 交易输出，每个地址1000\n",
    "tx_out = [Vout(1000, addr) for addr in addrs]\n",
    "# 创建创币交易\n",
    "tx = Tx(tx_in, tx_out)\n",
    "# 创建创世区块\n",
    "gensis_block = Block(0, None, '0014', 18, 0, [tx])\n",
    "# 初始化UTXO_SET\n",
    "utxo_set = {}"
   ]
  },
  {
   "cell_type": "code",
   "execution_count": 12,
   "metadata": {},
   "outputs": [
    {
     "data": {
      "text/plain": [
       "[UTXO(vout:Vout(to_addr:1000,value:1PCsag7595KT3rotfk4XRy267cCTk49kvo),pointer:Pointer(tx_id:1b936dffcc05529e60dfd03465a8ad162ebca7021b8d53ec1adc3278409dee3e,n:0)),\n",
       " UTXO(vout:Vout(to_addr:1000,value:1AkmdaL18yA4yvzhjLpczLtY6rg17DCzfk),pointer:Pointer(tx_id:1b936dffcc05529e60dfd03465a8ad162ebca7021b8d53ec1adc3278409dee3e,n:1)),\n",
       " UTXO(vout:Vout(to_addr:1000,value:151gYqzSzcemwvzhyXFeusWb16jfE2J4qW),pointer:Pointer(tx_id:1b936dffcc05529e60dfd03465a8ad162ebca7021b8d53ec1adc3278409dee3e,n:2)),\n",
       " UTXO(vout:Vout(to_addr:1000,value:1DJMiQGy2zQWSmdLaEfTk1r7gweKasUTBk),pointer:Pointer(tx_id:1b936dffcc05529e60dfd03465a8ad162ebca7021b8d53ec1adc3278409dee3e,n:3)),\n",
       " UTXO(vout:Vout(to_addr:1000,value:1Lm7HSGuvagZZhs7vN4yoWs4kLae7Nx3Qh),pointer:Pointer(tx_id:1b936dffcc05529e60dfd03465a8ad162ebca7021b8d53ec1adc3278409dee3e,n:4))]"
      ]
     },
     "execution_count": 12,
     "metadata": {},
     "output_type": "execute_result"
    }
   ],
   "source": [
    "from simchain.peer import find_utxos_from_tx, add_utxo_from_block_to_set\n",
    "# 将单笔交易的输出单元封装成UTXO\n",
    "utxos = find_utxos_from_tx(tx)\n",
    "utxos"
   ]
  },
  {
   "cell_type": "code",
   "execution_count": 13,
   "metadata": {},
   "outputs": [
    {
     "data": {
      "text/plain": [
       "5"
      ]
     },
     "execution_count": 13,
     "metadata": {},
     "output_type": "execute_result"
    }
   ],
   "source": [
    "# 5个UTXO，如果每个地址对应一个节点，则每个节点一个UTXO\n",
    "len(utxos)"
   ]
  },
  {
   "cell_type": "code",
   "execution_count": 14,
   "metadata": {},
   "outputs": [
    {
     "data": {
      "text/plain": [
       "True"
      ]
     },
     "execution_count": 14,
     "metadata": {},
     "output_type": "execute_result"
    }
   ],
   "source": [
    "# 从单笔交易封装的UTXO添加到UTXO_SET\n",
    "add_utxos_from_tx_to_set(utxo_set, tx)\n",
    "list(utxo_set.values()) == utxos"
   ]
  },
  {
   "cell_type": "code",
   "execution_count": 15,
   "metadata": {},
   "outputs": [
    {
     "data": {
      "text/plain": [
       "[False, False, False, False, False]"
      ]
     },
     "execution_count": 15,
     "metadata": {},
     "output_type": "execute_result"
    }
   ],
   "source": [
    "# 所有UTXO未确认\n",
    "[utxo.confirmed for utxo in utxos]"
   ]
  },
  {
   "cell_type": "code",
   "execution_count": 16,
   "metadata": {},
   "outputs": [
    {
     "data": {
      "text/plain": [
       "True"
      ]
     },
     "execution_count": 16,
     "metadata": {},
     "output_type": "execute_result"
    }
   ],
   "source": [
    "from simchain.peer import find_utxos_from_block, add_utxo_from_block_to_set\n",
    "# 获取创世区块交易列表\n",
    "txs = gensis_block.txs\n",
    "# 从交易列表封装UTXO\n",
    "utxos1 = find_utxos_from_block(txs)\n",
    "utxo_set1 = {}\n",
    "# 将区块交易输出封装成UTXO添加到UTXO_SET\n",
    "add_utxo_from_block_to_set(utxo_set1, txs)\n",
    "utxos1 == list(utxo_set1.values())"
   ]
  },
  {
   "cell_type": "code",
   "execution_count": 17,
   "metadata": {},
   "outputs": [
    {
     "data": {
      "text/plain": [
       "[True, True, True, True, True]"
      ]
     },
     "execution_count": 17,
     "metadata": {},
     "output_type": "execute_result"
    }
   ],
   "source": [
    "# 所有UTXO已确认\n",
    "[utxo.confirmed for utxo in utxos1]"
   ]
  }
 ],
 "metadata": {
  "kernelspec": {
   "display_name": "Python 3",
   "language": "python",
   "name": "python3"
  },
  "language_info": {
   "codemirror_mode": {
    "name": "ipython",
    "version": 3
   },
   "file_extension": ".py",
   "mimetype": "text/x-python",
   "name": "python",
   "nbconvert_exporter": "python",
   "pygments_lexer": "ipython3",
   "version": "3.7.2"
  },
  "toc": {
   "base_numbering": 1,
   "nav_menu": {},
   "number_sections": false,
   "sideBar": true,
   "skip_h1_title": false,
   "title_cell": "Table of Contents",
   "title_sidebar": "Contents",
   "toc_cell": false,
   "toc_position": {},
   "toc_section_display": true,
   "toc_window_display": false
  }
 },
 "nbformat": 4,
 "nbformat_minor": 1
}
