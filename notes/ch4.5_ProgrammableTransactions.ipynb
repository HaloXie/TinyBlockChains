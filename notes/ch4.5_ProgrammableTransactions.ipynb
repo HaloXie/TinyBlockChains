{
 "cells": [
  {
   "cell_type": "markdown",
   "metadata": {
    "collapsed": true
   },
   "source": [
    "# 可编程的交易"
   ]
  },
  {
   "cell_type": "markdown",
   "metadata": {},
   "source": [
    "## 脚本引擎的工作原理"
   ]
  },
  {
   "cell_type": "markdown",
   "metadata": {},
   "source": [
    "脚本引擎实际上是一个堆栈机，从左至右的操作脚本指令。"
   ]
  },
  {
   "cell_type": "markdown",
   "metadata": {},
   "source": [
    "示例：脚本[2 3 ADD 5 EQUAL]的堆栈过程："
   ]
  },
  {
   "cell_type": "code",
   "execution_count": 1,
   "metadata": {},
   "outputs": [
    {
     "data": {
      "text/plain": [
       "[2]"
      ]
     },
     "execution_count": 1,
     "metadata": {},
     "output_type": "execute_result"
    },
    {
     "name": "stderr",
     "output_type": "stream",
     "text": [
      "2019-06-12 01:05:42,758 - Loaded backend module://ipykernel.pylab.backend_inline version unknown.\n"
     ]
    }
   ],
   "source": [
    "from simchain.vm import Stack\n",
    "# 创建一个栈实例\n",
    "stack = Stack()\n",
    "# 常量2入栈\n",
    "stack.push(2)\n",
    "stack"
   ]
  },
  {
   "cell_type": "code",
   "execution_count": 2,
   "metadata": {},
   "outputs": [
    {
     "data": {
      "text/plain": [
       "[2, 3]"
      ]
     },
     "execution_count": 2,
     "metadata": {},
     "output_type": "execute_result"
    }
   ],
   "source": [
    "# 常量3入栈\n",
    "stack.push(3)\n",
    "stack"
   ]
  },
  {
   "cell_type": "code",
   "execution_count": 3,
   "metadata": {},
   "outputs": [
    {
     "data": {
      "text/plain": [
       "5"
      ]
     },
     "execution_count": 3,
     "metadata": {},
     "output_type": "execute_result"
    }
   ],
   "source": [
    "# 栈顶和次栈顶元素出栈相加\n",
    "res = stack.pop() + stack.pop()\n",
    "res"
   ]
  },
  {
   "cell_type": "code",
   "execution_count": 4,
   "metadata": {},
   "outputs": [
    {
     "data": {
      "text/plain": [
       "[5]"
      ]
     },
     "execution_count": 4,
     "metadata": {},
     "output_type": "execute_result"
    }
   ],
   "source": [
    "# 结果入栈\n",
    "stack.push(res)\n",
    "stack"
   ]
  },
  {
   "cell_type": "code",
   "execution_count": 5,
   "metadata": {},
   "outputs": [
    {
     "data": {
      "text/plain": [
       "[5, 5]"
      ]
     },
     "execution_count": 5,
     "metadata": {},
     "output_type": "execute_result"
    }
   ],
   "source": [
    "# 常量5入栈\n",
    "stack.push(5)\n",
    "stack"
   ]
  },
  {
   "cell_type": "code",
   "execution_count": 6,
   "metadata": {},
   "outputs": [
    {
     "data": {
      "text/plain": [
       "True"
      ]
     },
     "execution_count": 6,
     "metadata": {},
     "output_type": "execute_result"
    }
   ],
   "source": [
    "# 判断栈顶元素和次栈顶元素是否相等\n",
    "flag = stack.pop() == stack.pop()\n",
    "flag"
   ]
  },
  {
   "cell_type": "code",
   "execution_count": 7,
   "metadata": {},
   "outputs": [
    {
     "data": {
      "text/plain": [
       "[True]"
      ]
     },
     "execution_count": 7,
     "metadata": {},
     "output_type": "execute_result"
    }
   ],
   "source": [
    "# 将结果入栈\n",
    "stack.push(flag)\n",
    "stack"
   ]
  },
  {
   "cell_type": "markdown",
   "metadata": {},
   "source": [
    "## 堆栈机LittleMachine"
   ]
  },
  {
   "cell_type": "markdown",
   "metadata": {},
   "source": [
    "目前支持的运算符指令  \n",
    "- OP_ADD：栈顶元素和次栈顶元素出栈，相加结果入栈\n",
    "- OP_MINUS：栈顶元素和次栈顶元素出栈，相减结果入栈\n",
    "- OP_MUL：栈顶元素和次栈顶元素出栈，相乘结果入栈\n",
    "- OP_EQ：栈顶元素和次栈顶元素出栈，比较是否相等，相等则继续执行，否则验证失败\n",
    "- OP_EQUAL：栈顶元素和次栈顶元素出栈，比较是否相等，相等则将True入栈，否则将False入栈\n",
    "- OP_CHECKSIG：栈顶元素和次栈顶元素出栈，调用签名验证函数对签名进行验证，通过将True入栈，否则将False入栈\n",
    "- OP_ADDR：栈顶元素出栈，调用公钥生成地址函数进行地址转换，并将结果入栈\n",
    "- OP_DUP：复制栈顶元素并入栈\n",
    "- OP_NDUP：复制栈顶n个元素并依次入栈\n",
    "- OP_CHECKMULSIG：将指定数量的签名和公钥依次出栈，调用签名函数验证每个签名，全部通过则将True入栈，否则将False入栈\n",
    "- OP_MULHASH：将n个公钥入栈，依次组合后进行哈希算法，并将结果入栈"
   ]
  },
  {
   "cell_type": "markdown",
   "metadata": {},
   "source": [
    "堆栈机实现的Python代码如下："
   ]
  },
  {
   "cell_type": "code",
   "execution_count": 8,
   "metadata": {},
   "outputs": [],
   "source": [
    "from simchain.ecc import convert_pubkey_to_addr, VerifyingKey, sha256d\n",
    "\n",
    "class LittleMachine(object):\n",
    "\n",
    "    def __init__(self):\n",
    "        \n",
    "        # 初始化栈\n",
    "        self.stack = Stack()\n",
    "        \n",
    "        # 定义操作符指令与空方法的映射关系\n",
    "        self._map = {\n",
    "            \"OP_ADD\":          self.add,\n",
    "            \"OP_MINUS\":        self.minus,\n",
    "            \"OP_MUL\":          self.mul,\n",
    "            \"OP_EQ\":           self.equal_check,\n",
    "            \"OP_EQUAL\"    :    self.equal,\n",
    "            \"OP_CHECKSIG\":     self.check_sig,\n",
    "            \"OP_ADDR\":         self.calc_addr,\n",
    "            \"OP_DUP\"      :    self.dup,\n",
    "            \"OP_NDUP\"     :    self.ndup,\n",
    "            \"OP_CHECKMULSIG\" : self.check_mulsig,\n",
    "            \"OP_MULHASH\":      self.calc_mulhash,\n",
    "            }\n",
    "\n",
    "    # 设置脚本\n",
    "    def set_script(self,script,message = b''):\n",
    "        # 清空栈\n",
    "        self.clear()\n",
    "        # 为真，堆栈继续，否则返回\n",
    "        self.result = True\n",
    "        # 操作指令的指针\n",
    "        self.pointer = 0\n",
    "        # 签名明文\n",
    "        self.message = message\n",
    "        # 脚本\n",
    "        self.script = script\n",
    "        \n",
    "    #将栈清空\n",
    "    def clear(self):\n",
    "        self.stack.clear()\n",
    "        \n",
    "    # 获取栈顶元首    \n",
    "    def peek(self):\n",
    "        return self.stack.peek()\n",
    "    \n",
    "    # 出栈\n",
    "    def pop(self):\n",
    "        return self.stack.pop()\n",
    "\n",
    "    # 入栈\n",
    "    def push(self,value):\n",
    "        self.stack.push(value)\n",
    "\n",
    "    # 执行指令    \n",
    "    def evaluate(self,op):\n",
    "        # 如果指令在_map映射中，则执行对应的方法\n",
    "        # 比如指令为OP_DUP，则执行dup()方法\n",
    "        if op in self._map:\n",
    "            self._map[op]()\n",
    "        \n",
    "        # 如果指令为常量入栈\n",
    "        elif isinstance(op,str) or\\\n",
    "             isinstance(op,bytes)or\\\n",
    "             isinstance(op,int) or\\\n",
    "             isinstance(op,bool):\n",
    "            self.push(op)\n",
    "        else:\n",
    "            logger.info('Uknow opcode: '.format(op))\n",
    "\n",
    "    # 加法方法\n",
    "    def add(self):\n",
    "        self.push(self.pop() + self.pop())\n",
    "    \n",
    "    # 减法方法\n",
    "    def minus(self):\n",
    "        last = self.pop()\n",
    "        self.push(self.pop() - last)\n",
    "\n",
    "    # 乘法方法\n",
    "    def mul(self):\n",
    "        self.push(self.pop() * self.pop())\n",
    "\n",
    "    # 复制栈顶元素并入栈\n",
    "    def dup(self):\n",
    "        self.push(self.peek())\n",
    "\n",
    "    # 复制n个元素入栈\n",
    "    def ndup(self):\n",
    "        # 栈顶元素出栈，得到要复制的元素个数\n",
    "        n = self.pop()\n",
    "        # 将栈顶的n个元素复制到栈顶\n",
    "        for val in self.stack[-n:]:\n",
    "            self.push(val)\n",
    "        # 将数量n复制到栈顶\n",
    "        self.push(n)\n",
    "\n",
    "    # 判断栈顶和次栈顶元素是否相等，不相等则堆栈结束\n",
    "    def equal_check(self):\n",
    "        flag = self.pop() == self.pop()\n",
    "        if not flag:\n",
    "            self.result = False\n",
    "\n",
    "    # 判断栈顶和次栈顶元素是否相等，并将结果入栈\n",
    "    def equal(self):\n",
    "        self.push(self.pop()==self.pop())\n",
    "\n",
    "    # 计算多公钥哈希值    \n",
    "    def calc_mulhash(self):\n",
    "        # 栈顶元素出栈，得到计算哈希的公钥个数n\n",
    "        n = self.pop()\n",
    "        # 将公钥依次出栈，并存储到列表中\n",
    "        pk_strs = [self.pop() for _ in range(n)]\n",
    "        # 将n个公钥组合进行哈希算法\n",
    "        s = b''\n",
    "        for val in pk_strs[::-1]:\n",
    "            s += val\n",
    "        self.push(sha256d(s))\n",
    "        \n",
    "    # 验证签名\n",
    "    def check_sig(self):\n",
    "        # 将栈顶元素出栈，并命名为pk_str,表示公钥字节串\n",
    "        pk_str = self.pop()\n",
    "        # 将次栈顶元素出栈，并命名为sig，表示签名\n",
    "        sig = self.pop()\n",
    "        # 用公钥字节串创建公钥对象\n",
    "        verifying_key = VerifyingKey.from_bytes(pk_str)\n",
    "        \n",
    "        # 尝试用公钥对象验证签名\n",
    "        try:\n",
    "            flag = verifying_key.verify(sig,self.message)\n",
    "        except Exception:\n",
    "            flag = False\n",
    "        self.push(flag)\n",
    "\n",
    "    # 验证多重签名\n",
    "    def check_mulsig(self):\n",
    "        # 栈顶元素出栈，得到公钥数量n\n",
    "        n = self.pop()\n",
    "        # 将n个公钥分别出栈，并存储在列表pk_strs中\n",
    "        pk_strs = [self.pop() for _ in range(n)]\n",
    "        # 栈顶元素出栈，得到签名数量m\n",
    "        m = self.pop()\n",
    "        # 将m个签名分别出栈，并存储在列表sigs中\n",
    "        sigs = [self.pop() for _ in range(m)]\n",
    "        # 获取后m个公钥\n",
    "        pk_strs = pk_strs[-m:]\n",
    "        # 每个签名进行验证\n",
    "        for i in range(m):\n",
    "            verifying_key = VerifyingKey.from_bytes(pk_strs[i])\n",
    "            try:\n",
    "                flag = verifying_key.verify(sigs[i],self.message)\n",
    "            except Exception:\n",
    "                flag = False\n",
    "            if not flag:\n",
    "                falg = False\n",
    "                break\n",
    "        self.push(flag)\n",
    "        \n",
    "    # 计算地址\n",
    "    def calc_addr(self):\n",
    "        # 将栈顶元素出栈，并命名为pk_str，表示公钥字节串\n",
    "        pk_str = self.pop()\n",
    "        # 将公钥字节串转换为地址并入栈\n",
    "        self.push(convert_pubkey_to_addr(pk_str))\n",
    "    \n",
    "    #运行脚本\n",
    "    def run(self):\n",
    "        # 如果操作指令指针大于等于脚本的长度，则退出循环\n",
    "        while (self.pointer < len(self.script)):\n",
    "            # 获取脚本指令\n",
    "            op = self.script[self.pointer]\n",
    "            # 操作指令指针加1\n",
    "            self.pointer += 1\n",
    "            # 执行操作指令\n",
    "            self.evaluate(op)\n",
    "        \n",
    "        # 如果出现堆栈结束的情况，则返回为False\n",
    "        if not self.result:\n",
    "            return False\n",
    "        # 否则返回栈顶元素\n",
    "        else:\n",
    "            return self.peek()"
   ]
  },
  {
   "cell_type": "markdown",
   "metadata": {},
   "source": [
    "### LittleMachine的使用"
   ]
  },
  {
   "cell_type": "code",
   "execution_count": 9,
   "metadata": {},
   "outputs": [
    {
     "data": {
      "text/plain": [
       "True"
      ]
     },
     "execution_count": 9,
     "metadata": {},
     "output_type": "execute_result"
    }
   ],
   "source": [
    "from simchain.vm import LittleMachine\n",
    "# 定义脚本\n",
    "script = [2, 3, 'OP_ADD', 5, 'OP_EQUAL']\n",
    "machine = LittleMachine()\n",
    "machine.set_script(script)\n",
    "machine.run()"
   ]
  },
  {
   "cell_type": "code",
   "execution_count": 10,
   "metadata": {},
   "outputs": [
    {
     "data": {
      "text/plain": [
       "'U'"
      ]
     },
     "execution_count": 10,
     "metadata": {},
     "output_type": "execute_result"
    }
   ],
   "source": [
    "script = [1, 'I', 'U', 'OP_DUP']\n",
    "machine.set_script(script)\n",
    "machine.run()"
   ]
  },
  {
   "cell_type": "code",
   "execution_count": 11,
   "metadata": {},
   "outputs": [
    {
     "data": {
      "text/plain": [
       "[1, 'I', 'U', 'U']"
      ]
     },
     "execution_count": 11,
     "metadata": {},
     "output_type": "execute_result"
    }
   ],
   "source": [
    "# 复制'U'\n",
    "machine.stack"
   ]
  },
  {
   "cell_type": "code",
   "execution_count": 12,
   "metadata": {},
   "outputs": [
    {
     "data": {
      "text/plain": [
       "2"
      ]
     },
     "execution_count": 12,
     "metadata": {},
     "output_type": "execute_result"
    }
   ],
   "source": [
    "script = [1, 'I', 'U', 2, 'OP_NDUP']\n",
    "machine.set_script(script)\n",
    "machine.run()"
   ]
  },
  {
   "cell_type": "code",
   "execution_count": 13,
   "metadata": {},
   "outputs": [
    {
     "data": {
      "text/plain": [
       "[1, 'I', 'U', 'I', 'U', 2]"
      ]
     },
     "execution_count": 13,
     "metadata": {},
     "output_type": "execute_result"
    }
   ],
   "source": [
    "# 复制'I', 'U'\n",
    "machine.stack"
   ]
  },
  {
   "cell_type": "code",
   "execution_count": 14,
   "metadata": {},
   "outputs": [
    {
     "data": {
      "text/plain": [
       "'15Kx26NBHA2521LZWYe9GHcgPa9PMKvPGj'"
      ]
     },
     "execution_count": 14,
     "metadata": {},
     "output_type": "execute_result"
    }
   ],
   "source": [
    "script = [1, b'I', b'U', 'OP_ADDR']\n",
    "machine.set_script(script)\n",
    "machine.run()"
   ]
  },
  {
   "cell_type": "code",
   "execution_count": 15,
   "metadata": {},
   "outputs": [
    {
     "data": {
      "text/plain": [
       "[1, b'I', '15Kx26NBHA2521LZWYe9GHcgPa9PMKvPGj']"
      ]
     },
     "execution_count": 15,
     "metadata": {},
     "output_type": "execute_result"
    }
   ],
   "source": [
    "machine.stack"
   ]
  },
  {
   "cell_type": "code",
   "execution_count": 16,
   "metadata": {},
   "outputs": [
    {
     "data": {
      "text/plain": [
       "'732a89979416a90e1a28f20a0ca9aa453936b37847a76a7ee769e1e4f343daef'"
      ]
     },
     "execution_count": 16,
     "metadata": {},
     "output_type": "execute_result"
    }
   ],
   "source": [
    "script = [1, b'I', b'U', 2, 'OP_MULHASH']\n",
    "machine.set_script(script)\n",
    "machine.run()"
   ]
  },
  {
   "cell_type": "code",
   "execution_count": 17,
   "metadata": {},
   "outputs": [
    {
     "data": {
      "text/plain": [
       "[1, '732a89979416a90e1a28f20a0ca9aa453936b37847a76a7ee769e1e4f343daef']"
      ]
     },
     "execution_count": 17,
     "metadata": {},
     "output_type": "execute_result"
    }
   ],
   "source": [
    "machine.stack"
   ]
  },
  {
   "cell_type": "markdown",
   "metadata": {},
   "source": [
    "还可以对单个输入单元进行验证"
   ]
  },
  {
   "cell_type": "code",
   "execution_count": 18,
   "metadata": {},
   "outputs": [
    {
     "data": {
      "text/plain": [
       "b'\\xa7\\x0by\\xd8,a\\xcea\\xd9^\\xde \\x16\\xf3\\xf7\\x9dO`f(\\xa1\\x84\\x9e\\xef\\xd3\\xa5\\xeb\\xcc\\x17\\x9c-\\xffw\\x99=\\xc7\\xde\\xf8\\x8e\\xf2\\xb2\\xabry\\xd9C\\xe2\\xb0:h\\xa9.!\\x9e\\xcc\\x80\\x8b\\x87\\xf7\\xa2\\xf2\\xcek#(\\xb4Dc\\xfe\\x11]fd\\x9e\\x14%\\xa2\\n\\xb6L\\xfe\\xeb\\x95\\x90\\xc2z!\\xee\\xedK\\xc9\\x1b+\\xe0\\x00\\xfb\\xafF?\\x82[R\\x8d\\x1aI\\xff\\xc9\\xf5\\xdc\\xb7|0|I\\x05=\\x064\\x04*\\xd8a\\x93\\xd2\\xbd\\x12|\"'"
      ]
     },
     "execution_count": 18,
     "metadata": {},
     "output_type": "execute_result"
    }
   ],
   "source": [
    "from simchain import Pointer, Vin, Vout, Tx\n",
    "from simchain.ecc import SigningKey, convert_pubkey_to_addr, VerifyingKey\n",
    "\n",
    "# 假设这是张三的私钥\n",
    "k = 3457534\n",
    "# 用整数创建一个私钥对象\n",
    "sk = SigningKey.from_number(k)\n",
    "# 获取该私钥对应的公钥\n",
    "pk = sk.get_verifying_key()\n",
    "# 将公钥转换为对应的地址\n",
    "addr = convert_pubkey_to_addr(pk.to_bytes())\n",
    "# 用创币交易给张三发100的钱\n",
    "coinbase = Tx.create_coinbase(addr, 100)\n",
    "# 获取张三创币交易中的UTXO的定位指针\n",
    "pointer = Pointer(coinbase.id , 0)\n",
    "# 张三选择一条签名明文\n",
    "message = b'I love blockchain'\n",
    "# 用该明文签名\n",
    "sig = sk.sign(message)\n",
    "# 创建一个输入段元\n",
    "vin = Vin(pointer, sig, pk.to_bytes())\n",
    "# 输入单元的解锁脚本\n",
    "vin.sig_script"
   ]
  },
  {
   "cell_type": "code",
   "execution_count": 19,
   "metadata": {},
   "outputs": [
    {
     "data": {
      "text/plain": [
       "128"
      ]
     },
     "execution_count": 19,
     "metadata": {},
     "output_type": "execute_result"
    }
   ],
   "source": [
    "# 解锁脚本长度为128\n",
    "len(vin.sig_script)"
   ]
  },
  {
   "cell_type": "code",
   "execution_count": 20,
   "metadata": {},
   "outputs": [
    {
     "data": {
      "text/plain": [
       "32"
      ]
     },
     "execution_count": 20,
     "metadata": {},
     "output_type": "execute_result"
    }
   ],
   "source": [
    "# 私钥字节串长度为32\n",
    "len(sk.to_bytes())"
   ]
  },
  {
   "cell_type": "code",
   "execution_count": 21,
   "metadata": {},
   "outputs": [
    {
     "data": {
      "text/plain": [
       "64"
      ]
     },
     "execution_count": 21,
     "metadata": {},
     "output_type": "execute_result"
    }
   ],
   "source": [
    "# 公钥字节串长度为64\n",
    "len(pk.to_bytes())"
   ]
  },
  {
   "cell_type": "code",
   "execution_count": 22,
   "metadata": {},
   "outputs": [
    {
     "data": {
      "text/plain": [
       "64"
      ]
     },
     "execution_count": 22,
     "metadata": {},
     "output_type": "execute_result"
    }
   ],
   "source": [
    "# 签名长度为64\n",
    "len(sig)"
   ]
  },
  {
   "cell_type": "code",
   "execution_count": 23,
   "metadata": {},
   "outputs": [
    {
     "data": {
      "text/plain": [
       "'OP_DUP OP_ADDR 1AiTFmgGc1uP5Q28RLFBiP4nH22UgPhkks OP_EQ OP_CHECKSIG'"
      ]
     },
     "execution_count": 23,
     "metadata": {},
     "output_type": "execute_result"
    }
   ],
   "source": [
    "# 获取vin中使用的UTXO\n",
    "vout = coinbase.tx_out[0]\n",
    "# 获取锁定脚本\n",
    "vout.pubkey_script"
   ]
  },
  {
   "cell_type": "code",
   "execution_count": 24,
   "metadata": {},
   "outputs": [
    {
     "data": {
      "text/plain": [
       "'1AiTFmgGc1uP5Q28RLFBiP4nH22UgPhkks'"
      ]
     },
     "execution_count": 24,
     "metadata": {},
     "output_type": "execute_result"
    }
   ],
   "source": [
    "# 张三的地址\n",
    "addr"
   ]
  },
  {
   "cell_type": "code",
   "execution_count": 25,
   "metadata": {},
   "outputs": [
    {
     "data": {
      "text/plain": [
       "[b'\\xa7\\x0by\\xd8,a\\xcea\\xd9^\\xde \\x16\\xf3\\xf7\\x9dO`f(\\xa1\\x84\\x9e\\xef\\xd3\\xa5\\xeb\\xcc\\x17\\x9c-\\xffw\\x99=\\xc7\\xde\\xf8\\x8e\\xf2\\xb2\\xabry\\xd9C\\xe2\\xb0:h\\xa9.!\\x9e\\xcc\\x80\\x8b\\x87\\xf7\\xa2\\xf2\\xcek#',\n",
       " b'(\\xb4Dc\\xfe\\x11]fd\\x9e\\x14%\\xa2\\n\\xb6L\\xfe\\xeb\\x95\\x90\\xc2z!\\xee\\xedK\\xc9\\x1b+\\xe0\\x00\\xfb\\xafF?\\x82[R\\x8d\\x1aI\\xff\\xc9\\xf5\\xdc\\xb7|0|I\\x05=\\x064\\x04*\\xd8a\\x93\\xd2\\xbd\\x12|\"']"
      ]
     },
     "execution_count": 25,
     "metadata": {},
     "output_type": "execute_result"
    }
   ],
   "source": [
    "# 解锁脚本解码\n",
    "sig_script = [vin.sig_script[:64], vin.sig_script[64:]]\n",
    "sig_script"
   ]
  },
  {
   "cell_type": "code",
   "execution_count": 26,
   "metadata": {},
   "outputs": [
    {
     "data": {
      "text/plain": [
       "['OP_DUP',\n",
       " 'OP_ADDR',\n",
       " '1AiTFmgGc1uP5Q28RLFBiP4nH22UgPhkks',\n",
       " 'OP_EQ',\n",
       " 'OP_CHECKSIG']"
      ]
     },
     "execution_count": 26,
     "metadata": {},
     "output_type": "execute_result"
    }
   ],
   "source": [
    "# 将锁定脚本存储到列表\n",
    "pubkey_script = vout.pubkey_script.split(' ')\n",
    "pubkey_script"
   ]
  },
  {
   "cell_type": "code",
   "execution_count": 27,
   "metadata": {},
   "outputs": [
    {
     "data": {
      "text/plain": [
       "[b'\\xa7\\x0by\\xd8,a\\xcea\\xd9^\\xde \\x16\\xf3\\xf7\\x9dO`f(\\xa1\\x84\\x9e\\xef\\xd3\\xa5\\xeb\\xcc\\x17\\x9c-\\xffw\\x99=\\xc7\\xde\\xf8\\x8e\\xf2\\xb2\\xabry\\xd9C\\xe2\\xb0:h\\xa9.!\\x9e\\xcc\\x80\\x8b\\x87\\xf7\\xa2\\xf2\\xcek#',\n",
       " b'(\\xb4Dc\\xfe\\x11]fd\\x9e\\x14%\\xa2\\n\\xb6L\\xfe\\xeb\\x95\\x90\\xc2z!\\xee\\xedK\\xc9\\x1b+\\xe0\\x00\\xfb\\xafF?\\x82[R\\x8d\\x1aI\\xff\\xc9\\xf5\\xdc\\xb7|0|I\\x05=\\x064\\x04*\\xd8a\\x93\\xd2\\xbd\\x12|\"',\n",
       " 'OP_DUP',\n",
       " 'OP_ADDR',\n",
       " '1AiTFmgGc1uP5Q28RLFBiP4nH22UgPhkks',\n",
       " 'OP_EQ',\n",
       " 'OP_CHECKSIG']"
      ]
     },
     "execution_count": 27,
     "metadata": {},
     "output_type": "execute_result"
    }
   ],
   "source": [
    "script = sig_script + pubkey_script\n",
    "script"
   ]
  },
  {
   "cell_type": "code",
   "execution_count": 28,
   "metadata": {},
   "outputs": [
    {
     "data": {
      "text/plain": [
       "True"
      ]
     },
     "execution_count": 28,
     "metadata": {},
     "output_type": "execute_result"
    }
   ],
   "source": [
    "machine = LittleMachine()\n",
    "machine.set_script(sig_script + pubkey_script, message)\n",
    "machine.run()"
   ]
  },
  {
   "cell_type": "markdown",
   "metadata": {},
   "source": [
    "可对交易的每一个输入单元进行验证"
   ]
  },
  {
   "cell_type": "code",
   "execution_count": 29,
   "metadata": {},
   "outputs": [],
   "source": [
    "# 节点对每个Vin进行验证\n",
    "def verify_signature(peer,vin,utxo,tx_out):\n",
    "    # 获取解锁脚本和锁定脚本的组合\n",
    "    script = check_script_for_vin(vin,utxo,peer.key_base_len)\n",
    "    # 判空\n",
    "    if not script:\n",
    "        return False\n",
    "    \n",
    "    # 选择验证签名的明文\n",
    "    string = str(vin.to_spend) + str(vin.pubkey) + str(tx_out)\n",
    "    message = build_message(string)\n",
    "    # 设置节点堆栈机的脚本和签名明文\n",
    "    peer.machine.set_script(script,message)\n",
    "    # 返回结果\n",
    "    return peer.machine.run()\n",
    "\n",
    "# 检查脚本格式并组合\n",
    "def check_script_for_vin(vin,utxo,baselen):\n",
    "    # 从输入单元中获取解锁脚本，从UTXO中获取锁定脚本\n",
    "    sig_script,pubkey_script = vin.sig_script,utxo.pubkey_script\n",
    "    \n",
    "    # 基本编码长度的2倍和4倍数，基本编码长度是1个整数的编码长度，如果私钥的长度在椭圆曲线签名中，签名是2个整数，所以长度是2倍的基本编码长度\n",
    "    # 公钥是一个点，也是2个整数，所以也是2倍的基本编码长度，而解锁甲苯包含签名和公钥，所以长度是4倍。\n",
    "    double,fourfold = int(baselen*2),int(baselen*4)\n",
    "    if len(sig_script) != fourfold:\n",
    "        return False\n",
    "    sig_scrip = [sig_script[:double],sig_script[double:]]\n",
    "    try:\n",
    "        pubkey_script = pubkey_script.split(' ')\n",
    "    except Exception:\n",
    "        return False\n",
    "\n",
    "    return sig_scrip+pubkey_script"
   ]
  },
  {
   "cell_type": "markdown",
   "metadata": {},
   "source": [
    "## 多重签名"
   ]
  },
  {
   "cell_type": "markdown",
   "metadata": {},
   "source": [
    "用LittleMachine进行多重签名的示例"
   ]
  },
  {
   "cell_type": "code",
   "execution_count": 30,
   "metadata": {},
   "outputs": [],
   "source": [
    "from simchain import SigningKey, sha256d\n",
    "\n",
    "# A的私钥，整数\n",
    "kA = 3453543\n",
    "# B的私钥，整数\n",
    "kB = 2349334\n",
    "# 创建A、B的私钥对象\n",
    "skA = SigningKey.from_number(kA)\n",
    "skB = SigningKey.from_number(kB)\n",
    "# A、B的公钥\n",
    "pkA = skA.get_verifying_key()\n",
    "pkB = skB.get_verifying_key()\n",
    "# 签名明文\n",
    "message = b'I love blockchain'\n",
    "# A、B的签名\n",
    "sigA = skA.sign(message)\n",
    "sigB = skB.sign(message)\n",
    "# 组合A和B的公钥并计算哈希值\n",
    "Hash = sha256d(pkA.to_bytes() + pkB.to_bytes())\n",
    "# 解锁脚本\n",
    "sig_script = [sigA, sigB, 2, pkA.to_bytes(), pkB.to_bytes(), 2]\n",
    "# UTXO中的锁定脚本\n",
    "pubkey_script = ['OP_NDUP', 'OP_MULHASH', Hash, 'OP_EQ', 2, 'OP_CHECKMULSIG']\n",
    "# 组合脚本\n",
    "script = sig_script + pubkey_script"
   ]
  },
  {
   "cell_type": "code",
   "execution_count": 31,
   "metadata": {},
   "outputs": [
    {
     "data": {
      "text/plain": [
       "True"
      ]
     },
     "execution_count": 31,
     "metadata": {},
     "output_type": "execute_result"
    }
   ],
   "source": [
    "machine = LittleMachine()\n",
    "machine.set_script(script, message)\n",
    "machine.run()"
   ]
  }
 ],
 "metadata": {
  "kernelspec": {
   "display_name": "Python 3",
   "language": "python",
   "name": "python3"
  },
  "language_info": {
   "codemirror_mode": {
    "name": "ipython",
    "version": 3
   },
   "file_extension": ".py",
   "mimetype": "text/x-python",
   "name": "python",
   "nbconvert_exporter": "python",
   "pygments_lexer": "ipython3",
   "version": "3.7.2"
  },
  "toc": {
   "base_numbering": 1,
   "nav_menu": {},
   "number_sections": false,
   "sideBar": true,
   "skip_h1_title": false,
   "title_cell": "Table of Contents",
   "title_sidebar": "Contents",
   "toc_cell": false,
   "toc_position": {},
   "toc_section_display": true,
   "toc_window_display": false
  }
 },
 "nbformat": 4,
 "nbformat_minor": 1
}
