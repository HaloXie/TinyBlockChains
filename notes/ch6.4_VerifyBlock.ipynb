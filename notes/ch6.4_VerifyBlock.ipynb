{
 "cells": [
  {
   "cell_type": "markdown",
   "metadata": {
    "collapsed": true
   },
   "source": [
    "# 验证区块"
   ]
  },
  {
   "cell_type": "markdown",
   "metadata": {},
   "source": [
    "当获胜“矿工”将其打包的区块广播到网络中后，接收到区块的节点会独立验证每个区块的有效性。"
   ]
  },
  {
   "cell_type": "code",
   "execution_count": 1,
   "metadata": {},
   "outputs": [],
   "source": [
    "# peer：节点对象，block：待验证区块\n",
    "def verify_winner_block(peer, block):\n",
    "    # 判断区块类型是否为Block\n",
    "    if not isinstance(block, Block):\n",
    "        return False\n",
    "\n",
    "    # 验证工作量证明nonce\n",
    "    if int(block.hash, 16) > caculate_target(block.bits):\n",
    "        logger.info('{0} wrong answer'.format(block))\n",
    "        return False\n",
    "\n",
    "    # 获取区块交易\n",
    "    txs = block.txs\n",
    "    # 判断交易列表是否为list或tuple类型\n",
    "    if not isinstance(txs, list) and \\\n",
    "            not isinstance(txs, tuple):\n",
    "        logger.info('incorrect txs type in {0}'.format(block))\n",
    "        return False\n",
    "\n",
    "    # 判断交易的数量是否大于2\n",
    "    if len(txs) < 2:\n",
    "        logger.info('no enough txs for txs {0}'.format(block))\n",
    "        return False\n",
    "\n",
    "    # 获取非创币交易列表\n",
    "    block_txs = txs[1:]\n",
    "    #计算奖励总额，为“挖矿”奖励和交易费之和\n",
    "    rewards = peer.get_block_reward() + peer.calculate_fees(block_txs)\n",
    "    # 验证创币交易的有效性\n",
    "    if not verify_coinbase(block.txs[0], rewards):\n",
    "        logger.info('{0} coinbase incorrect'.format(block))\n",
    "        return False\n",
    "\n",
    "    # 验证区块交易列表中是否存在双重支付\n",
    "    if double_payment_in_block_txs(block_txs):\n",
    "        logger.info('double payment in {0}'.format(block))\n",
    "        return False\n",
    "\n",
    "    # 验证区块中非创币交易的有效性\n",
    "    for tx in block_txs:\n",
    "        if not verify_tx(peer, tx):\n",
    "            return False\n",
    "    return True"
   ]
  },
  {
   "cell_type": "markdown",
   "metadata": {},
   "source": [
    "验证区块交易列表总是否存在双重支付是指，判断是否存在至少两条交易的输入单元使用了相同的UTXO。"
   ]
  },
  {
   "cell_type": "code",
   "execution_count": 2,
   "metadata": {},
   "outputs": [],
   "source": [
    "# txs：非创币交易列表\n",
    "def double_payment_in_block_txs(txs):\n",
    "    # 将所有交易输入单元的定位指针存储到集合a中\n",
    "    a = {vin.to_spend for tx in txs for vin in tx.tx_in}\n",
    "    # 将所有交易输入单元的定位指针存储到列表b中\n",
    "    b = [vin.to_spend for tx in txs for vin in tx.tx_in]\n",
    "    \n",
    "    # 如果a,b元素数量不相等，则为双重支付\n",
    "    # 原因是集合中不含重复元素，列表则不是\n",
    "    # 如果存在输入单元使用相同的UTXO，则集合的长度将比列表小\n",
    "    return len(a) != len(b)"
   ]
  },
  {
   "cell_type": "code",
   "execution_count": 3,
   "metadata": {},
   "outputs": [
    {
     "name": "stderr",
     "output_type": "stream",
     "text": [
      "2019-06-14 00:10:04,465 - A blockchain p2p network created,12 peers joined\n",
      "2019-06-14 00:10:04,510 - genesis block has been generated\n",
      "2019-06-14 00:10:04,555 - peer(9, 99)(pid=5) created a transaction\n",
      "2019-06-14 00:10:04,556 - peer(9, 99)(pid=5) sent a transaction to network\n",
      "2019-06-14 00:10:05,416 - peer(9, 99)(pid=5)'s transaction verified by 11 peers\n",
      "2019-06-14 00:10:05,458 - peer(41, 51)(pid=7) created a transaction\n",
      "2019-06-14 00:10:05,460 - peer(41, 51)(pid=7) sent a transaction to network\n",
      "2019-06-14 00:10:06,316 - peer(41, 51)(pid=7)'s transaction verified by 11 peers\n",
      "2019-06-14 00:10:06,359 - peer(41, 51)(pid=7) created a transaction\n",
      "2019-06-14 00:10:06,361 - peer(41, 51)(pid=7) sent a transaction to network\n",
      "2019-06-14 00:10:07,224 - peer(41, 51)(pid=7)'s transaction verified by 11 peers\n",
      "2019-06-14 00:10:07,267 - peer(7, 86)(pid=2) created a transaction\n",
      "2019-06-14 00:10:07,269 - peer(7, 86)(pid=2) sent a transaction to network\n",
      "2019-06-14 00:10:08,117 - peer(7, 86)(pid=2)'s transaction verified by 11 peers\n",
      "2019-06-14 00:10:08,159 - peer(8, 18)(pid=6) created a transaction\n",
      "2019-06-14 00:10:08,163 - peer(8, 18)(pid=6) sent a transaction to network\n",
      "2019-06-14 00:10:09,004 - peer(8, 18)(pid=6)'s transaction verified by 11 peers\n",
      "2019-06-14 00:10:09,048 - peer(88, 76)(pid=10) created a transaction\n",
      "2019-06-14 00:10:09,050 - peer(88, 76)(pid=10) sent a transaction to network\n",
      "2019-06-14 00:10:09,896 - peer(88, 76)(pid=10)'s transaction verified by 11 peers\n",
      "2019-06-14 00:10:09,937 - peer(41, 51)(pid=7) created a transaction\n",
      "2019-06-14 00:10:09,939 - peer(41, 51)(pid=7) sent a transaction to network\n",
      "2019-06-14 00:10:10,803 - peer(41, 51)(pid=7)'s transaction verified by 11 peers\n",
      "2019-06-14 00:10:10,845 - peer(27, 64)(pid=8) created a transaction\n",
      "2019-06-14 00:10:10,847 - peer(27, 64)(pid=8) sent a transaction to network\n",
      "2019-06-14 00:10:11,704 - peer(27, 64)(pid=8)'s transaction verified by 11 peers\n",
      "2019-06-14 00:10:11,746 - peer(75, 74)(pid=3) created a transaction\n",
      "2019-06-14 00:10:11,750 - peer(75, 74)(pid=3) sent a transaction to network\n",
      "2019-06-14 00:10:12,607 - peer(75, 74)(pid=3)'s transaction verified by 9 peers\n",
      "2019-06-14 00:10:12,649 - peer(9, 99)(pid=5) created a transaction\n",
      "2019-06-14 00:10:12,651 - peer(9, 99)(pid=5) sent a transaction to network\n",
      "2019-06-14 00:10:13,504 - peer(9, 99)(pid=5)'s transaction verified by 11 peers\n",
      "2019-06-14 00:10:13,546 - peer(27, 35)(pid=11) created a transaction\n",
      "2019-06-14 00:10:13,550 - peer(27, 35)(pid=11) sent a transaction to network\n",
      "2019-06-14 00:10:14,413 - peer(27, 35)(pid=11)'s transaction verified by 11 peers\n"
     ]
    },
    {
     "data": {
      "text/plain": [
       "Block(hash:20616d1a002bba39688fbb3a4b0a0c2d29963b355d9c83c35af3800faaf6cf50)"
      ]
     },
     "execution_count": 3,
     "metadata": {},
     "output_type": "execute_result"
    }
   ],
   "source": [
    "from simchain import Network\n",
    "from simchain.peer import verify_winner_block\n",
    "from simchain.consensus import mine\n",
    "net = Network()\n",
    "net.make_random_transactions()\n",
    "zhangsan, lisi = net.peers[0], net.peers[1]\n",
    "# 张三创建候选区块\n",
    "zhangsan.create_candidate_block()\n",
    "block = zhangsan.candidate_block\n",
    "block"
   ]
  },
  {
   "cell_type": "code",
   "execution_count": 4,
   "metadata": {},
   "outputs": [
    {
     "data": {
      "text/plain": [
       "358269"
      ]
     },
     "execution_count": 4,
     "metadata": {},
     "output_type": "execute_result"
    }
   ],
   "source": [
    "# “挖矿”求nonce\n",
    "nonce = mine(block)\n",
    "nonce"
   ]
  },
  {
   "cell_type": "code",
   "execution_count": 5,
   "metadata": {},
   "outputs": [
    {
     "data": {
      "text/plain": [
       "Block(hash:000016d2c2678f7b41958dd019fb9dbbae4c440bb143c30531d32ca386631ead)"
      ]
     },
     "execution_count": 5,
     "metadata": {},
     "output_type": "execute_result"
    }
   ],
   "source": [
    "# 打包区块\n",
    "block = block._replace(nonce=nonce)\n",
    "block"
   ]
  },
  {
   "cell_type": "code",
   "execution_count": 6,
   "metadata": {},
   "outputs": [
    {
     "data": {
      "text/plain": [
       "True"
      ]
     },
     "execution_count": 6,
     "metadata": {},
     "output_type": "execute_result"
    }
   ],
   "source": [
    "# 李四验证区块有效性\n",
    "verify_winner_block(lisi, block)"
   ]
  },
  {
   "cell_type": "code",
   "execution_count": 7,
   "metadata": {},
   "outputs": [
    {
     "data": {
      "text/plain": [
       "0"
      ]
     },
     "execution_count": 7,
     "metadata": {},
     "output_type": "execute_result"
    }
   ],
   "source": [
    "# 获取交易的版本号\n",
    "block.version"
   ]
  },
  {
   "cell_type": "code",
   "execution_count": 8,
   "metadata": {},
   "outputs": [
    {
     "data": {
      "text/plain": [
       "Block(hash:1d82a2cfc2f9893e026c66ffe9aa68968f7310bcf0b2f63c3a2d99c1f7c04963)"
      ]
     },
     "execution_count": 8,
     "metadata": {},
     "output_type": "execute_result"
    }
   ],
   "source": [
    "from simchain import Block\n",
    "version = 2\n",
    "prev_block_hash = block.prev_block_hash\n",
    "timestamp = block.timestamp\n",
    "bits = block.bits\n",
    "nonce = block.nonce\n",
    "txs = block.txs\n",
    "# 新的区块仅改变了版本号\n",
    "new_block = Block(version, prev_block_hash, timestamp, bits, nonce, txs)\n",
    "new_block"
   ]
  },
  {
   "cell_type": "code",
   "execution_count": 9,
   "metadata": {},
   "outputs": [
    {
     "name": "stderr",
     "output_type": "stream",
     "text": [
      "2019-06-14 00:10:17,574 - Block(hash:1d82a2cfc2f9893e026c66ffe9aa68968f7310bcf0b2f63c3a2d99c1f7c04963) wrong answer\n"
     ]
    },
    {
     "data": {
      "text/plain": [
       "False"
      ]
     },
     "execution_count": 9,
     "metadata": {},
     "output_type": "execute_result"
    }
   ],
   "source": [
    "# 新区块验证不通过，提示：答案不正确\n",
    "verify_winner_block(lisi, new_block)"
   ]
  }
 ],
 "metadata": {
  "kernelspec": {
   "display_name": "Python 3",
   "language": "python",
   "name": "python3"
  },
  "language_info": {
   "codemirror_mode": {
    "name": "ipython",
    "version": 3
   },
   "file_extension": ".py",
   "mimetype": "text/x-python",
   "name": "python",
   "nbconvert_exporter": "python",
   "pygments_lexer": "ipython3",
   "version": "3.7.2"
  },
  "toc": {
   "base_numbering": 1,
   "nav_menu": {},
   "number_sections": false,
   "sideBar": true,
   "skip_h1_title": false,
   "title_cell": "Table of Contents",
   "title_sidebar": "Contents",
   "toc_cell": false,
   "toc_position": {},
   "toc_section_display": true,
   "toc_window_display": false
  }
 },
 "nbformat": 4,
 "nbformat_minor": 1
}
