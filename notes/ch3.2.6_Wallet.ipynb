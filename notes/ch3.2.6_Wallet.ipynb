{
 "cells": [
  {
   "cell_type": "markdown",
   "metadata": {
    "collapsed": true
   },
   "source": [
    "# 钱包\n",
    "\n",
    "钱包是用来存放用户私钥。"
   ]
  },
  {
   "cell_type": "markdown",
   "metadata": {},
   "source": [
    "## 不确定性钱包\n",
    "当用户需要使用新地址时，钱包将随机生成私钥并计算地址，私钥生成的方式无规律可循。"
   ]
  },
  {
   "cell_type": "code",
   "execution_count": 1,
   "metadata": {},
   "outputs": [
    {
     "data": {
      "text/plain": [
       "10"
      ]
     },
     "execution_count": 1,
     "metadata": {},
     "output_type": "execute_result"
    },
    {
     "name": "stderr",
     "output_type": "stream",
     "text": [
      "2019-04-29 09:36:21,080 - Loaded backend module://ipykernel.pylab.backend_inline version unknown.\n"
     ]
    }
   ],
   "source": [
    "from simchain import Wallet\n",
    "\n",
    "# 创建一个钱包\n",
    "w = Wallet()\n",
    "\n",
    "# 随机生成10对密钥\n",
    "for _ in range(10):\n",
    "    w.generate_keys()\n",
    "w.nok"
   ]
  },
  {
   "cell_type": "code",
   "execution_count": 2,
   "metadata": {},
   "outputs": [
    {
     "data": {
      "text/plain": [
       "b\"\\x05\\x8eE\\xb0\\x8a'\\xedKEd\\x87\\xc1(7+\\x01d\\xa8n\\xbb\\x10\\xd7'5\\xf9\\x8d\\xb9\\xc4\\xcf\\x88\\xf15\""
      ]
     },
     "execution_count": 2,
     "metadata": {},
     "output_type": "execute_result"
    }
   ],
   "source": [
    "# 访问最后一对密钥中私钥的字节串编码\n",
    "w.keys[-1].sk.to_bytes()"
   ]
  },
  {
   "cell_type": "code",
   "execution_count": 3,
   "metadata": {},
   "outputs": [
    {
     "data": {
      "text/plain": [
       "b\"\\x95\\x1c\\x0bhG\\xc8\\x83'o\\x80\\xb8;\\xd0\\xbb\\xc5\\xfb>\\x91\\xfd\\x15p\\x06\\x1b\\x9e@\\x94IQ\\x95\\xa2\\xc7\\xfd\""
      ]
     },
     "execution_count": 3,
     "metadata": {},
     "output_type": "execute_result"
    }
   ],
   "source": [
    "# 访问倒数第二对密钥中私钥的字节串编码\n",
    "w.keys[8].sk.to_bytes()"
   ]
  },
  {
   "cell_type": "markdown",
   "metadata": {},
   "source": [
    "## 分层确定性钱包（Hierachical Deterministic Wallets）\n",
    "\n",
    "### 种子\n",
    "也称为“种子”钱包，“种子”通过密码学上安全的伪随机数生成器，生成128、256或512位的随机数。然后通过HMAC-SHA512运算得到一个512位的输出，输出的左边256位为主私钥，右边256位为主链码，主公钥和地址通过主私钥生成。"
   ]
  },
  {
   "cell_type": "code",
   "execution_count": 4,
   "metadata": {},
   "outputs": [
    {
     "data": {
      "text/plain": [
       "b'\\xb6\\xba\\xe2\\xbbg\\x8b\\x84\\xd6\\xf9f\\x83\\xa3W\\xfe\\xaf\\x04g6L\\xf3\\x9e\\xc6e\\x9f\\x8do\\xd4\\xd2\\xa1\\xfc\\x89O'"
      ]
     },
     "execution_count": 4,
     "metadata": {},
     "output_type": "execute_result"
    }
   ],
   "source": [
    "import os\n",
    "import hashlib\n",
    "import hmac\n",
    "from simchain import SigningKey\n",
    "\n",
    "# 生成一个随机种子，256位\n",
    "master_seed = os.urandom(32)\n",
    "master_seed"
   ]
  },
  {
   "cell_type": "code",
   "execution_count": 5,
   "metadata": {},
   "outputs": [
    {
     "data": {
      "text/plain": [
       "b'\\x85\\xbb\\xc9\\xa0\\x9c1\\x89\\x9e6w\\xf5=}\\xfd\\x7f\\xd3zQ\\x01+\\xf6\\x95\\xcc\\x85\\xd6\\xff\\x87_#\\xa2\\x87f'"
      ]
     },
     "execution_count": 5,
     "metadata": {},
     "output_type": "execute_result"
    }
   ],
   "source": [
    "# 使用HMAC-SHA512运算得到512位输出\n",
    "deriv = hmac.new(key=b'Simchain seed', msg=master_seed, digestmod=hashlib.sha512).digest()\n",
    "\n",
    "# 取输出的左边256位生成主私钥\n",
    "master_privkey_str = deriv[:32]\n",
    "master_privkey = SigningKey.from_bytes(master_privkey_str)\n",
    "master_privkey.to_bytes()"
   ]
  },
  {
   "cell_type": "code",
   "execution_count": 6,
   "metadata": {},
   "outputs": [
    {
     "data": {
      "text/plain": [
       "b'\\x85\\xbb\\xc9\\xa0\\x9c1\\x89\\x9e6w\\xf5=}\\xfd\\x7f\\xd3zQ\\x01+\\xf6\\x95\\xcc\\x85\\xd6\\xff\\x87_#\\xa2\\x87f'"
      ]
     },
     "execution_count": 6,
     "metadata": {},
     "output_type": "execute_result"
    }
   ],
   "source": [
    "# 由主私钥生成主公钥\n",
    "master_pubkey = master_privkey.get_verifying_key()\n",
    "master_privkey.to_bytes()"
   ]
  },
  {
   "cell_type": "code",
   "execution_count": 7,
   "metadata": {},
   "outputs": [
    {
     "data": {
      "text/plain": [
       "'1LEoXuo2A9moCjJ6DgoErUJd6MX3itf7da'"
      ]
     },
     "execution_count": 7,
     "metadata": {},
     "output_type": "execute_result"
    }
   ],
   "source": [
    "from simchain.ecc import convert_pubkey_to_addr\n",
    "# 由主公钥生成主地址\n",
    "convert_pubkey_to_addr(master_privkey.to_bytes())"
   ]
  },
  {
   "cell_type": "markdown",
   "metadata": {},
   "source": [
    "### 衍生密钥\n",
    "以父私钥、父链码，以及子密钥索引号作为HMAC-SHA512运算的输入，得到512位输出的左边256位作为子私钥，右边256位作为子链码，子公钥和子地址通过子私钥生成。"
   ]
  },
  {
   "cell_type": "code",
   "execution_count": 8,
   "metadata": {},
   "outputs": [
    {
     "data": {
      "text/plain": [
       "b'\\x00\\x00\\x00\\x01'"
      ]
     },
     "execution_count": 8,
     "metadata": {},
     "output_type": "execute_result"
    }
   ],
   "source": [
    "# 获得主链码\n",
    "master_chain = deriv[32:]\n",
    "\n",
    "from simchain.ecc import number_to_bytes\n",
    "\n",
    "# 衍生主私钥的索引为1的子密钥\n",
    "idx = 1\n",
    "# 将整数转换为字节串\n",
    "idx_str = number_to_bytes(idx, 4)\n",
    "idx_str"
   ]
  },
  {
   "cell_type": "code",
   "execution_count": 9,
   "metadata": {},
   "outputs": [
    {
     "data": {
      "text/plain": [
       "b'\\xf0!\\x86\\xdd7>\\xef@\\xdbv\\xba\\x07\\xfb#\\x03\\x1b\\xceW\\xcf\\x9c8?\\xb3\\xd4FI\\x9d\\xc6\\xc4\\xc0\\x0c+'"
      ]
     },
     "execution_count": 9,
     "metadata": {},
     "output_type": "execute_result"
    }
   ],
   "source": [
    "# 将主私钥与索引组合\n",
    "message = master_privkey_str + idx_str\n",
    "# 将主链码作为钥匙，主私钥和索引组合作为消息进行HMAC-SHA512运算\n",
    "deriv_child = hmac.new(key=master_chain, msg=message, digestmod=hashlib.sha512).digest()\n",
    "# 取输出的左256位作为子私钥\n",
    "child_privkey_str = deriv_child[:32]\n",
    "child_privkey_str"
   ]
  },
  {
   "cell_type": "code",
   "execution_count": 10,
   "metadata": {},
   "outputs": [
    {
     "data": {
      "text/plain": [
       "b'\\xf0!\\x86\\xdd7>\\xef@\\xdbv\\xba\\x07\\xfb#\\x03\\x1b\\xceW\\xcf\\x9c8?\\xb3\\xd4FI\\x9d\\xc6\\xc4\\xc0\\x0c+'"
      ]
     },
     "execution_count": 10,
     "metadata": {},
     "output_type": "execute_result"
    }
   ],
   "source": [
    "# 生成子私钥\n",
    "child_privkey = SigningKey.from_bytes(child_privkey_str)\n",
    "child_privkey.to_bytes()"
   ]
  },
  {
   "cell_type": "code",
   "execution_count": 11,
   "metadata": {},
   "outputs": [
    {
     "data": {
      "text/plain": [
       "b'1\\xf5\\x03b\\x08j\\xe1K\\xd5\\xc3\\xa0Z\\x84\\xb8\\x9c:\\x9b\\x86\\xb1\\x8b\\xde\\xdc\\x18\\xd5w\\x80\\x1bD[M8P,\\xc6\\xca\\xa5\\x12\\x07\\x7f1V\\x98\\x15\\x05\\xd9\\x10J\\xbd\\x12\\xd6\\xd2\\xae0\\x164\\x99\\xa8\\xed\\xfd\\x04\\x15O\\xf6?'"
      ]
     },
     "execution_count": 11,
     "metadata": {},
     "output_type": "execute_result"
    }
   ],
   "source": [
    "# 生成子公钥\n",
    "child_pubkey = child_privkey.get_verifying_key()\n",
    "child_pubkey.to_bytes()"
   ]
  },
  {
   "cell_type": "code",
   "execution_count": 12,
   "metadata": {},
   "outputs": [
    {
     "data": {
      "text/plain": [
       "'1Jfpb3D4bzxdUriK16WijsGuUZT8qkwg2z'"
      ]
     },
     "execution_count": 12,
     "metadata": {},
     "output_type": "execute_result"
    }
   ],
   "source": [
    "# 生成子地址\n",
    "convert_pubkey_to_addr(child_pubkey.to_bytes())"
   ]
  },
  {
   "cell_type": "markdown",
   "metadata": {},
   "source": [
    "### 生成分层确定性钱包"
   ]
  },
  {
   "cell_type": "code",
   "execution_count": 13,
   "metadata": {},
   "outputs": [],
   "source": [
    "from simchain.hdwallet import Keys\n",
    "import os"
   ]
  },
  {
   "cell_type": "code",
   "execution_count": 14,
   "metadata": {},
   "outputs": [
    {
     "data": {
      "text/plain": [
       "b'\\x12\\xa6\\xe7\\xb5Q\\xb9\\x1c\\x8f\\xc1:\\x99\\x0e-\\xa1+\\xcb\\xcf\\x02\\n\\xde\\x96\\xb1y\\x0bes\\xba\\x87\\x97<c\\x9c'"
      ]
     },
     "execution_count": 14,
     "metadata": {},
     "output_type": "execute_result"
    }
   ],
   "source": [
    "# 生成随机种子\n",
    "seed = os.urandom(32)\n",
    "# 通过种子生成主密钥\n",
    "master_keys = Keys.from_master_seed(seed)\n",
    "# 访问主密钥私钥的字节串编码\n",
    "master_keys.sk.to_bytes()"
   ]
  },
  {
   "cell_type": "code",
   "execution_count": 15,
   "metadata": {},
   "outputs": [
    {
     "data": {
      "text/plain": [
       "b\"Y\\x98T\\xd1\\xf9\\xc4\\x82+_\\xfdZ \\xc3\\x11(\\xd2^{ZU@\\xe7x\\xed@\\x95\\x17 V\\x16S'\\xfak\\x8a\\xd7{\\xe4\\xf7p\\xdc\\xd5\\t\\x03\\x95\\xc2\\xee\\xd8{\\xb2}\\xa5P>c\\x16<\\xca\\xe3\\x8d}C!\\x13\""
      ]
     },
     "execution_count": 15,
     "metadata": {},
     "output_type": "execute_result"
    }
   ],
   "source": [
    "# 访问主密钥公钥的字节串编码\n",
    "master_keys.pk.to_bytes()"
   ]
  },
  {
   "cell_type": "code",
   "execution_count": 16,
   "metadata": {},
   "outputs": [
    {
     "data": {
      "text/plain": [
       "0"
      ]
     },
     "execution_count": 16,
     "metadata": {},
     "output_type": "execute_result"
    }
   ],
   "source": [
    "# 主密钥的深度为0\n",
    "master_keys.depth"
   ]
  },
  {
   "cell_type": "code",
   "execution_count": 17,
   "metadata": {},
   "outputs": [],
   "source": [
    "# 返回为None，表示没有父亲\n",
    "master_keys.child_index"
   ]
  },
  {
   "cell_type": "code",
   "execution_count": 18,
   "metadata": {},
   "outputs": [],
   "source": [
    "# 主密钥衍生成2个字密钥，索引为0和1\n",
    "child0 = master_keys.child(0)\n",
    "child1 = master_keys.child(1)\n",
    "# 子密钥的深度都为1\n",
    "assert child0.depth == child1.depth"
   ]
  },
  {
   "cell_type": "code",
   "execution_count": 19,
   "metadata": {},
   "outputs": [
    {
     "data": {
      "text/plain": [
       "0"
      ]
     },
     "execution_count": 19,
     "metadata": {},
     "output_type": "execute_result"
    }
   ],
   "source": [
    "child0.child_index"
   ]
  },
  {
   "cell_type": "code",
   "execution_count": 20,
   "metadata": {},
   "outputs": [
    {
     "data": {
      "text/plain": [
       "1"
      ]
     },
     "execution_count": 20,
     "metadata": {},
     "output_type": "execute_result"
    }
   ],
   "source": [
    "child1.child_index"
   ]
  },
  {
   "cell_type": "code",
   "execution_count": 21,
   "metadata": {},
   "outputs": [
    {
     "data": {
      "text/plain": [
       "b'\\x1aQ\\xebd\\xe1;s4\\x83=\\xc7.}t\\xc9\\x83\\xa4\\x10|\\xc4x\\xea\\x89~\\xc1\\x13x\\xa4\\xb6\\xfb\\x9d\\xc4'"
      ]
     },
     "execution_count": 21,
     "metadata": {},
     "output_type": "execute_result"
    }
   ],
   "source": [
    "child0.sk.to_bytes()"
   ]
  },
  {
   "cell_type": "code",
   "execution_count": 22,
   "metadata": {},
   "outputs": [
    {
     "data": {
      "text/plain": [
       "b'~\\r\\xadw\\xb9\\x96\\x97\\n\\xf6T\\xffA-o\\xe7M;\\xca:+\\x9aB5Wb\\r7\\xe1E\\xeeJ\\t\\x02.{\\xe2\\xb7\\xc9U\\xd1\\x91e\\xbe\\x1fUG\\xee\\x80I\\xbf\\x14\\x04\\xc4I\\xd3\\xb0\\xe5\\xb9%\\x89\\x8b\\x80\\xec\\x08'"
      ]
     },
     "execution_count": 22,
     "metadata": {},
     "output_type": "execute_result"
    }
   ],
   "source": [
    "child0.pk.to_bytes()"
   ]
  },
  {
   "cell_type": "code",
   "execution_count": 23,
   "metadata": {},
   "outputs": [
    {
     "data": {
      "text/plain": [
       "b'\\xa9\\x998\\xdb\\xf8\\xad\\xa2\\xf3%e}V\\xa0\\xc4\\xaf\\xe1\\xf0\\\\0?\\x85s\\x08\\xbcd\\xec\\xea){\\xac!\\xe9'"
      ]
     },
     "execution_count": 23,
     "metadata": {},
     "output_type": "execute_result"
    }
   ],
   "source": [
    "# 子密钥链码\n",
    "child0.chain"
   ]
  },
  {
   "cell_type": "code",
   "execution_count": 24,
   "metadata": {},
   "outputs": [],
   "source": [
    "# 生成孙密钥，索引分别为2和4\n",
    "grandson2 = child0.child(2)\n",
    "grandson4 = child1.child(4)\n",
    "# 孙密钥深度为2\n",
    "assert grandson2.depth == grandson4.depth == 2"
   ]
  },
  {
   "cell_type": "code",
   "execution_count": 25,
   "metadata": {},
   "outputs": [
    {
     "data": {
      "text/plain": [
       "2"
      ]
     },
     "execution_count": 25,
     "metadata": {},
     "output_type": "execute_result"
    }
   ],
   "source": [
    "grandson2.child_index"
   ]
  },
  {
   "cell_type": "code",
   "execution_count": 26,
   "metadata": {},
   "outputs": [
    {
     "data": {
      "text/plain": [
       "4"
      ]
     },
     "execution_count": 26,
     "metadata": {},
     "output_type": "execute_result"
    }
   ],
   "source": [
    "grandson4.child_index"
   ]
  },
  {
   "cell_type": "markdown",
   "metadata": {},
   "source": [
    "### 将“种子”转换为可逆的助记符 "
   ]
  },
  {
   "cell_type": "code",
   "execution_count": 27,
   "metadata": {},
   "outputs": [
    {
     "data": {
      "text/plain": [
       "b\"\\x1e\\x15\\xbdq\\xeb\\x13eY\\n\\xe5\\xd3\\xee\\xc7\\xaf\\xccB\\x1f\\xf3\\xfc\\x9fW\\xbc\\x18'\\x94i\\xaa\\xc6\\xec+~u\""
      ]
     },
     "execution_count": 27,
     "metadata": {},
     "output_type": "execute_result"
    }
   ],
   "source": [
    "from simchain.mnemonics import Mnemonics\n",
    "# 生成种子\n",
    "seed = os.urandom(32)\n",
    "seed"
   ]
  },
  {
   "cell_type": "code",
   "execution_count": 28,
   "metadata": {},
   "outputs": [
    {
     "data": {
      "text/plain": [
       "['颓',\n",
       " '徒',\n",
       " '烷',\n",
       " '壮',\n",
       " '魁',\n",
       " '剩',\n",
       " '助',\n",
       " '诗',\n",
       " '城',\n",
       " '贬',\n",
       " '渡',\n",
       " '龟',\n",
       " '惧',\n",
       " '菜',\n",
       " '牡',\n",
       " '飞',\n",
       " '茂',\n",
       " '邻',\n",
       " '柱',\n",
       " '世',\n",
       " '等',\n",
       " '馐',\n",
       " '启',\n",
       " '气']"
      ]
     },
     "execution_count": 28,
     "metadata": {},
     "output_type": "execute_result"
    }
   ],
   "source": [
    "# 生成助记词对象\n",
    "m = Mnemonics(seed)\n",
    "# 中文助记符\n",
    "m.chinese"
   ]
  },
  {
   "cell_type": "code",
   "execution_count": 29,
   "metadata": {},
   "outputs": [
    {
     "data": {
      "text/plain": [
       "['cheat',\n",
       " 'due',\n",
       " 'prefer',\n",
       " 'reason',\n",
       " 'stun',\n",
       " 'harsh',\n",
       " 'begin',\n",
       " 'gaze',\n",
       " 'offer',\n",
       " 'bloom',\n",
       " 'perfection',\n",
       " 'sharp',\n",
       " 'rope',\n",
       " 'excuse',\n",
       " 'drove',\n",
       " 'better',\n",
       " 'sanctuary',\n",
       " 'floor',\n",
       " 'grab',\n",
       " 'whole',\n",
       " 'cheer',\n",
       " 'dirty',\n",
       " 'piece',\n",
       " 'happy']"
      ]
     },
     "execution_count": 29,
     "metadata": {},
     "output_type": "execute_result"
    }
   ],
   "source": [
    "# 英文助记符\n",
    "m.english"
   ]
  },
  {
   "cell_type": "code",
   "execution_count": 30,
   "metadata": {},
   "outputs": [
    {
     "data": {
      "text/plain": [
       "b\"\\x1e\\x15\\xbdq\\xeb\\x13eY\\n\\xe5\\xd3\\xee\\xc7\\xaf\\xccB\\x1f\\xf3\\xfc\\x9fW\\xbc\\x18'\\x94i\\xaa\\xc6\\xec+~u\""
      ]
     },
     "execution_count": 30,
     "metadata": {},
     "output_type": "execute_result"
    }
   ],
   "source": [
    "# 由中文助记词得到种子\n",
    "seed1 = Mnemonics.decode_from_chinese(m.chinese)\n",
    "seed1"
   ]
  },
  {
   "cell_type": "code",
   "execution_count": 31,
   "metadata": {},
   "outputs": [
    {
     "data": {
      "text/plain": [
       "b\"\\x1e\\x15\\xbdq\\xeb\\x13eY\\n\\xe5\\xd3\\xee\\xc7\\xaf\\xccB\\x1f\\xf3\\xfc\\x9fW\\xbc\\x18'\\x94i\\xaa\\xc6\\xec+~u\""
      ]
     },
     "execution_count": 31,
     "metadata": {},
     "output_type": "execute_result"
    }
   ],
   "source": [
    "# 由英文助记词得到种子\n",
    "seed2 = Mnemonics.decode_from_english(m.english)\n",
    "seed2"
   ]
  }
 ],
 "metadata": {
  "kernelspec": {
   "display_name": "Python 3",
   "language": "python",
   "name": "python3"
  },
  "language_info": {
   "codemirror_mode": {
    "name": "ipython",
    "version": 3
   },
   "file_extension": ".py",
   "mimetype": "text/x-python",
   "name": "python",
   "nbconvert_exporter": "python",
   "pygments_lexer": "ipython3",
   "version": "3.7.2"
  },
  "toc": {
   "base_numbering": 1,
   "nav_menu": {},
   "number_sections": false,
   "sideBar": true,
   "skip_h1_title": false,
   "title_cell": "Table of Contents",
   "title_sidebar": "Contents",
   "toc_cell": false,
   "toc_position": {},
   "toc_section_display": true,
   "toc_window_display": false
  }
 },
 "nbformat": 4,
 "nbformat_minor": 1
}
