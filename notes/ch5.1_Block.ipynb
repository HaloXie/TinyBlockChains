{
 "cells": [
  {
   "cell_type": "markdown",
   "metadata": {
    "collapsed": true
   },
   "source": [
    "# 区块"
   ]
  },
  {
   "cell_type": "markdown",
   "metadata": {},
   "source": [
    "## 定义Block"
   ]
  },
  {
   "cell_type": "code",
   "execution_count": 1,
   "metadata": {},
   "outputs": [],
   "source": [
    "# 继承tuple\n",
    "class Block(tuple):\n",
    "    \n",
    "    # version：版本号，prev_block_hash：前区块哈希值，timestamp：时间戳，bits：“挖矿”难度位数，nonce：工作量证明，txs：交易集合\n",
    "    def __new__(cls,version,\n",
    "                prev_block_hash,\n",
    "                timestamp,\n",
    "                bits,\n",
    "                nonce,\n",
    "                txs):\n",
    "        return super(Block,cls).__new__(cls,(version,\n",
    "                                             prev_block_hash,\n",
    "                                             timestamp,\n",
    "                                             bits,\n",
    "                                             nonce,\n",
    "                                             txs))\n",
    "        \n",
    "    # 版本类型\n",
    "    @property\n",
    "    def version(self):\n",
    "        return self[0]\n",
    "    \n",
    "    # 前区块哈希值\n",
    "    @property\n",
    "    def prev_block_hash(self):\n",
    "        return self[1]\n",
    "    \n",
    "    # 时间戳\n",
    "    @property\n",
    "    def timestamp(self):\n",
    "        return self[2]\n",
    "    \n",
    "    # 难度位数\n",
    "    @property\n",
    "    def bits(self):\n",
    "        return self[3]\n",
    "    \n",
    "    # 工作量证明\n",
    "    @property\n",
    "    def nonce(self):\n",
    "        return self[4]\n",
    "    \n",
    "    #交易集合\n",
    "    @property\n",
    "    def txs(self):\n",
    "        return self[5]\n",
    "\n",
    "    # 梅克尔树根哈希值\n",
    "    @property\n",
    "    def merkle_root_hash(self):\n",
    "        return self.get_merkle_root()\n",
    "    \n",
    "    # 创建一个新的Block，仅替换nonce\n",
    "    def _replace(self,nonce = 0):\n",
    "        return Block(self[0],\n",
    "                     self[1],\n",
    "                     self[2],\n",
    "                     self[3],\n",
    "                     nonce,\n",
    "                     self[5])\n",
    "\n",
    "    # 计算梅克尔树根哈希值\n",
    "    def get_merkle_root(self):\n",
    "        return get_merkle_root_of_txs(self.txs) if self.txs else None\n",
    "    \n",
    "    # 区块头，nonce：工作量证明、merkle_root_hash：梅克尔树根哈希值\n",
    "    # 返回：版本、前区块哈希值、时间戳、难度位数、梅克尔树根哈希值、工作量证明的组合\n",
    "    def header(self,nonce = None,merkle_root_hash = None):\n",
    "        if merkle_root_hash is None:\n",
    "            merkle_root_hash = self.get_merkle_root()\n",
    "            \n",
    "        return \"{0}{1}{2}{3}{4}{5}\".format(self[0],\n",
    "                                           self[1],\n",
    "                                           self[2],\n",
    "                                           self[3],\n",
    "                                           merkle_root_hash,\n",
    "                                           nonce or self[4])\n",
    "    \n",
    "    # 区块的哈希值，可当作区块的编号\n",
    "    # 对区块头数据进行哈希运算\n",
    "    @property\n",
    "    def hash(self):\n",
    "        return sha256d(self.header())\n",
    "\n",
    "    def __repr__(self):\n",
    "        return \"Block(hash:{0})\".format(self.hash)"
   ]
  },
  {
   "cell_type": "markdown",
   "metadata": {},
   "source": [
    "关于Simchain中的区块数据结构，示例如下："
   ]
  },
  {
   "cell_type": "code",
   "execution_count": 2,
   "metadata": {},
   "outputs": [
    {
     "name": "stderr",
     "output_type": "stream",
     "text": [
      "2019-06-12 21:07:20,525 - A blockchain p2p network created,12 peers joined\n",
      "2019-06-12 21:07:20,570 - genesis block has been generated\n",
      "2019-06-12 21:07:20,612 - peer(63, 34)(pid=5) created a transaction\n",
      "2019-06-12 21:07:20,614 - peer(63, 34)(pid=5) sent a transaction to network\n",
      "2019-06-12 21:07:21,395 - peer(63, 34)(pid=5)'s transaction verified by 11 peers\n",
      "2019-06-12 21:07:21,442 - peer(45, 39)(pid=7) created a transaction\n",
      "2019-06-12 21:07:21,442 - peer(45, 39)(pid=7) sent a transaction to network\n",
      "2019-06-12 21:07:22,275 - peer(45, 39)(pid=7)'s transaction verified by 11 peers\n",
      "2019-06-12 21:07:22,330 - peer(31, 67)(pid=6) created a transaction\n",
      "2019-06-12 21:07:22,331 - peer(31, 67)(pid=6) sent a transaction to network\n",
      "2019-06-12 21:07:23,151 - peer(31, 67)(pid=6)'s transaction verified by 11 peers\n",
      "2019-06-12 21:07:23,194 - peer(18, 60)(pid=4) created a transaction\n",
      "2019-06-12 21:07:23,195 - peer(18, 60)(pid=4) sent a transaction to network\n",
      "2019-06-12 21:07:24,061 - peer(18, 60)(pid=4)'s transaction verified by 9 peers\n",
      "2019-06-12 21:07:24,065 - 8 peers are mining\n",
      "2019-06-12 21:07:35,154 - peer(25, 46)(pid=8) is winner,11.087634086608887 secs used\n",
      "2019-06-12 21:07:38,640 - Block(hash:00003657e8da9b6bf9e7a099f194b58418ace9c6881c630937004ff58e39ce70) received by 11 peers\n"
     ]
    },
    {
     "data": {
      "text/plain": [
       "0"
      ]
     },
     "execution_count": 2,
     "metadata": {},
     "output_type": "execute_result"
    }
   ],
   "source": [
    "from simchain import Network\n",
    "net = Network()\n",
    "# 第一个节点命名为张三\n",
    "zhangsan = net.peers[0]\n",
    "# 随机交易\n",
    "net.make_random_transactions()\n",
    "# 达成共识\n",
    "net.consensus()\n",
    "# 获取创世区块\n",
    "gen_block = zhangsan.blockchain[0]\n",
    "# 获取第2区块\n",
    "block = zhangsan.blockchain[1]\n",
    "# 区块版本\n",
    "block.version"
   ]
  },
  {
   "cell_type": "code",
   "execution_count": 3,
   "metadata": {},
   "outputs": [
    {
     "data": {
      "text/plain": [
       "'24b9793a14e7c918b285c4a4f30cc42d3b7fe01f6f068662cf715a6cb5535d74'"
      ]
     },
     "execution_count": 3,
     "metadata": {},
     "output_type": "execute_result"
    }
   ],
   "source": [
    "# 前区块哈希值\n",
    "block.prev_block_hash"
   ]
  },
  {
   "cell_type": "code",
   "execution_count": 4,
   "metadata": {},
   "outputs": [
    {
     "data": {
      "text/plain": [
       "'24b9793a14e7c918b285c4a4f30cc42d3b7fe01f6f068662cf715a6cb5535d74'"
      ]
     },
     "execution_count": 4,
     "metadata": {},
     "output_type": "execute_result"
    }
   ],
   "source": [
    "# 创世区块哈希值\n",
    "gen_block.hash"
   ]
  },
  {
   "cell_type": "code",
   "execution_count": 5,
   "metadata": {},
   "outputs": [
    {
     "data": {
      "text/plain": [
       "'0074acb96225fac9820a3ba2b780d8a396bb7762ce075b010af212e5b34d54b9'"
      ]
     },
     "execution_count": 5,
     "metadata": {},
     "output_type": "execute_result"
    }
   ],
   "source": [
    "# 梅克尔树根哈希值\n",
    "block.merkle_root_hash"
   ]
  },
  {
   "cell_type": "code",
   "execution_count": 6,
   "metadata": {},
   "outputs": [
    {
     "data": {
      "text/plain": [
       "0"
      ]
     },
     "execution_count": 6,
     "metadata": {},
     "output_type": "execute_result"
    }
   ],
   "source": [
    "# 时间戳\n",
    "block.timestamp"
   ]
  },
  {
   "cell_type": "code",
   "execution_count": 7,
   "metadata": {},
   "outputs": [
    {
     "data": {
      "text/plain": [
       "18"
      ]
     },
     "execution_count": 7,
     "metadata": {},
     "output_type": "execute_result"
    }
   ],
   "source": [
    "# 挖矿难度位数\n",
    "block.bits"
   ]
  },
  {
   "cell_type": "code",
   "execution_count": 8,
   "metadata": {},
   "outputs": [
    {
     "data": {
      "text/plain": [
       "5386"
      ]
     },
     "execution_count": 8,
     "metadata": {},
     "output_type": "execute_result"
    }
   ],
   "source": [
    "# 解题答案，也就是工作量证明\n",
    "block.nonce"
   ]
  },
  {
   "cell_type": "code",
   "execution_count": 9,
   "metadata": {},
   "outputs": [
    {
     "data": {
      "text/plain": [
       "'00003657e8da9b6bf9e7a099f194b58418ace9c6881c630937004ff58e39ce70'"
      ]
     },
     "execution_count": 9,
     "metadata": {},
     "output_type": "execute_result"
    }
   ],
   "source": [
    "# 区块哈希值（编号）\n",
    "block.hash"
   ]
  },
  {
   "cell_type": "code",
   "execution_count": 10,
   "metadata": {},
   "outputs": [
    {
     "data": {
      "text/plain": [
       "<bound method Block.header of Block(hash:00003657e8da9b6bf9e7a099f194b58418ace9c6881c630937004ff58e39ce70)>"
      ]
     },
     "execution_count": 10,
     "metadata": {},
     "output_type": "execute_result"
    }
   ],
   "source": [
    "# 区块头\n",
    "block.header"
   ]
  },
  {
   "cell_type": "code",
   "execution_count": 11,
   "metadata": {},
   "outputs": [
    {
     "data": {
      "text/plain": [
       "[Tx(id:522c78c5b467ba927bd89425d8a692af804494343fdccb811f2764b387e49e66),\n",
       " Tx(id:7c5ba970219bd389fe7d07a76fcaa3a6e3ea449fa2e71848c0707893241b27cd),\n",
       " Tx(id:3824a25b3d3616a776503502b7e21ad73b237be46835b8bcaf131c62a2f61fbe),\n",
       " Tx(id:87b0d55543e412dda62af45faa1e2e03f1fb34723bf14bb09d68b8abb2ed57a2),\n",
       " Tx(id:80ef903667f4a0c9b1e131965fe6404032e658e5beebd21c3e44c7806d363d93)]"
      ]
     },
     "execution_count": 11,
     "metadata": {},
     "output_type": "execute_result"
    }
   ],
   "source": [
    "# 区块交易\n",
    "block.txs"
   ]
  },
  {
   "cell_type": "markdown",
   "metadata": {},
   "source": [
    "区块头并不直接包括交易数据，依靠梅克尔树根哈希值来防止交易数据被篡改。"
   ]
  },
  {
   "cell_type": "code",
   "execution_count": 12,
   "metadata": {},
   "outputs": [
    {
     "data": {
      "text/plain": [
       "Block(hash:9e1517df8ab1c65cb39cd38ba13496f28f6f4ee697481caf7decc3e620b7a8d7)"
      ]
     },
     "execution_count": 12,
     "metadata": {},
     "output_type": "execute_result"
    }
   ],
   "source": [
    "# 删除区块交易中的最后一条交易\n",
    "block.txs.pop()\n",
    "# 区块的哈希值发生变化\n",
    "block"
   ]
  },
  {
   "cell_type": "code",
   "execution_count": 13,
   "metadata": {},
   "outputs": [
    {
     "data": {
      "text/plain": [
       "'dda794e38f1805fa528251c3377abd2b20abf9424c1e0abeddc5d702ba229852'"
      ]
     },
     "execution_count": 13,
     "metadata": {},
     "output_type": "execute_result"
    }
   ],
   "source": [
    "# 梅克尔树根哈希值也发生了变化\n",
    "block.merkle_root_hash"
   ]
  },
  {
   "cell_type": "markdown",
   "metadata": {},
   "source": [
    "计算交易的梅克尔树根哈希值的代码，如下所示："
   ]
  },
  {
   "cell_type": "code",
   "execution_count": 14,
   "metadata": {},
   "outputs": [],
   "source": [
    "# 计算交易的梅克尔树根哈希值\n",
    "def get_merkle_root_of_txs(txs):\n",
    "    return get_merkle_root([tx.id for tx in txs])\n",
    "\n",
    "# 通过交易哈希值列表计算梅克尔树根哈希值\n",
    "def get_merkle_root(level):\n",
    "\n",
    "    # 当哈希值列表的长度为1时退出循环\n",
    "    while len(level) != 1:\n",
    "        # 初始化哈希值列表奇数长度时的末尾哈希值\n",
    "        odd = None\n",
    "        \n",
    "        # 如果哈希值列表长度为奇数，则将末尾哈希值从列表中移除并存储到odd\n",
    "        if len(level) % 2 == 1:\n",
    "            odd = level.pop()\n",
    "            \n",
    "        # 对当前层级列表中的元素两两串联进行哈希运算并得到新的层级\n",
    "        level = [sha256d(i1+i2) for i1,i2 in pair_node(level)]\n",
    "\n",
    "        # 如果odd不为None，则添加到新层级中\n",
    "        if odd:\n",
    "            level.append(odd)\n",
    "    return level[0]\n",
    "    \n",
    "# 返回列表节点的两两配对\n",
    "def pair_node(l):\n",
    "    return (l[i:i + 2] for i in range(0, len(l), 2))"
   ]
  },
  {
   "cell_type": "code",
   "execution_count": 15,
   "metadata": {},
   "outputs": [
    {
     "data": {
      "text/plain": [
       "Tx(id:02fb6db812bb4183bfa8161c2d8fa43db82704b1470342ffce4868d3e1902060)"
      ]
     },
     "execution_count": 15,
     "metadata": {},
     "output_type": "execute_result"
    }
   ],
   "source": [
    "from simchain import Pointer, Vin, Vout, Tx, Block, sha256d\n",
    "p = Pointer(1, 2)\n",
    "vout = Vout(1, 2)\n",
    "vin = Vin(p, b'1', b'12')\n",
    "tx = Tx([vin], [vout])\n",
    "block = Block(1, 2, 3, 4, 5, [tx, tx])\n",
    "tx"
   ]
  },
  {
   "cell_type": "code",
   "execution_count": 16,
   "metadata": {},
   "outputs": [
    {
     "data": {
      "text/plain": [
       "'19f333840f20518ced9efdb63ef0e919382fd121fcaff457c8007e82a1eab9a3'"
      ]
     },
     "execution_count": 16,
     "metadata": {},
     "output_type": "execute_result"
    }
   ],
   "source": [
    "# 计算交易列表的梅克尔树根哈希值\n",
    "sha256d(tx.id + tx.id)"
   ]
  },
  {
   "cell_type": "code",
   "execution_count": 17,
   "metadata": {},
   "outputs": [
    {
     "data": {
      "text/plain": [
       "'19f333840f20518ced9efdb63ef0e919382fd121fcaff457c8007e82a1eab9a3'"
      ]
     },
     "execution_count": 17,
     "metadata": {},
     "output_type": "execute_result"
    }
   ],
   "source": [
    "# 获取区块的梅克尔树根哈希值\n",
    "block.merkle_root_hash"
   ]
  },
  {
   "cell_type": "code",
   "execution_count": 18,
   "metadata": {},
   "outputs": [
    {
     "data": {
      "text/plain": [
       "'6551df1dad93c31607471b29faf6ce12942dfbe97918265fdd801914c89132ec'"
      ]
     },
     "execution_count": 18,
     "metadata": {},
     "output_type": "execute_result"
    }
   ],
   "source": [
    "# 定义新的区块\n",
    "block = Block(1, 2, 3, 4, 5, [tx, tx, tx])\n",
    "# 获取新区块的梅克尔树根哈希值\n",
    "block.merkle_root_hash"
   ]
  },
  {
   "cell_type": "code",
   "execution_count": 19,
   "metadata": {},
   "outputs": [
    {
     "data": {
      "text/plain": [
       "'6551df1dad93c31607471b29faf6ce12942dfbe97918265fdd801914c89132ec'"
      ]
     },
     "execution_count": 19,
     "metadata": {},
     "output_type": "execute_result"
    }
   ],
   "source": [
    "h12 = sha256d(tx.id + tx.id)\n",
    "# 计算交易列表的梅克尔树根哈希值\n",
    "sha256d(h12 + tx.id)"
   ]
  },
  {
   "cell_type": "markdown",
   "metadata": {},
   "source": [
    "## 梅克尔树MerkelTree"
   ]
  },
  {
   "cell_type": "code",
   "execution_count": 20,
   "metadata": {},
   "outputs": [],
   "source": [
    "from simchain.ecc import sha256d\n",
    "\n",
    "# 节点对象\n",
    "class Node(object):\n",
    "\n",
    "    # 初始输入data为哈希值或哈希值组合\n",
    "    def __init__(self, data, prehashed=False):\n",
    "        # 如果为底层节点，则节点哈希值为输入值data\n",
    "        if prehashed:\n",
    "            self.val = data\n",
    "        # 如果为非底层节点，对data进行双哈希运算\n",
    "        else:\n",
    "            self.val = sha256d(data)\n",
    "        \n",
    "        # 左子节点\n",
    "        self.left_child = None\n",
    "        # 右子节点\n",
    "        self.right_child = None\n",
    "        # 父节点\n",
    "        self.parent = None\n",
    "        # 兄弟节点\n",
    "        self.bro = None\n",
    "        # 节点的方向，左或右\n",
    "        self.side = None\n",
    "\n",
    "    def __repr__(self):\n",
    "        return \"MerkleTreeNode('{0}')\".format(self.val)\n",
    "\n",
    "# 梅克尔树对象\n",
    "class MerkleTree(object):\n",
    "    \n",
    "    # 初始参数为底层节点的哈希值列表\n",
    "    def __init__(self,leaves = []):\n",
    "        # 将哈希值存储在节点中，Node对象对的prehashed为True\n",
    "        self.leaves = [Node(leaf,True) for leaf in leaves]\n",
    "        # 初始化根节点\n",
    "        self.root = None\n",
    "\n",
    "    # 添加一个新节点，输入为节点哈希值\n",
    "    def add_node(self,leaf):\n",
    "        self.leaves.append(Node(leaf))\n",
    "\n",
    "    # 梅克尔树清零\n",
    "    def clear(self):\n",
    "        self.root = None\n",
    "        for leaf in self.leaves:\n",
    "            leaf.parent,leaf.bro,leaf.side = (None,)*3\n",
    "\n",
    "    # 计算梅克尓树根哈希值\n",
    "    def get_root(self):\n",
    "        # 如果底层节点哈希列表为空，返回None\n",
    "        if not self.leaves:\n",
    "            return None\n",
    "\n",
    "        # 初始化底层列表\n",
    "        level = self.leaves[::]\n",
    "        \n",
    "        # 如果计算层哈希列表长度为1，退出循环\n",
    "        while len(level) != 1:\n",
    "            # 构建新的层级\n",
    "            level = self._build_new_level(level)\n",
    "        self.root = level[0]\n",
    "        return self.root.val\n",
    "    \n",
    "    # 构建新的层级\n",
    "    def _build_new_level(self, leaves):\n",
    "        \n",
    "        # 初始化新层级节点列表，以及当前层节点数量为奇数时的末尾节点\n",
    "        new, odd = [], None\n",
    "        \n",
    "        # 如果当前层节点数量为奇数，则将末尾节点从节点列表中移除\n",
    "        # 并保存在odd中\n",
    "        if len(leaves) % 2 == 1:\n",
    "            odd = leaves.pop(-1)\n",
    "            \n",
    "        # 对节点哈希值两两组合\n",
    "        for i in range(0, len(leaves), 2):\n",
    "            # 生成父节点\n",
    "            newnode = Node(leaves[i].val + leaves[i + 1].val)\n",
    "            # 给父节点的左、右子节点赋值\n",
    "            newnode.lelf_child, newnode.right_child = leaves[i], leaves[i + 1]\n",
    "            # 给配对节点的方向赋值\n",
    "            leaves[i].side, leaves[i + 1].side,  = 'LEFT', 'RIGHT'\n",
    "            # 给配对节点的父节点赋值\n",
    "            leaves[i].parent, leaves[i + 1].parent = newnode, newnode\n",
    "            # 配对节点互为兄弟节点\n",
    "            leaves[i].bro, leaves[i + 1].bro = leaves[i + 1], leaves[i]\n",
    "            # 将新节点添加到新层级列表中\n",
    "            new.append(newnode)\n",
    "        \n",
    "        # 如果odd不为空，将其添加到新层级列表的末尾\n",
    "        if odd:\n",
    "            new.append(odd)\n",
    "        return new\n",
    "\n",
    "    # 获取由底层节点计算根哈希所需要的所有哈希值，index为底层节点在列表中的索引\n",
    "    def get_path(self, index):\n",
    "        # 初始化路径\n",
    "        path = []\n",
    "        # 获取索引对应的底层节点\n",
    "        this = self.leaves[index]\n",
    "        # 将底层节点哈希值添加到路径\n",
    "        path.append((this.val, 'SELF'))\n",
    "        # 寻找梅克尔树路径\n",
    "        while this.parent:\n",
    "            # 将节点的兄弟节点哈希值添加到路径\n",
    "            path.append((this.bro.val, this.bro.side))\n",
    "            # 用父节点代替当前节点\n",
    "            this = this.parent\n",
    "        # 将根哈希值添加至路径\n",
    "        path.append((this.val, 'ROOT'))\n",
    "        return path"
   ]
  },
  {
   "cell_type": "code",
   "execution_count": 21,
   "metadata": {},
   "outputs": [
    {
     "data": {
      "text/plain": [
       "'20c12afdb2ce90da744e7f06424176c0c36f633be6cadd4eeafcda65855a7a73'"
      ]
     },
     "execution_count": 21,
     "metadata": {},
     "output_type": "execute_result"
    }
   ],
   "source": [
    "from simchain import MerkleTree, sha256d\n",
    "# 底层节点哈希值列表\n",
    "leaves = ['a', 'b', 'c', 'd']\n",
    "# 创建梅克尔树对象\n",
    "merkle = MerkleTree(leaves)\n",
    "# 获取梅克尔树根哈希值\n",
    "merkle.get_root()"
   ]
  },
  {
   "cell_type": "code",
   "execution_count": 22,
   "metadata": {},
   "outputs": [
    {
     "data": {
      "text/plain": [
       "[('a', 'SELF'),\n",
       " ('b', 'RIGHT'),\n",
       " ('032a3987db0858e6d3ebad8580da9f28774bd9e0158e78d6ef42a68869750e26', 'RIGHT'),\n",
       " ('20c12afdb2ce90da744e7f06424176c0c36f633be6cadd4eeafcda65855a7a73', 'ROOT')]"
      ]
     },
     "execution_count": 22,
     "metadata": {},
     "output_type": "execute_result"
    }
   ],
   "source": [
    "# 计算索引为0的交易的梅克尔树路径\n",
    "path = merkle.get_path(0)\n",
    "path"
   ]
  },
  {
   "cell_type": "code",
   "execution_count": 23,
   "metadata": {},
   "outputs": [
    {
     "data": {
      "text/plain": [
       "'20c12afdb2ce90da744e7f06424176c0c36f633be6cadd4eeafcda65855a7a73'"
      ]
     },
     "execution_count": 23,
     "metadata": {},
     "output_type": "execute_result"
    }
   ],
   "source": [
    "# 根据路径计算根哈希值\n",
    "ab = sha256d(path[0][0] + path[1][0])\n",
    "abcd = sha256d(ab + path[2][0])\n",
    "abcd"
   ]
  },
  {
   "cell_type": "code",
   "execution_count": 24,
   "metadata": {},
   "outputs": [],
   "source": [
    "assert abcd == path[3][0]"
   ]
  },
  {
   "cell_type": "markdown",
   "metadata": {},
   "source": [
    "还可以从区块中获取交易的梅克尔树路径"
   ]
  },
  {
   "cell_type": "code",
   "execution_count": 25,
   "metadata": {},
   "outputs": [
    {
     "name": "stderr",
     "output_type": "stream",
     "text": [
      "2019-06-12 21:07:41,835 - A blockchain p2p network created,12 peers joined\n",
      "2019-06-12 21:07:41,835 - genesis block has been generated\n",
      "2019-06-12 21:07:41,886 - peer(1, 92)(pid=11) created a transaction\n",
      "2019-06-12 21:07:41,888 - peer(1, 92)(pid=11) sent a transaction to network\n",
      "2019-06-12 21:07:42,680 - peer(1, 92)(pid=11)'s transaction verified by 11 peers\n",
      "2019-06-12 21:07:42,711 - peer(95, 83)(pid=3) created a transaction\n",
      "2019-06-12 21:07:42,727 - peer(95, 83)(pid=3) sent a transaction to network\n",
      "2019-06-12 21:07:43,520 - peer(95, 83)(pid=3)'s transaction verified by 9 peers\n",
      "2019-06-12 21:07:43,570 - peer(66, 96)(pid=1) created a transaction\n",
      "2019-06-12 21:07:43,571 - peer(66, 96)(pid=1) sent a transaction to network\n",
      "2019-06-12 21:07:44,461 - peer(66, 96)(pid=1)'s transaction verified by 11 peers\n",
      "2019-06-12 21:07:44,504 - peer(66, 96)(pid=1) created a transaction\n",
      "2019-06-12 21:07:44,506 - peer(66, 96)(pid=1) sent a transaction to network\n",
      "2019-06-12 21:07:45,405 - peer(66, 96)(pid=1)'s transaction verified by 11 peers\n",
      "2019-06-12 21:07:45,447 - peer(1, 92)(pid=11) created a transaction\n",
      "2019-06-12 21:07:45,448 - peer(1, 92)(pid=11) sent a transaction to network\n",
      "2019-06-12 21:07:46,315 - peer(1, 92)(pid=11)'s transaction verified by 11 peers\n",
      "2019-06-12 21:07:46,360 - peer(49, 10)(pid=8) created a transaction\n",
      "2019-06-12 21:07:46,363 - peer(49, 10)(pid=8) sent a transaction to network\n",
      "2019-06-12 21:07:47,241 - peer(49, 10)(pid=8)'s transaction verified by 11 peers\n",
      "2019-06-12 21:07:47,245 - 8 peers are mining\n",
      "2019-06-12 21:07:59,120 - peer(16, 20)(pid=9) is winner,11.874562501907349 secs used\n",
      "2019-06-12 21:08:04,682 - Block(hash:00003c7a102a35b2cace8c996a64db4ff2ffba61937df88142ed9c5b0686eb09) received by 11 peers\n"
     ]
    }
   ],
   "source": [
    "from simchain import Network\n",
    "net = Network()\n",
    "net.make_random_transactions()\n",
    "net.consensus()\n",
    "zhangsan, lisi = net.peers[0], net.peers[4]"
   ]
  },
  {
   "cell_type": "code",
   "execution_count": 26,
   "metadata": {},
   "outputs": [
    {
     "data": {
      "text/plain": [
       "'d0bea78bb3d2c3388d5eff53198e348c6438903925303c09544a905ec4902dd7'"
      ]
     },
     "execution_count": 26,
     "metadata": {},
     "output_type": "execute_result"
    }
   ],
   "source": [
    "# 获取李四区块链中第2区块的交易列表\n",
    "txs = lisi.blockchain[1].txs\n",
    "# 创建梅克尔树\n",
    "merkle = MerkleTree([tx.id for tx in txs])\n",
    "# 梅克尔树根哈希值\n",
    "merkle.get_root()"
   ]
  },
  {
   "cell_type": "code",
   "execution_count": 27,
   "metadata": {},
   "outputs": [
    {
     "data": {
      "text/plain": [
       "'d0bea78bb3d2c3388d5eff53198e348c6438903925303c09544a905ec4902dd7'"
      ]
     },
     "execution_count": 27,
     "metadata": {},
     "output_type": "execute_result"
    }
   ],
   "source": [
    "lisi.blockchain[1].merkle_root_hash"
   ]
  },
  {
   "cell_type": "code",
   "execution_count": 28,
   "metadata": {
    "scrolled": true
   },
   "outputs": [
    {
     "data": {
      "text/plain": [
       "[('d43f6bacef3b5ed48febe98f303f19dfc8546b19209a5e5a8e152b62a0b161db', 'SELF'),\n",
       " ('3ea39db4b45bb1dcea3fbec28c84b9bff3e8bab8d8f5fe271595e1d1438d1984', 'RIGHT'),\n",
       " ('2f6e2fee71ee587806c68d943af734d64efebcee7e412bd617e22cfc826ffb97', 'RIGHT'),\n",
       " ('fb2439d1d61415a40744c7b2dd566d2eed7b02234f67e3139f65b433d1a3704b', 'RIGHT'),\n",
       " ('d0bea78bb3d2c3388d5eff53198e348c6438903925303c09544a905ec4902dd7', 'ROOT')]"
      ]
     },
     "execution_count": 28,
     "metadata": {},
     "output_type": "execute_result"
    }
   ],
   "source": [
    "# 获取索引为0交易的梅克尔树路径\n",
    "merkle.get_path(0)"
   ]
  }
 ],
 "metadata": {
  "kernelspec": {
   "display_name": "Python 3",
   "language": "python",
   "name": "python3"
  },
  "language_info": {
   "codemirror_mode": {
    "name": "ipython",
    "version": 3
   },
   "file_extension": ".py",
   "mimetype": "text/x-python",
   "name": "python",
   "nbconvert_exporter": "python",
   "pygments_lexer": "ipython3",
   "version": "3.7.2"
  },
  "toc": {
   "base_numbering": 1,
   "nav_menu": {},
   "number_sections": false,
   "sideBar": true,
   "skip_h1_title": false,
   "title_cell": "Table of Contents",
   "title_sidebar": "Contents",
   "toc_cell": false,
   "toc_position": {},
   "toc_section_display": true,
   "toc_window_display": false
  }
 },
 "nbformat": 4,
 "nbformat_minor": 1
}
