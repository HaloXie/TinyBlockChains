{
 "cells": [
  {
   "cell_type": "markdown",
   "metadata": {
    "collapsed": true
   },
   "source": [
    "# 私钥、公钥和地址"
   ]
  },
  {
   "cell_type": "code",
   "execution_count": 1,
   "metadata": {},
   "outputs": [
    {
     "name": "stderr",
     "output_type": "stream",
     "text": [
      "2019-04-22 09:26:08,093 - A blockchain p2p network created,12 peers joined\n",
      "2019-04-22 09:26:08,112 - genesis block has been generated\n",
      "2019-04-22 09:26:08,114 - Loaded backend module://ipykernel.pylab.backend_inline version unknown.\n"
     ]
    }
   ],
   "source": [
    "# 从Simchain导入Network\n",
    "from simchain import Network\n",
    "# 创建一个网络，初始节点12个\n",
    "net = Network()\n",
    "# 0号节点命名为张三\n",
    "zhangsan = net.peers[0]\n",
    "# 6号节点命名为李四\n",
    "lisi = net.peers[6]"
   ]
  },
  {
   "cell_type": "markdown",
   "metadata": {},
   "source": [
    "每个节点都有一个wallet（钱包）属性，存放着节点重要的信息，分别为私钥、公钥和地址，且通过索引一一对应，可以通过wallet.keys[i]属性访问第i对密钥（公钥和私钥），wallet.addrs[i]属性访问与第i对密钥对应的地址。"
   ]
  },
  {
   "cell_type": "code",
   "execution_count": 2,
   "metadata": {},
   "outputs": [
    {
     "data": {
      "text/plain": [
       "1"
      ]
     },
     "execution_count": 2,
     "metadata": {},
     "output_type": "execute_result"
    }
   ],
   "source": [
    "# 访问钥匙对的数量，目前数量为1对，nok = number of keys\n",
    "zhangsan.wallet.nok"
   ]
  },
  {
   "cell_type": "code",
   "execution_count": 3,
   "metadata": {},
   "outputs": [
    {
     "data": {
      "text/plain": [
       "b'\\t\\x81\\x865B\\x19\\xc2@v\\x0b>\\xbbX2\\xa0?\\xf3\\xde\\x1eRk*j4\\x1b\\x9e\\xd5$\\xcc\\xe2\\xe3m'"
      ]
     },
     "execution_count": 3,
     "metadata": {},
     "output_type": "execute_result"
    }
   ],
   "source": [
    "# 访问张三第一对密钥私钥的字节串编码\n",
    "zhangsan.wallet.keys[0].sk.to_bytes()"
   ]
  },
  {
   "cell_type": "code",
   "execution_count": 4,
   "metadata": {},
   "outputs": [
    {
     "data": {
      "text/plain": [
       "b'\\xdc\\rc\\x0b\\\\#\\x9f\\xfc\\\\>\\x11HoU9\\x80\\xa41\\xabk\\x10\\xb2\\xb5\\xa2\\xae\\xba\\xa5\\xcb\\xc12\\xbbt\\xd0/\\x85\\xdb\\x1d\\xd9\\xe8\\xe5\\t\\x05\\xd2\\x9d\\xb5\\x0b?+\\x8f\\xe4&9##\\xef@\\xc6\"\\x93\\x08\\xb7\\xe6#\\t'"
      ]
     },
     "execution_count": 4,
     "metadata": {},
     "output_type": "execute_result"
    }
   ],
   "source": [
    "# 访问张三的第一对密钥公钥的字节串编码\n",
    "zhangsan.wallet.keys[0].pk.to_bytes()"
   ]
  },
  {
   "cell_type": "code",
   "execution_count": 5,
   "metadata": {},
   "outputs": [
    {
     "data": {
      "text/plain": [
       "'1AcNdTuzmRVUaNiSSbAbFvvh1VY1CmsTQH'"
      ]
     },
     "execution_count": 5,
     "metadata": {},
     "output_type": "execute_result"
    }
   ],
   "source": [
    "# 访问张三的第一对密钥对应的地址\n",
    "zhangsan.wallet.addrs[0]"
   ]
  },
  {
   "cell_type": "markdown",
   "metadata": {},
   "source": [
    "---\n",
    "访问李四的密钥和地址，发现和张三的完全不同"
   ]
  },
  {
   "cell_type": "code",
   "execution_count": 6,
   "metadata": {},
   "outputs": [
    {
     "data": {
      "text/plain": [
       "b'?\\xf5AnIs\\xecq\\xaa\\xf3\\xc02;\\x1e\\x912\\xd3\\xa1\\xdd&\\xa3\\x94_\\xc6\\xaa\\xf0\\x8c\\n\\xdbG\\xb6{'"
      ]
     },
     "execution_count": 6,
     "metadata": {},
     "output_type": "execute_result"
    }
   ],
   "source": [
    "lisi.wallet.keys[0].sk.to_bytes()"
   ]
  },
  {
   "cell_type": "code",
   "execution_count": 7,
   "metadata": {},
   "outputs": [
    {
     "data": {
      "text/plain": [
       "b'\\xa8\\xd4*\\xda\\x00\\x1b\\x1a\\x02\\x91\\xd1$\\xda\\xca\\x88\\x14\\xca\\xc2\\xec\\x03j+\\xe7\\xf9\\xebW\\xd6uZ\\x11\\xef\\xd2\\'\\xa5\\n\\x1b?V\\xf6i\\xa4,\\xbbO\\xb8\\xfex_?]\\x08\\x92@\\xcbV\\x1c\\x84\\xc1\"|)\\xf1V\\x1c\\xc0'"
      ]
     },
     "execution_count": 7,
     "metadata": {},
     "output_type": "execute_result"
    }
   ],
   "source": [
    "lisi.wallet.keys[0].pk.to_bytes()"
   ]
  },
  {
   "cell_type": "code",
   "execution_count": 8,
   "metadata": {},
   "outputs": [
    {
     "data": {
      "text/plain": [
       "'1BAr86PEKCh46jGZjR4KLqZZNbELXRNSNN'"
      ]
     },
     "execution_count": 8,
     "metadata": {},
     "output_type": "execute_result"
    }
   ],
   "source": [
    "lisi.wallet.addrs[0]"
   ]
  },
  {
   "cell_type": "markdown",
   "metadata": {},
   "source": [
    "---\n",
    "可以调用Wallet对象的generate_keys()方法生成新的密钥对，以及对应的地址"
   ]
  },
  {
   "cell_type": "code",
   "execution_count": 9,
   "metadata": {},
   "outputs": [],
   "source": [
    "# 生成新的密钥和地址\n",
    "zhangsan.wallet.generate_keys()"
   ]
  },
  {
   "cell_type": "code",
   "execution_count": 10,
   "metadata": {},
   "outputs": [
    {
     "data": {
      "text/plain": [
       "2"
      ]
     },
     "execution_count": 10,
     "metadata": {},
     "output_type": "execute_result"
    }
   ],
   "source": [
    "zhangsan.wallet.nok"
   ]
  },
  {
   "cell_type": "code",
   "execution_count": 11,
   "metadata": {},
   "outputs": [
    {
     "data": {
      "text/plain": [
       "b'H\"?)\\x0c\\xcbrK\\t\\xad\\x96GF\\x17\\x17?\\xd2\\x14J\\x9c\\xc66\\xd0\\xd9\\xea\\xb6\\xda\\'\\xb2o3\\x89'"
      ]
     },
     "execution_count": 11,
     "metadata": {},
     "output_type": "execute_result"
    }
   ],
   "source": [
    "# 张三第二对密钥私钥的字节串编码\n",
    "zhangsan.wallet.keys[1].sk.to_bytes()"
   ]
  },
  {
   "cell_type": "code",
   "execution_count": 12,
   "metadata": {},
   "outputs": [
    {
     "data": {
      "text/plain": [
       "b'\\x15\\xc0\\\\\\xc5\\xfeO\\xe8\\xc5\\xbcB~\\xd4\\xd4\\xd2{H\\xb1\\x87\\xb2\\xbeK\\x92\\xe9\\xd3*\\xe2H\\x08\\xdbrp\\x83S\\t\"\\x13\\xfa\\xb0\\x8d\\xd3G\\xb1+\\xe4T(\\xfa\\x91i\\xff=\\xcd\\xa3\\xeb\\xbb\\xa4\\x99b\\xaa\\xf1?\\xb0\\xf4\\x8a'"
      ]
     },
     "execution_count": 12,
     "metadata": {},
     "output_type": "execute_result"
    }
   ],
   "source": [
    "# 张三第二对密钥公钥的字节串编码\n",
    "zhangsan.wallet.keys[1].pk.to_bytes()"
   ]
  },
  {
   "cell_type": "code",
   "execution_count": 13,
   "metadata": {},
   "outputs": [
    {
     "data": {
      "text/plain": [
       "'1Mn7bLhwXAsgTH8TqjzumGHJBFZBWj3eJG'"
      ]
     },
     "execution_count": 13,
     "metadata": {},
     "output_type": "execute_result"
    }
   ],
   "source": [
    "# 张三的第二对密钥对应的地址\n",
    "zhangsan.wallet.addrs[1]"
   ]
  },
  {
   "cell_type": "markdown",
   "metadata": {},
   "source": [
    "---\n",
    "首先张三给李四转账10元(1000分)"
   ]
  },
  {
   "cell_type": "code",
   "execution_count": 14,
   "metadata": {},
   "outputs": [
    {
     "name": "stderr",
     "output_type": "stream",
     "text": [
      "2019-04-22 09:26:09,828 - peer(19, 63)(pid=0) created a transaction\n"
     ]
    },
    {
     "data": {
      "text/plain": [
       "True"
      ]
     },
     "execution_count": 14,
     "metadata": {},
     "output_type": "execute_result"
    }
   ],
   "source": [
    "# 指向李四的地址\n",
    "zhangsan.create_transaction(lisi.wallet.addrs[0], 1000)"
   ]
  },
  {
   "cell_type": "code",
   "execution_count": 15,
   "metadata": {},
   "outputs": [
    {
     "name": "stderr",
     "output_type": "stream",
     "text": [
      "2019-04-22 09:26:09,988 - peer(19, 63)(pid=0) sent a transaction to network\n",
      "2019-04-22 09:26:10,845 - peer(19, 63)(pid=0)'s transaction verified by 11 peers\n"
     ]
    },
    {
     "data": {
      "text/plain": [
       "11"
      ]
     },
     "execution_count": 15,
     "metadata": {},
     "output_type": "execute_result"
    }
   ],
   "source": [
    "# 张三广播交易\n",
    "zhangsan.broadcast_transaction()"
   ]
  },
  {
   "cell_type": "code",
   "execution_count": 16,
   "metadata": {},
   "outputs": [
    {
     "data": {
      "text/plain": [
       "Tx(id:ccf42b55f6569d336f2b91a53721ce0349ef66c23a34f3a82b5ed7b6f3ac1a7e)"
      ]
     },
     "execution_count": 16,
     "metadata": {},
     "output_type": "execute_result"
    }
   ],
   "source": [
    "# 访问节点创建的最新交易\n",
    "tx = zhangsan.txs[-1]\n",
    "tx"
   ]
  },
  {
   "cell_type": "code",
   "execution_count": 17,
   "metadata": {},
   "outputs": [
    {
     "data": {
      "text/plain": [
       "[Vin(to_spend:Pointer(tx_id:c4bf278bb8b66aba5c75515904b25bb4a1c1ecd2424a52fb60a5197516f69e1d,n:0),signature:b'n\\xf4\\x10\\x1ch\\x10\\xa2\\x11\\x86\\xc1\\x94\\xe4\\xbbi\\xe3\\x06\\x9d\\xc4\\x0eC\\xc2\\x01\\xc3\\x19\\xddX\\x9e\\x8eP\\xf4a\\xacL\\xea\\x08\\x95|\\x91]Y\\x15\\x10\\xc3\\x04\\xb7\\xb5\\xcbgm{\\xab:\\xc3\\xe4=\\xf6\\xad\\x91E\\xf4\\x83\\x96_\\x1f',pubkey:b'\\xdc\\rc\\x0b\\\\#\\x9f\\xfc\\\\>\\x11HoU9\\x80\\xa41\\xabk\\x10\\xb2\\xb5\\xa2\\xae\\xba\\xa5\\xcb\\xc12\\xbbt\\xd0/\\x85\\xdb\\x1d\\xd9\\xe8\\xe5\\t\\x05\\xd2\\x9d\\xb5\\x0b?+\\x8f\\xe4&9##\\xef@\\xc6\"\\x93\\x08\\xb7\\xe6#\\t')]"
      ]
     },
     "execution_count": 17,
     "metadata": {},
     "output_type": "execute_result"
    }
   ],
   "source": [
    "# 访问交易输入列表，只有一个输入单元\n",
    "tx.tx_in"
   ]
  },
  {
   "cell_type": "markdown",
   "metadata": {},
   "source": [
    "---"
   ]
  },
  {
   "cell_type": "code",
   "execution_count": 18,
   "metadata": {},
   "outputs": [
    {
     "data": {
      "text/plain": [
       "'c4bf278bb8b66aba5c75515904b25bb4a1c1ecd2424a52fb60a5197516f69e1d'"
      ]
     },
     "execution_count": 18,
     "metadata": {},
     "output_type": "execute_result"
    }
   ],
   "source": [
    "# 张三创建交易使用的UTXO所在的交易编号 \n",
    "zhangsan.blockchain[0].txs[0].id"
   ]
  },
  {
   "cell_type": "code",
   "execution_count": 19,
   "metadata": {},
   "outputs": [
    {
     "data": {
      "text/plain": [
       "Vout(to_addr:1AcNdTuzmRVUaNiSSbAbFvvh1VY1CmsTQH,value:100000)"
      ]
     },
     "execution_count": 19,
     "metadata": {},
     "output_type": "execute_result"
    }
   ],
   "source": [
    "# 获取交易的第1个输出单元\n",
    "vout = zhangsan.blockchain[0].txs[0].tx_out[0]\n",
    "vout"
   ]
  },
  {
   "cell_type": "code",
   "execution_count": 20,
   "metadata": {},
   "outputs": [],
   "source": [
    "# 该地址输入张三\n",
    "assert vout.to_addr in zhangsan.wallet.addrs"
   ]
  },
  {
   "cell_type": "code",
   "execution_count": 21,
   "metadata": {},
   "outputs": [
    {
     "data": {
      "text/plain": [
       "['1AcNdTuzmRVUaNiSSbAbFvvh1VY1CmsTQH', '1Mn7bLhwXAsgTH8TqjzumGHJBFZBWj3eJG']"
      ]
     },
     "execution_count": 21,
     "metadata": {},
     "output_type": "execute_result"
    }
   ],
   "source": [
    "# 指向张三的第一个地址\n",
    "zhangsan.wallet.addrs"
   ]
  },
  {
   "cell_type": "markdown",
   "metadata": {},
   "source": [
    "由此可见，张三创建的交易确实是使用了自己的UTXO，输入单元Vin对象中的signature和pubkey分别为张三的数字签名和公钥，都是以字节串呈现。"
   ]
  },
  {
   "cell_type": "markdown",
   "metadata": {},
   "source": [
    "## 关于签名的验证\n",
    "如果数字签名和公钥都是属于张三，则该交易广播到网络中将会被其他节点验证通过，并写进自己的交易池。"
   ]
  },
  {
   "cell_type": "code",
   "execution_count": 22,
   "metadata": {},
   "outputs": [],
   "source": [
    "# 李四验证交易通过\n",
    "assert lisi.verify_transaction(tx)"
   ]
  },
  {
   "cell_type": "markdown",
   "metadata": {},
   "source": [
    "可见张三创建的交易是有效的，被李四验证通过了。"
   ]
  },
  {
   "cell_type": "markdown",
   "metadata": {},
   "source": [
    "### 修改交易的签名"
   ]
  },
  {
   "cell_type": "code",
   "execution_count": 23,
   "metadata": {},
   "outputs": [],
   "source": [
    "# 从simchain中导入输入单元Vin\n",
    "from simchain import Vin"
   ]
  },
  {
   "cell_type": "code",
   "execution_count": 24,
   "metadata": {},
   "outputs": [
    {
     "name": "stderr",
     "output_type": "stream",
     "text": [
      "2019-04-22 09:26:11,872 - singature does not math for Tx(id:e17628147c91b3b62a6f9114c63657a005899b7edf127038e7ed36e4b395680f)\n"
     ]
    },
    {
     "data": {
      "text/plain": [
       "False"
      ]
     },
     "execution_count": 24,
     "metadata": {},
     "output_type": "execute_result"
    }
   ],
   "source": [
    "# 获取交易的输入\n",
    "vin = tx.tx_in[0]\n",
    "# 创建新的输入，放入新的签名\n",
    "vin1 = Vin(vin.to_spend, b'1'*64, vin.pubkey)\n",
    "# 替换输入单元\n",
    "tx.tx_in[0] = vin1\n",
    "# 李四验证交易不通过\n",
    "lisi.verify_transaction(tx)"
   ]
  },
  {
   "cell_type": "markdown",
   "metadata": {},
   "source": [
    "上述可以看到，当修改了输入单元中的数字签名后，首先交易的编号发生了变化，而且验证也不通过，程序提示签名验证不匹配。\n",
    "### 修改公钥"
   ]
  },
  {
   "cell_type": "code",
   "execution_count": 25,
   "metadata": {},
   "outputs": [
    {
     "name": "stderr",
     "output_type": "stream",
     "text": [
      "2019-04-22 09:26:12,047 - singature does not math for Tx(id:e53cc7b5970b679bc06c6614c1756267ae4cd277bd05dbde675cd9529417dce6)\n"
     ]
    },
    {
     "data": {
      "text/plain": [
       "False"
      ]
     },
     "execution_count": 25,
     "metadata": {},
     "output_type": "execute_result"
    }
   ],
   "source": [
    "pk_str = lisi.pk\n",
    "# 创建新的输入单元\n",
    "vin2 = Vin(vin.to_spend, vin.signature, pk_str)\n",
    "# 替换输入单元\n",
    "tx.tx_in[0] = vin2\n",
    "# 李四验证交易不通过\n",
    "lisi.verify_transaction(tx)"
   ]
  },
  {
   "cell_type": "markdown",
   "metadata": {},
   "source": [
    "当修改了输入单元中的公钥后，交易的编号同样发生了变化，而且同样提示验证签名不匹配。\n",
    "### 尝试使用张三的第二对密钥"
   ]
  },
  {
   "cell_type": "code",
   "execution_count": 26,
   "metadata": {},
   "outputs": [
    {
     "data": {
      "text/plain": [
       "False"
      ]
     },
     "execution_count": 26,
     "metadata": {},
     "output_type": "execute_result"
    }
   ],
   "source": [
    "sk = zhangsan.wallet.keys[1].sk\n",
    "pk = zhangsan.wallet.keys[1].pk\n",
    "# 选择一条签名明文\n",
    "message = b'I love block chain'\n",
    "# 用私钥进行签名\n",
    "signature = sk.sign(message)\n",
    "# 用公钥验证签名\n",
    "assert pk.verify(signature, message)\n",
    "# 用张三的第一对密钥公钥验证签名\n",
    "pk1 = zhangsan.wallet.keys[0].pk\n",
    "pk1.verify(signature, message)"
   ]
  },
  {
   "cell_type": "markdown",
   "metadata": {},
   "source": [
    "### 张三使用自己的签名和公钥，但是消费他人的UTXO创建交易"
   ]
  },
  {
   "cell_type": "code",
   "execution_count": 27,
   "metadata": {},
   "outputs": [
    {
     "data": {
      "text/plain": [
       "Vout(to_addr:1PqNstFwWYgrW3kBaYa8xG2KsVJN4eN7YC,value:100000)"
      ]
     },
     "execution_count": 27,
     "metadata": {},
     "output_type": "execute_result"
    }
   ],
   "source": [
    "from simchain import Pointer\n",
    "# 创建一个新的定位指针\n",
    "pointer = Pointer(vin.to_spend.tx_id, 1)\n",
    "# 新指针指向的输出单元\n",
    "new_out = zhangsan.blockchain[0].txs[0].tx_out[1]\n",
    "new_out"
   ]
  },
  {
   "cell_type": "code",
   "execution_count": 28,
   "metadata": {},
   "outputs": [
    {
     "data": {
      "text/plain": [
       "'1PqNstFwWYgrW3kBaYa8xG2KsVJN4eN7YC'"
      ]
     },
     "execution_count": 28,
     "metadata": {},
     "output_type": "execute_result"
    }
   ],
   "source": [
    "# 输出单元指向的地址\n",
    "new_out.to_addr"
   ]
  },
  {
   "cell_type": "code",
   "execution_count": 29,
   "metadata": {},
   "outputs": [
    {
     "data": {
      "text/plain": [
       "False"
      ]
     },
     "execution_count": 29,
     "metadata": {},
     "output_type": "execute_result"
    }
   ],
   "source": [
    "# 该地址不属于张三\n",
    "new_out.to_addr in zhangsan.wallet.addrs"
   ]
  },
  {
   "cell_type": "code",
   "execution_count": 30,
   "metadata": {},
   "outputs": [
    {
     "name": "stderr",
     "output_type": "stream",
     "text": [
      "2019-04-22 09:26:12,881 - singature does not math for Tx(id:7b476d072261e6946a86aa1861a47f4d0c3b17002c46d210b07a672d0ec3a28b)\n"
     ]
    },
    {
     "data": {
      "text/plain": [
       "False"
      ]
     },
     "execution_count": 30,
     "metadata": {},
     "output_type": "execute_result"
    }
   ],
   "source": [
    "# 创建一个新的输入单元\n",
    "vin3 = Vin(pointer, vin.signature, vin.pubkey)\n",
    "# 替换输入单元\n",
    "tx.tx_in[0] = vin3\n",
    "# 李四验证交易不通过\n",
    "lisi.verify_transaction(tx)"
   ]
  }
 ],
 "metadata": {
  "kernelspec": {
   "display_name": "Python 3",
   "language": "python",
   "name": "python3"
  },
  "language_info": {
   "codemirror_mode": {
    "name": "ipython",
    "version": 3
   },
   "file_extension": ".py",
   "mimetype": "text/x-python",
   "name": "python",
   "nbconvert_exporter": "python",
   "pygments_lexer": "ipython3",
   "version": "3.7.2"
  },
  "toc": {
   "base_numbering": 1,
   "nav_menu": {},
   "number_sections": false,
   "sideBar": true,
   "skip_h1_title": false,
   "title_cell": "Table of Contents",
   "title_sidebar": "Contents",
   "toc_cell": false,
   "toc_position": {},
   "toc_section_display": true,
   "toc_window_display": false
  }
 },
 "nbformat": 4,
 "nbformat_minor": 1
}
