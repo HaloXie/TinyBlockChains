{
 "cells": [
  {
   "cell_type": "markdown",
   "metadata": {
    "collapsed": true
   },
   "source": [
    "# 常见的共识算法"
   ]
  },
  {
   "cell_type": "markdown",
   "metadata": {},
   "source": [
    "达成共识需要满足以下两个条件：  \n",
    "- 选出的记账权威必须是诚实节点\n",
    "- 该节点创建的区块必须被其他诚实节点验证通过"
   ]
  },
  {
   "cell_type": "markdown",
   "metadata": {},
   "source": [
    "### 工作量证明(POW)原理"
   ]
  },
  {
   "cell_type": "markdown",
   "metadata": {},
   "source": [
    "求满足$H(z)<y$的$z$，假设数据$z$的格式是固定的，由一个固定的字符串s加上一个随机数nonce组成的，随机数nonce从0开始取值，每次增加1，直到找到满足$H(z)<y$的nonce。"
   ]
  },
  {
   "cell_type": "code",
   "execution_count": 1,
   "metadata": {},
   "outputs": [
    {
     "name": "stderr",
     "output_type": "stream",
     "text": [
      "2019-06-13 23:03:59,628 - Loaded backend module://ipykernel.pylab.backend_inline version unknown.\n"
     ]
    },
    {
     "name": "stdout",
     "output_type": "stream",
     "text": [
      "I love block chain0->3dab2633d7cc5de223a2a616725fc52cb5adb92885cc0abc9bb181a5ccc79a98\n",
      "I love block chain1->9c7ec63641d863b674562529f0094d644628fa9c2fe717c1ea7284dd42239bdf\n",
      "I love block chain2->1379414848279f4827f57927026b02007f1bec2f21433a4b29ccec4fa83bef69\n",
      "I love block chain3->5b335251ef9dfc4861240bfa34daba259c554eb2a106a76b45c04dcf2e007340\n",
      "I love block chain4->91cf44991b08fb49c12c73f5f30345ddd6690942fe2bf2e70d247efe3a55de11\n",
      "I love block chain5->5f389676683ea636e52f96ffa9f8c7d578444648f03fab01bc2fd6e40cef9fb4\n",
      "I love block chain6->830eb5892a5fd6e6978fd84d773b2b0c88dd584c14556428e95b91037d872d3d\n",
      "I love block chain7->c4f39c4c3befaa93d6cae5cbb2d95ffac22ed82421fe171ede9bd6e2827cbc9a\n",
      "I love block chain8->596794760f603a41a7f1231712db6795c3a1fd9583c4ce07a9d8f82c732e1836\n",
      "I love block chain9->2502ecec685159e5d18196d1a870b7b0d458d9b161c721299604e7fba7fac486\n"
     ]
    }
   ],
   "source": [
    "from simchain import sha256d\n",
    "# 给定一个字符串s\n",
    "s = \"I love block chain\"\n",
    "# 初始化nonce\n",
    "nonce = 0\n",
    "for _ in range(10):\n",
    "    # 组合字符串s与随机数nonce为z\n",
    "    z = s + str(nonce)\n",
    "    # 计算z的哈希值\n",
    "    print(\"{0}->{1}\".format(z, sha256d(z)))\n",
    "    # nonce增加1\n",
    "    nonce += 1"
   ]
  },
  {
   "cell_type": "markdown",
   "metadata": {},
   "source": [
    "接下来给定目标$y$，计算满足条件$H(z)<y$的nonce"
   ]
  },
  {
   "cell_type": "code",
   "execution_count": 2,
   "metadata": {},
   "outputs": [
    {
     "data": {
      "text/plain": [
       "452312848583266388373324160190187140051835877600158453279131187530910662656"
      ]
     },
     "execution_count": 2,
     "metadata": {},
     "output_type": "execute_result"
    }
   ],
   "source": [
    "# 给定目标y为一个大整数\n",
    "y = 1 << 248\n",
    "y"
   ]
  },
  {
   "cell_type": "code",
   "execution_count": 3,
   "metadata": {},
   "outputs": [
    {
     "data": {
      "text/plain": [
       "609"
      ]
     },
     "execution_count": 3,
     "metadata": {},
     "output_type": "execute_result"
    }
   ],
   "source": [
    "# 将z的哈希值转换为整数，如果小于目标y就退出循环，否则nonce加1\n",
    "nonce = 0\n",
    "while int(sha256d(s + str(nonce)), 16) >= y:\n",
    "    nonce += 1\n",
    "# 满足条件的nonce\n",
    "nonce"
   ]
  },
  {
   "cell_type": "code",
   "execution_count": 4,
   "metadata": {},
   "outputs": [
    {
     "data": {
      "text/plain": [
       "False"
      ]
     },
     "execution_count": 4,
     "metadata": {},
     "output_type": "execute_result"
    }
   ],
   "source": [
    "# 将nonce加1计算一次，不满足条件\n",
    "int(sha256d(s + str(nonce + 1)), 16) < y"
   ]
  },
  {
   "cell_type": "markdown",
   "metadata": {},
   "source": [
    "“挖矿”所需的“难题”由“矿工”用候选区块构造的。"
   ]
  },
  {
   "cell_type": "code",
   "execution_count": 5,
   "metadata": {},
   "outputs": [
    {
     "data": {
      "text/plain": [
       "'1.0None850114205b7aa75ea52c668b27693c9af16229e65c98af92392d96cab82957b6c75d9bf012345'"
      ]
     },
     "execution_count": 5,
     "metadata": {},
     "output_type": "execute_result"
    }
   ],
   "source": [
    "from simchain import Vin, Vout, Tx, Block\n",
    "vin = Vin(to_spend=None, signature=b'0', pubkey=None)\n",
    "vout = Vout(to_addr='1', value=100)\n",
    "tx = Tx([vin], [vout])\n",
    "# 创建一个区块\n",
    "block = Block(version=1.0, prev_block_hash=None, timestamp=850114, bits=20, nonce=12345, txs=[tx])\n",
    "# 获取区块头\n",
    "block.header()"
   ]
  },
  {
   "cell_type": "code",
   "execution_count": 6,
   "metadata": {},
   "outputs": [
    {
     "data": {
      "text/plain": [
       "'1.0None850114205b7aa75ea52c668b27693c9af16229e65c98af92392d96cab82957b6c75d9bf011'"
      ]
     },
     "execution_count": 6,
     "metadata": {},
     "output_type": "execute_result"
    }
   ],
   "source": [
    "# 改变nonce值\n",
    "block.header(11)"
   ]
  },
  {
   "cell_type": "markdown",
   "metadata": {},
   "source": [
    "难度bits用于计算目标值y，字符串s是区块头中不包括nonce的部分，z就是区块头。"
   ]
  },
  {
   "cell_type": "code",
   "execution_count": 7,
   "metadata": {},
   "outputs": [],
   "source": [
    "from simchain.ecc import sha256d\n",
    "\n",
    "# 通过难度位数计算目标值\n",
    "def caculate_target(bits):\n",
    "    return (1 << (256 - bits))\n",
    "\n",
    "# 定义“挖矿”函数，block：候选区块\n",
    "def mine(block):\n",
    "    # 初始化随机数nonce\n",
    "    nonce = 0\n",
    "    # 根据候选区块中的难度位数计算目标值\n",
    "    target = caculate_target(block.bits)\n",
    "    # 计算区块的梅克尔树根哈希值\n",
    "    merkle_root_hash = block.get_merkle_root()\n",
    "    # 直到nonce满足条件才退出循环\n",
    "    while int(sha256d(block.header(nonce, merkle_root_hash)), 16) >= target:\n",
    "        nonce += 1\n",
    "\n",
    "    return nonce"
   ]
  },
  {
   "cell_type": "code",
   "execution_count": 8,
   "metadata": {},
   "outputs": [
    {
     "data": {
      "text/plain": [
       "2008865"
      ]
     },
     "execution_count": 8,
     "metadata": {},
     "output_type": "execute_result"
    }
   ],
   "source": [
    "from simchain.consensus import mine\n",
    "# 计算2008865次时，满足条件\n",
    "mine(block)"
   ]
  },
  {
   "cell_type": "markdown",
   "metadata": {},
   "source": [
    "### 难度调整"
   ]
  },
  {
   "cell_type": "markdown",
   "metadata": {},
   "source": [
    "通过调整目标值y，从而保证让网络中计算最快的节点在10分钟左右才能计算出满足条件的nonce。实际上，难度调整的本质是增大和减小目标y的值。"
   ]
  },
  {
   "cell_type": "markdown",
   "metadata": {},
   "source": [
    "Simchain中的难度计算函数caculate_target()，难度位数bits增加，则“挖矿”难度增加，bits减小，则“挖矿”难度降低。"
   ]
  },
  {
   "cell_type": "code",
   "execution_count": 9,
   "metadata": {},
   "outputs": [
    {
     "data": {
      "text/plain": [
       "True"
      ]
     },
     "execution_count": 9,
     "metadata": {},
     "output_type": "execute_result"
    }
   ],
   "source": [
    "from simchain.consensus import caculate_target\n",
    "y1 = caculate_target(20)\n",
    "y2 = caculate_target(21)\n",
    "y1 > y2"
   ]
  },
  {
   "cell_type": "markdown",
   "metadata": {},
   "source": [
    "在Simchain中通过当前区块难度计算下一个区块难度的函数示例如下："
   ]
  },
  {
   "cell_type": "code",
   "execution_count": 10,
   "metadata": {},
   "outputs": [],
   "source": [
    "# local_time：区块产生累计时间，prev_height：前区块高度，prev_bits：前区块难度位数\n",
    "# 区块产生累计时间指每产生一块区块花费时间的累计集合\n",
    "# 比如产生3个区块花费时间分别为3、4、5分钟，则集合为｛0,3,7,12｝，是Simchain中的本地时间\n",
    "# 比特币中可以通过区块时间戳来确定\n",
    "def calculate_next_block_bits(local_time, prev_height, prev_bits):\n",
    "    \n",
    "    # Params.TOTAL_BLOCKS：每产生多少区块后，系统自动调整难度1次，简称难度调整间隔\n",
    "    # 比特币为2016块，Simchain为20块，如果当前区块高度不为难度调整间隔的倍数，难度不调整\n",
    "    flag = (prev_height + 1) % Params.TOTAL_BLOCKS\n",
    "    if flag != 0:\n",
    "        return prev_bits\n",
    "\n",
    "    # 计算新一轮难度调整间隔内所消耗的实际总时间\n",
    "    # 比如比特币为高度1/2017~高度2016/4032花费的总时间\n",
    "    count = ((prev_height + 1) // Params.TOTAL_BLOCKS) * Params.TOTAL_BLOCKS\n",
    "    actual_time_taken = local_time[:prev_height] - local_time[:count]\n",
    "\n",
    "    # 如果实际消耗时间比期望时间小，则增加难度\n",
    "    # 比特币对的期望时间是2016*10分钟\n",
    "    if actual_time_taken < Params.PERIOD_FOR_TOTAL_BLOCKS:\n",
    "        return prev_bits + 1\n",
    "    # 如果实际消耗时间比期望时间大，则降低难度 \n",
    "    elif actual_time_taken > Params.PERIOD_FOR_TOTAL_BLOCKS:\n",
    "        return prev_bits - 1\n",
    "    # 几乎不可能发生\n",
    "    else:\n",
    "        return prev_bits"
   ]
  }
 ],
 "metadata": {
  "kernelspec": {
   "display_name": "Python 3",
   "language": "python",
   "name": "python3"
  },
  "language_info": {
   "codemirror_mode": {
    "name": "ipython",
    "version": 3
   },
   "file_extension": ".py",
   "mimetype": "text/x-python",
   "name": "python",
   "nbconvert_exporter": "python",
   "pygments_lexer": "ipython3",
   "version": "3.7.2"
  },
  "toc": {
   "base_numbering": 1,
   "nav_menu": {},
   "number_sections": false,
   "sideBar": true,
   "skip_h1_title": false,
   "title_cell": "Table of Contents",
   "title_sidebar": "Contents",
   "toc_cell": false,
   "toc_position": {},
   "toc_section_display": true,
   "toc_window_display": false
  }
 },
 "nbformat": 4,
 "nbformat_minor": 1
}
