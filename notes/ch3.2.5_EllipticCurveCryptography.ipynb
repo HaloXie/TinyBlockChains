{
 "cells": [
  {
   "cell_type": "markdown",
   "metadata": {
    "collapsed": true
   },
   "source": [
    "# 椭圆曲线加密"
   ]
  },
  {
   "cell_type": "markdown",
   "metadata": {},
   "source": [
    "考虑一条椭圆曲线$E_p:y^2=x^3+ax+b(modp)$，其上有点G，G的阶为n（$nG=\\infty$）。任选整数$1<k<n$，计算$K=kG$，则整数k和点K，被称为一对密钥，k为私钥，K为公钥，点G被称为基点。"
   ]
  },
  {
   "cell_type": "markdown",
   "metadata": {},
   "source": [
    "secp256k1椭圆曲线参数如下："
   ]
  },
  {
   "cell_type": "code",
   "execution_count": 1,
   "metadata": {},
   "outputs": [
    {
     "name": "stderr",
     "output_type": "stream",
     "text": [
      "2019-04-28 19:07:05,766 - Loaded backend module://ipykernel.pylab.backend_inline version unknown.\n"
     ]
    }
   ],
   "source": [
    "from simchain.ecc import secp256k1"
   ]
  },
  {
   "cell_type": "code",
   "execution_count": 2,
   "metadata": {},
   "outputs": [
    {
     "name": "stdout",
     "output_type": "stream",
     "text": [
      "a = 0\n",
      "b = 7\n",
      "p = 115792089237316195423570985008687907853269984665640564039457584007908834671663\n",
      "G = (55066263022277343669578718895168534326250603453777594175500187360389116729240,32670510020758816978083085130507043184471273380659243275938904335757337482424)\n",
      "G order = 115792089237316195423570985008687907852837564279074904382605163141518161494337\n"
     ]
    }
   ],
   "source": [
    "print(\"a =\", secp256k1.curvefp.a)\n",
    "print(\"b =\", secp256k1.curvefp.b)\n",
    "print(\"p =\", secp256k1.curvefp.p)\n",
    "# 基点G\n",
    "print(\"G =\", secp256k1.generator)\n",
    "# 基点G的阶\n",
    "print(\"G order =\", secp256k1.order)"
   ]
  },
  {
   "cell_type": "markdown",
   "metadata": {},
   "source": [
    "## 公钥和私钥的生成\n",
    "随机选择一个小于n的整数作为私钥，并计算与之对应的公钥"
   ]
  },
  {
   "cell_type": "code",
   "execution_count": 3,
   "metadata": {},
   "outputs": [
    {
     "name": "stdout",
     "output_type": "stream",
     "text": [
      "k = 13721621457836194048043572723245894404046164988136268389994891683815006016465\n",
      "K = (74340034498203696003321400411194848503900624738181122002403246597948302981611,100299871651858520895354144543649521888584284064794546885766123016609593764869)\n"
     ]
    }
   ],
   "source": [
    "import random\n",
    "# 生成一个私钥\n",
    "k = random.randint(1, secp256k1.order)\n",
    "print(\"k =\", k)\n",
    "# 计算公钥\n",
    "K = secp256k1.generator * k\n",
    "print(\"K =\", K)"
   ]
  },
  {
   "cell_type": "markdown",
   "metadata": {},
   "source": [
    "显示密钥：将整数编码成固定长度的字节串"
   ]
  },
  {
   "cell_type": "code",
   "execution_count": 4,
   "metadata": {},
   "outputs": [
    {
     "data": {
      "text/plain": [
       "b\"\\x1f3\\xfd=\\xe0nPW\\xdf\\xf8'\\x17\\x89\\x9aQ\\x17\\x1d\\x90cv?W5\\r\\xb8\\xab\\xe1\\xa6K\\xa3\\xd5\\x08\""
      ]
     },
     "execution_count": 4,
     "metadata": {},
     "output_type": "execute_result"
    }
   ],
   "source": [
    "from simchain import SigningKey, VerifyingKey, secp256k1\n",
    "# 随机生成私钥整数\n",
    "k = random.randint(1, secp256k1.order)\n",
    "# 通过整数创建私钥对象\n",
    "sk = SigningKey.from_number(k)\n",
    "# 私钥编码成字节串显示\n",
    "sk.to_bytes()"
   ]
  },
  {
   "cell_type": "code",
   "execution_count": 5,
   "metadata": {},
   "outputs": [
    {
     "data": {
      "text/plain": [
       "b'\\xe1K\\xc0\\x97\\x01\\xf1\\xfds\\xab\\xf4\\xb9\\x87\\xd2\\xdd\\xc8\\x0c\\xbf\\xc3r\\x10$\\r\\xe7-\\xcc\\xa7\\xc5\\r.6\\x9e\\xf2V\"\\xfb\\x93\\x91i\\xdai\\xf1-&\\x19\\xf8\\xa1\\xb2S\\xf1\\xe1\\xd2\\r\\xf3\\xdc-nm\\xf4:\\xb8\\x00\\xa8\\xce\\xf0'"
      ]
     },
     "execution_count": 5,
     "metadata": {},
     "output_type": "execute_result"
    }
   ],
   "source": [
    "# 获取该私钥对应的公钥对象\n",
    "pk = sk.get_verifying_key()\n",
    "# 将公钥编码成字节串显示\n",
    "pk.to_bytes()"
   ]
  },
  {
   "cell_type": "code",
   "execution_count": 6,
   "metadata": {},
   "outputs": [
    {
     "data": {
      "text/plain": [
       "14113555316402774164935292687436306854491657195741066780265585112207665124616"
      ]
     },
     "execution_count": 6,
     "metadata": {},
     "output_type": "execute_result"
    }
   ],
   "source": [
    "# 查看私钥的数值\n",
    "k"
   ]
  },
  {
   "cell_type": "code",
   "execution_count": 7,
   "metadata": {},
   "outputs": [
    {
     "data": {
      "text/plain": [
       "14113555316402774164935292687436306854491657195741066780265585112207665124616"
      ]
     },
     "execution_count": 7,
     "metadata": {},
     "output_type": "execute_result"
    }
   ],
   "source": [
    "# 导入解码函数\n",
    "from simchain.ecc import bytes_to_number\n",
    "# 将私钥从字节串转换成整数\n",
    "bytes_to_number(sk.to_bytes())"
   ]
  },
  {
   "cell_type": "code",
   "execution_count": 8,
   "metadata": {},
   "outputs": [
    {
     "data": {
      "text/plain": [
       "(101904233667548707959365884539969791313808988891615054231382830273216745217778,\n",
       " 38960714095122406734039837441172690209171861768897369501727383017946362728176)"
      ]
     },
     "execution_count": 8,
     "metadata": {},
     "output_type": "execute_result"
    }
   ],
   "source": [
    "# 将公钥从字节串转换成整数对\n",
    "(bytes_to_number(pk.to_bytes()[0:32]), bytes_to_number(pk.to_bytes()[32:]))"
   ]
  },
  {
   "cell_type": "code",
   "execution_count": 9,
   "metadata": {},
   "outputs": [
    {
     "data": {
      "text/plain": [
       "(101904233667548707959365884539969791313808988891615054231382830273216745217778,38960714095122406734039837441172690209171861768897369501727383017946362728176)"
      ]
     },
     "execution_count": 9,
     "metadata": {},
     "output_type": "execute_result"
    }
   ],
   "source": [
    "# 直接计算公钥\n",
    "secp256k1.generator * k"
   ]
  },
  {
   "cell_type": "code",
   "execution_count": 10,
   "metadata": {},
   "outputs": [
    {
     "data": {
      "text/plain": [
       "b'\\xe1K\\xc0\\x97\\x01\\xf1\\xfds\\xab\\xf4\\xb9\\x87\\xd2\\xdd\\xc8\\x0c\\xbf\\xc3r\\x10$\\r\\xe7-\\xcc\\xa7\\xc5\\r.6\\x9e\\xf2V\"\\xfb\\x93\\x91i\\xdai\\xf1-&\\x19\\xf8\\xa1\\xb2S\\xf1\\xe1\\xd2\\r\\xf3\\xdc-nm\\xf4:\\xb8\\x00\\xa8\\xce\\xf0'"
      ]
     },
     "execution_count": 10,
     "metadata": {},
     "output_type": "execute_result"
    }
   ],
   "source": [
    "# 由字节串得到公钥对象\n",
    "ppk = VerifyingKey.from_bytes(pk.to_bytes())\n",
    "ppk.to_bytes()"
   ]
  },
  {
   "cell_type": "markdown",
   "metadata": {},
   "source": [
    "## 地址的生成\n",
    "本书的地址采用与比特币一样的算法：\n",
    "1. 对公钥字节串进行两次哈希运算，分别采用sha256和ripemd160哈希算法，得到一个160位的公钥哈希值；\n",
    "2. 然后在其前面加上一个字节的地址版本信息\\x00，得到一个21字节的字节串；\n",
    "3. 然后对该字节串采用base58编码成固定长度的字符串，得到地址。"
   ]
  },
  {
   "cell_type": "code",
   "execution_count": 14,
   "metadata": {},
   "outputs": [],
   "source": [
    "# 从内置哈希运算库中导入new和sha256对象\n",
    "from hashlib import new, sha256\n",
    "# 从base58模块中调用编码函数\n",
    "from base58 import b58encode_check\n",
    "\n",
    "# 定义由公钥字节串生成地址的函数\n",
    "def convert_pubkey_to_addr(pubkey_str):\n",
    "    # 对字节串进行sha256哈希运算\n",
    "    sha = sha256(pubkey_str).digest()\n",
    "    # 进行ripemd160哈希运算\n",
    "    ripe = new('ripemd160', sha).digest()\n",
    "    # 进行base58编码\n",
    "    return b58encode_check(b'\\x00' + ripe).decode()"
   ]
  },
  {
   "cell_type": "code",
   "execution_count": 15,
   "metadata": {},
   "outputs": [
    {
     "data": {
      "text/plain": [
       "'1AekCNLaq1WeJDSkcWDMTDy61CY1VLWPe'"
      ]
     },
     "execution_count": 15,
     "metadata": {},
     "output_type": "execute_result"
    }
   ],
   "source": [
    "convert_pubkey_to_addr(ppk.to_bytes())"
   ]
  },
  {
   "cell_type": "markdown",
   "metadata": {},
   "source": [
    "## 数字签名与验证\n",
    "假设某数字货币采用椭圆曲线加密，已知选用的椭圆曲线为$E_p(a,b)$，基点为$G$。\n",
    "### 数字签名\n",
    "如果张三要创建一条有效交易，如何用单个UTXO创建每一个输入单元？  \n",
    "1. 在区块链中找到指向自己地址A的UTXO。\n",
    "2. 将交易的输入单元指向该UTXO，即定位指针指向该条UTXO在区块链中的位置，同时将自己钱包中与地址A对应的公钥K放入其中。\n",
    "3. 张三选择一个随机数$rk$，一条公开明文$m$，将公开明文$m$的哈希值转换成整数$h$。\n",
    "4. 计算点$rG=rk\\bullet G$，并令$r=rG.x$，然后计算$s=(h+k\\bullet r)/rk$，其中$k$为与公钥$K$对应的私钥。\n",
    "5. 张三将$r,s$放到输入单元中。\n",
    "\n",
    "### 验证签名\n",
    "1. 李四将输入单元中的公钥$K$转换成地址$A'$，如果$A'=A$，执行下一步。\n",
    "2. 李四将公开明文$m$用与张三一样的方式转换成整数$K$。\n",
    "3. 李四计算点$P=h \\bullet G/s+r \\bullet K/s$\n",
    "4. 判断$r=P.x$，为真则验证通过，否则验证不通过。"
   ]
  },
  {
   "cell_type": "code",
   "execution_count": 21,
   "metadata": {},
   "outputs": [],
   "source": [
    "from random import SystemRandom\n",
    "# 数字签名函数，输入为签名明文message，基点G，私钥k\n",
    "def sign(message,G,k):\n",
    "    # 获得基点G的阶\n",
    "    n = G.order\n",
    "    \n",
    "    # 计算明文哈希值\n",
    "    mess_hash = sha256(message).digest()\n",
    "    \n",
    "    # 将明文哈希值转换成数字\n",
    "    h = bytes_to_number(mess_hash)\n",
    "    r, s, = 0, 0\n",
    "    while r == 0 or s == 0:\n",
    "        # 生成随机数rk\n",
    "        rk = SystemRandom().randrange(1, n)\n",
    "        rG = rk*G\n",
    "        r = rG.x\n",
    "        s = ((h + (r*k)%n)*inv_mod(rk, n)) % n\n",
    "    return r,s"
   ]
  },
  {
   "cell_type": "code",
   "execution_count": 22,
   "metadata": {},
   "outputs": [],
   "source": [
    "# 验证签名函数，输入为签名sig，基点G，公钥K，以及明文message\n",
    "def verify(sig,G,K,message):\n",
    "    # 获取签名\n",
    "    r,s = sig\n",
    "    # 获取基点的阶\n",
    "    n = G.order\n",
    "    mess_hash = sha256(message).digest()\n",
    "    h = bytes_to_number(mess_hash)\n",
    "    w = inv_mod(s,n)\n",
    "    u1, u2 = (h * w) % n,(r * w) % n\n",
    "    p = u1 * G + u2 * K\n",
    "    return r == p.x % n "
   ]
  },
  {
   "cell_type": "code",
   "execution_count": 25,
   "metadata": {},
   "outputs": [
    {
     "name": "stdout",
     "output_type": "stream",
     "text": [
      "K = (108607064596551879580190606910245687803607295064141551927605737287325610911759,6661302038839728943522144359728938428925407345457796456954441906546235843221)\n"
     ]
    }
   ],
   "source": [
    "from simchain.ecc import secp256k1, sign, verify\n",
    "\n",
    "# 获取基点G\n",
    "G = secp256k1.generator\n",
    "# 选择明文\n",
    "message = b\"I love blockchain\"\n",
    "# 选择私钥整数\n",
    "k = 12345\n",
    "# 计算对应的公钥整数对\n",
    "K = k*G\n",
    "print(\"K =\", K)"
   ]
  },
  {
   "cell_type": "code",
   "execution_count": 26,
   "metadata": {},
   "outputs": [
    {
     "name": "stdout",
     "output_type": "stream",
     "text": [
      "signature = (43169889414249851771786216207002742298422049365183073422013828316769701709071, 64956080845433340310512840938058462946302782351993759365079085827841721408798)\n"
     ]
    }
   ],
   "source": [
    "# 用私钥签名\n",
    "signature = sign(message, G, k)\n",
    "print(\"signature =\", signature)"
   ]
  },
  {
   "cell_type": "code",
   "execution_count": 28,
   "metadata": {},
   "outputs": [],
   "source": [
    "# 用公钥验证签名\n",
    "flag = verify(signature, G, K, message)\n",
    "assert flag == True"
   ]
  },
  {
   "cell_type": "markdown",
   "metadata": {},
   "source": [
    "尝试用一个新的私钥进行签名"
   ]
  },
  {
   "cell_type": "code",
   "execution_count": 30,
   "metadata": {},
   "outputs": [],
   "source": [
    "# 新的私钥\n",
    "k1 = 123456\n",
    "# 新的签名\n",
    "signature1 = sign(message, G, k1)\n",
    "# 旧公钥验证\n",
    "flag = verify(signature1, G, K, message)\n",
    "# 验证签名不通过\n",
    "assert flag == False"
   ]
  }
 ],
 "metadata": {
  "kernelspec": {
   "display_name": "Python 3",
   "language": "python",
   "name": "python3"
  },
  "language_info": {
   "codemirror_mode": {
    "name": "ipython",
    "version": 3
   },
   "file_extension": ".py",
   "mimetype": "text/x-python",
   "name": "python",
   "nbconvert_exporter": "python",
   "pygments_lexer": "ipython3",
   "version": "3.7.2"
  },
  "toc": {
   "base_numbering": 1,
   "nav_menu": {},
   "number_sections": false,
   "sideBar": true,
   "skip_h1_title": false,
   "title_cell": "Table of Contents",
   "title_sidebar": "Contents",
   "toc_cell": false,
   "toc_position": {},
   "toc_section_display": true,
   "toc_window_display": false
  }
 },
 "nbformat": 4,
 "nbformat_minor": 1
}
