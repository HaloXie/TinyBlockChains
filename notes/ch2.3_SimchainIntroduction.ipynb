{
 "cells": [
  {
   "cell_type": "markdown",
   "metadata": {
    "collapsed": true
   },
   "source": [
    "# Simchain简介"
   ]
  },
  {
   "cell_type": "code",
   "execution_count": 1,
   "metadata": {},
   "outputs": [
    {
     "name": "stderr",
     "output_type": "stream",
     "text": [
      "2019-04-21 19:25:35,441 - Loaded backend module://ipykernel.pylab.backend_inline version unknown.\n"
     ]
    }
   ],
   "source": [
    "# 从Simchain中导入Network对象\n",
    "from simchain import Network"
   ]
  },
  {
   "cell_type": "code",
   "execution_count": 2,
   "metadata": {},
   "outputs": [
    {
     "name": "stderr",
     "output_type": "stream",
     "text": [
      "2019-04-21 19:25:35,991 - A blockchain p2p network created,12 peers joined\n",
      "2019-04-21 19:25:35,993 - genesis block has been generated\n"
     ]
    }
   ],
   "source": [
    "# 创建一个区块链网络实例\n",
    "net = Network()"
   ]
  },
  {
   "cell_type": "code",
   "execution_count": 3,
   "metadata": {},
   "outputs": [
    {
     "name": "stderr",
     "output_type": "stream",
     "text": [
      "2019-04-21 19:25:36,042 - peer(95, 91)(pid=1) created a transaction\n",
      "2019-04-21 19:25:36,044 - peer(95, 91)(pid=1) sent a transaction to network\n",
      "2019-04-21 19:25:36,905 - peer(95, 91)(pid=1)'s transaction verified by 11 peers\n",
      "2019-04-21 19:25:36,947 - peer(4, 70)(pid=10) created a transaction\n",
      "2019-04-21 19:25:36,948 - peer(4, 70)(pid=10) sent a transaction to network\n",
      "2019-04-21 19:25:37,795 - peer(4, 70)(pid=10)'s transaction verified by 11 peers\n",
      "2019-04-21 19:25:37,835 - peer(11, 51)(pid=2) created a transaction\n",
      "2019-04-21 19:25:37,836 - peer(11, 51)(pid=2) sent a transaction to network\n",
      "2019-04-21 19:25:38,690 - peer(11, 51)(pid=2)'s transaction verified by 11 peers\n",
      "2019-04-21 19:25:38,731 - peer(83, 59)(pid=5) created a transaction\n",
      "2019-04-21 19:25:38,732 - peer(83, 59)(pid=5) sent a transaction to network\n",
      "2019-04-21 19:25:39,582 - peer(83, 59)(pid=5)'s transaction verified by 11 peers\n",
      "2019-04-21 19:25:39,622 - peer(95, 91)(pid=1) created a transaction\n",
      "2019-04-21 19:25:39,623 - peer(95, 91)(pid=1) sent a transaction to network\n",
      "2019-04-21 19:25:40,469 - peer(95, 91)(pid=1)'s transaction verified by 11 peers\n",
      "2019-04-21 19:25:40,511 - peer(4, 70)(pid=10) created a transaction\n",
      "2019-04-21 19:25:40,512 - peer(4, 70)(pid=10) sent a transaction to network\n",
      "2019-04-21 19:25:41,354 - peer(4, 70)(pid=10)'s transaction verified by 11 peers\n",
      "2019-04-21 19:25:41,396 - peer(79, 22)(pid=3) created a transaction\n",
      "2019-04-21 19:25:41,397 - peer(79, 22)(pid=3) sent a transaction to network\n",
      "2019-04-21 19:25:42,247 - peer(79, 22)(pid=3)'s transaction verified by 11 peers\n"
     ]
    }
   ],
   "source": [
    "# 网络中节点创建随机交易\n",
    "net.make_random_transactions()"
   ]
  },
  {
   "cell_type": "code",
   "execution_count": 4,
   "metadata": {},
   "outputs": [
    {
     "name": "stderr",
     "output_type": "stream",
     "text": [
      "2019-04-21 19:25:42,260 - 5 peers are mining\n",
      "2019-04-21 19:25:53,683 - peer(11, 51)(pid=2) is winner,11.421653270721436 secs used\n",
      "2019-04-21 19:26:00,189 - Block(hash:000001c67a501b87af20e0300e938dda95b5ba9805c72343a7d67a932e9a48c0) received by 11 peers\n"
     ]
    }
   ],
   "source": [
    "# 网络中的节点达成共识，交易被写进区块链\n",
    "net.consensus()"
   ]
  },
  {
   "cell_type": "markdown",
   "metadata": {},
   "source": [
    "## Simchain使用"
   ]
  },
  {
   "cell_type": "markdown",
   "metadata": {},
   "source": [
    "### 创世区块的初始化"
   ]
  },
  {
   "cell_type": "markdown",
   "metadata": {},
   "source": [
    "在桃源村起初只有一个数字货币用户，创世区块由他创建，其中给自己写了一笔100元(10000分)的交易"
   ]
  },
  {
   "cell_type": "code",
   "execution_count": 5,
   "metadata": {},
   "outputs": [],
   "source": [
    "# 导入Network, Peer对象\n",
    "from simchain import Network, Peer"
   ]
  },
  {
   "cell_type": "code",
   "execution_count": 6,
   "metadata": {},
   "outputs": [
    {
     "name": "stderr",
     "output_type": "stream",
     "text": [
      "2019-04-21 19:26:00,454 - A blockchain p2p network created,1 peers joined\n",
      "2019-04-21 19:26:00,455 - genesis block has been generated\n"
     ]
    }
   ],
   "source": [
    "# 创建区块链虚拟网络，初始节点数量为1，创世币为10000分\n",
    "net = Network(nop=1, von=10000)"
   ]
  },
  {
   "cell_type": "code",
   "execution_count": 7,
   "metadata": {},
   "outputs": [
    {
     "data": {
      "text/plain": [
       "1"
      ]
     },
     "execution_count": 7,
     "metadata": {},
     "output_type": "execute_result"
    }
   ],
   "source": [
    "# 访问网络中的节点数\n",
    "net.nop"
   ]
  },
  {
   "cell_type": "code",
   "execution_count": 8,
   "metadata": {},
   "outputs": [
    {
     "data": {
      "text/plain": [
       "[peer(19, 82)]"
      ]
     },
     "execution_count": 8,
     "metadata": {},
     "output_type": "execute_result"
    }
   ],
   "source": [
    "# 访问网络中的节点，列表类型，每个节点会随机生成一个坐标，类似IP地址\n",
    "net.peers"
   ]
  },
  {
   "cell_type": "code",
   "execution_count": 9,
   "metadata": {},
   "outputs": [],
   "source": [
    "# 将0号节点命名为张三\n",
    "zhangsan = net.peers[0]"
   ]
  },
  {
   "cell_type": "code",
   "execution_count": 10,
   "metadata": {},
   "outputs": [
    {
     "data": {
      "text/plain": [
       "(19, 82)"
      ]
     },
     "execution_count": 10,
     "metadata": {},
     "output_type": "execute_result"
    }
   ],
   "source": [
    "# 张三的IP地址，在Simchain中无具体用处\n",
    "zhangsan.coords"
   ]
  },
  {
   "cell_type": "code",
   "execution_count": 11,
   "metadata": {},
   "outputs": [
    {
     "data": {
      "text/plain": [
       "b'5\\xc2]\\xf4\\x80\\x94vb\\xe4\\xb2\\xaa\\\\\\xd5\\xf5\\xc8\\xb7\\xe1\\xce\\xad\\x12_h\\x86\\x1b,!\\x03h\\xec\\xb5\\xe0\\x1d'"
      ]
     },
     "execution_count": 11,
     "metadata": {},
     "output_type": "execute_result"
    }
   ],
   "source": [
    "# 访问张三的私钥\n",
    "zhangsan.sk"
   ]
  },
  {
   "cell_type": "code",
   "execution_count": 12,
   "metadata": {},
   "outputs": [
    {
     "data": {
      "text/plain": [
       "b'\\xa3\\xa8\\x9c7\\xc6\\xbe\\xb5\\x1f8\\xb3\\x86N\\xf0\\x1e\\xfe\\x10$\\x93\\xe9\\x14\\xbb\\xbc\\xeb\\x18\\x0be\\xa1\\xb00q\\x1a\\xaf\\xa5h1+\\x8d%\\xb5\\x11\\xa9\\xfdr-\\xb1\\xb2\\x016y\\xfb\\x17<\\x14\\x9cM\\x0e\\xa5\\xb4p\\xf8\\xf8\\x02\\xc9\\x96'"
      ]
     },
     "execution_count": 12,
     "metadata": {},
     "output_type": "execute_result"
    }
   ],
   "source": [
    "# 访问张三的公钥\n",
    "zhangsan.pk"
   ]
  },
  {
   "cell_type": "code",
   "execution_count": 13,
   "metadata": {},
   "outputs": [
    {
     "data": {
      "text/plain": [
       "'157xnwpQGMCpTTUV3cTL8kr5U3aCeTMBHX'"
      ]
     },
     "execution_count": 13,
     "metadata": {},
     "output_type": "execute_result"
    }
   ],
   "source": [
    "# 访问张三的地址\n",
    "zhangsan.addr"
   ]
  },
  {
   "cell_type": "code",
   "execution_count": 14,
   "metadata": {},
   "outputs": [
    {
     "data": {
      "text/plain": [
       "10000"
      ]
     },
     "execution_count": 14,
     "metadata": {},
     "output_type": "execute_result"
    }
   ],
   "source": [
    "# 查看张三的余额，为10000分\n",
    "zhangsan.get_balance()"
   ]
  },
  {
   "cell_type": "code",
   "execution_count": 15,
   "metadata": {},
   "outputs": [
    {
     "data": {
      "text/plain": [
       "Block(hash:31dc0adb97c5405ba185dbea571b4bb973a3eebd227bcf4fd6c7dc46f2b68dfe)"
      ]
     },
     "execution_count": 15,
     "metadata": {},
     "output_type": "execute_result"
    }
   ],
   "source": [
    "# 访问创世区块\n",
    "zhangsan.blockchain[0]"
   ]
  },
  {
   "cell_type": "code",
   "execution_count": 16,
   "metadata": {},
   "outputs": [
    {
     "data": {
      "text/plain": [
       "[Tx(id:bbc48e3b00d38df61f83298abc737aa684bdc87b1aa0cb4608d6fd3bb2088af9)]"
      ]
     },
     "execution_count": 16,
     "metadata": {},
     "output_type": "execute_result"
    }
   ],
   "source": [
    "# 访问创世区块中的交易，数量为1\n",
    "zhangsan.blockchain[0].txs"
   ]
  },
  {
   "cell_type": "code",
   "execution_count": 17,
   "metadata": {},
   "outputs": [
    {
     "data": {
      "text/plain": [
       "[Vout(to_addr:157xnwpQGMCpTTUV3cTL8kr5U3aCeTMBHX,value:10000)]"
      ]
     },
     "execution_count": 17,
     "metadata": {},
     "output_type": "execute_result"
    }
   ],
   "source": [
    "# 访问创世区块中交易的输出，1个输出单元\n",
    "zhangsan.blockchain[0].txs[0].tx_out"
   ]
  },
  {
   "cell_type": "code",
   "execution_count": 18,
   "metadata": {},
   "outputs": [
    {
     "data": {
      "text/plain": [
       "[UTXO(vout:Vout(to_addr:157xnwpQGMCpTTUV3cTL8kr5U3aCeTMBHX,value:10000),pointer:Pointer(tx_id:bbc48e3b00d38df61f83298abc737aa684bdc87b1aa0cb4608d6fd3bb2088af9,n:0))]"
      ]
     },
     "execution_count": 18,
     "metadata": {},
     "output_type": "execute_result"
    }
   ],
   "source": [
    "# 获取张三的UTXO，数量也为1\n",
    "zhangsan.get_utxo()"
   ]
  },
  {
   "cell_type": "markdown",
   "metadata": {},
   "source": [
    "### 让系统正常运行"
   ]
  },
  {
   "cell_type": "markdown",
   "metadata": {},
   "source": [
    "添加李四到网络中"
   ]
  },
  {
   "cell_type": "code",
   "execution_count": 19,
   "metadata": {},
   "outputs": [
    {
     "name": "stderr",
     "output_type": "stream",
     "text": [
      "2019-04-21 19:26:01,972 - A new peer joined in --> peer(83, 11)(pid=1)\n"
     ]
    }
   ],
   "source": [
    "# 添加一个节点到网络中\n",
    "net.add_peer()"
   ]
  },
  {
   "cell_type": "code",
   "execution_count": 20,
   "metadata": {},
   "outputs": [],
   "source": [
    "# 将第二个节点命名为李四\n",
    "lisi = net.peers[1]"
   ]
  },
  {
   "cell_type": "code",
   "execution_count": 21,
   "metadata": {},
   "outputs": [
    {
     "data": {
      "text/plain": [
       "b'\\x1aG\\xa4\\xfa\\x18;\\xff\\x8e\\x05|\\xd7\\xc9\\xf6\\xb3\\t\\xdb\\xc0_6\\xf6(\\x89\\xa0a\\xcb\\xc0\\xdd8\\x0c}\\x1eU'"
      ]
     },
     "execution_count": 21,
     "metadata": {},
     "output_type": "execute_result"
    }
   ],
   "source": [
    "# 访问李四的私钥\n",
    "lisi.sk"
   ]
  },
  {
   "cell_type": "code",
   "execution_count": 22,
   "metadata": {},
   "outputs": [
    {
     "data": {
      "text/plain": [
       "b'\\x17h\\x7f\\xaa\\x80\\tZ\\xa5\\x00\\n\\xff\\x96O\\x9b\\xeeT\\xf8\\xc0\\xd7\\x15\\xa0y\\xe9[\\xd9\\xa3$T\\xfeo(-\\x04t\\xa1\\xf2Bsz\\x9dt)\\xb7\\xcbK\\x02xPJ\\xa3\\xec\\x17\\xe8;.\\xe44\\xe50t\\xb5*gf'"
      ]
     },
     "execution_count": 22,
     "metadata": {},
     "output_type": "execute_result"
    }
   ],
   "source": [
    "# 访问李四的公钥\n",
    "lisi.pk"
   ]
  },
  {
   "cell_type": "code",
   "execution_count": 23,
   "metadata": {},
   "outputs": [
    {
     "data": {
      "text/plain": [
       "'1Eu3vWobafb9nsUUWbuPSUj7JpzYMjeuN4'"
      ]
     },
     "execution_count": 23,
     "metadata": {},
     "output_type": "execute_result"
    }
   ],
   "source": [
    "# 访问李四的地址\n",
    "lisi.addr"
   ]
  },
  {
   "cell_type": "code",
   "execution_count": 24,
   "metadata": {},
   "outputs": [],
   "source": [
    "# 张三的区块链与李四的区块链相同，他们处于同一个区块链中\n",
    "assert zhangsan.blockchain == lisi.blockchain"
   ]
  },
  {
   "cell_type": "code",
   "execution_count": 25,
   "metadata": {},
   "outputs": [],
   "source": [
    "# 张三的UTXO集与李四的UTXO集相同，大家都没有交易\n",
    "assert zhangsan.utxo_set == lisi.utxo_set"
   ]
  },
  {
   "cell_type": "code",
   "execution_count": 26,
   "metadata": {},
   "outputs": [
    {
     "data": {
      "text/plain": [
       "0"
      ]
     },
     "execution_count": 26,
     "metadata": {},
     "output_type": "execute_result"
    }
   ],
   "source": [
    "lisi.get_balance()"
   ]
  },
  {
   "cell_type": "markdown",
   "metadata": {},
   "source": [
    "### 为共识创造基础条件"
   ]
  },
  {
   "cell_type": "markdown",
   "metadata": {},
   "source": [
    "张三给李四转账100分"
   ]
  },
  {
   "cell_type": "code",
   "execution_count": 27,
   "metadata": {},
   "outputs": [
    {
     "name": "stderr",
     "output_type": "stream",
     "text": [
      "2019-04-21 19:26:03,267 - peer(19, 82)(pid=0) created a transaction\n"
     ]
    },
    {
     "data": {
      "text/plain": [
       "True"
      ]
     },
     "execution_count": 27,
     "metadata": {},
     "output_type": "execute_result"
    }
   ],
   "source": [
    "# 参数为李四的地址和金额\n",
    "zhangsan.create_transaction(lisi.addr, 100)"
   ]
  },
  {
   "cell_type": "code",
   "execution_count": 28,
   "metadata": {},
   "outputs": [],
   "source": [
    "# 获取当前交易\n",
    "tx = zhangsan.current_tx"
   ]
  },
  {
   "cell_type": "code",
   "execution_count": 29,
   "metadata": {},
   "outputs": [
    {
     "data": {
      "text/plain": [
       "[Vout(to_addr:1Eu3vWobafb9nsUUWbuPSUj7JpzYMjeuN4,value:100),\n",
       " Vout(to_addr:157xnwpQGMCpTTUV3cTL8kr5U3aCeTMBHX,value:9890)]"
      ]
     },
     "execution_count": 29,
     "metadata": {},
     "output_type": "execute_result"
    }
   ],
   "source": [
    "# 访问当前交易的输出\n",
    "tx.tx_out"
   ]
  },
  {
   "cell_type": "code",
   "execution_count": 30,
   "metadata": {},
   "outputs": [
    {
     "data": {
      "text/plain": [
       "10000"
      ]
     },
     "execution_count": 30,
     "metadata": {},
     "output_type": "execute_result"
    }
   ],
   "source": [
    "# 张三的余额\n",
    "zhangsan.get_balance()"
   ]
  },
  {
   "cell_type": "code",
   "execution_count": 31,
   "metadata": {},
   "outputs": [
    {
     "data": {
      "text/plain": [
       "0"
      ]
     },
     "execution_count": 31,
     "metadata": {},
     "output_type": "execute_result"
    }
   ],
   "source": [
    "# 李四的余额\n",
    "lisi.get_balance()"
   ]
  },
  {
   "cell_type": "code",
   "execution_count": 32,
   "metadata": {},
   "outputs": [
    {
     "name": "stderr",
     "output_type": "stream",
     "text": [
      "2019-04-21 19:26:03,948 - peer(19, 82)(pid=0) sent a transaction to network\n",
      "2019-04-21 19:26:04,030 - peer(19, 82)(pid=0)'s transaction verified by 1 peers\n"
     ]
    },
    {
     "data": {
      "text/plain": [
       "1"
      ]
     },
     "execution_count": 32,
     "metadata": {},
     "output_type": "execute_result"
    }
   ],
   "source": [
    "# 张三将交易广播到网络中\n",
    "zhangsan.broadcast_transaction()"
   ]
  },
  {
   "cell_type": "code",
   "execution_count": 33,
   "metadata": {},
   "outputs": [
    {
     "data": {
      "text/plain": [
       "9890"
      ]
     },
     "execution_count": 33,
     "metadata": {},
     "output_type": "execute_result"
    }
   ],
   "source": [
    "# 张三余额，10分的交易费\n",
    "zhangsan.get_balance()"
   ]
  },
  {
   "cell_type": "code",
   "execution_count": 34,
   "metadata": {},
   "outputs": [
    {
     "data": {
      "text/plain": [
       "100"
      ]
     },
     "execution_count": 34,
     "metadata": {},
     "output_type": "execute_result"
    }
   ],
   "source": [
    "# 李四的余额\n",
    "lisi.get_balance()"
   ]
  },
  {
   "cell_type": "markdown",
   "metadata": {},
   "source": [
    "### 是否真的实现了转账？"
   ]
  },
  {
   "cell_type": "code",
   "execution_count": 35,
   "metadata": {},
   "outputs": [
    {
     "data": {
      "text/plain": [
       "[UTXO(vout:Vout(to_addr:157xnwpQGMCpTTUV3cTL8kr5U3aCeTMBHX,value:9890),pointer:Pointer(tx_id:ba0a70da630330a36ba7ffd00464e9fcb547f4ffaf60691cca2b421b2bfad2d6,n:1))]"
      ]
     },
     "execution_count": 35,
     "metadata": {},
     "output_type": "execute_result"
    }
   ],
   "source": [
    "# 获取张三未确认的UTXO\n",
    "zhangsan.get_unconfirmed_utxo()"
   ]
  },
  {
   "cell_type": "code",
   "execution_count": 36,
   "metadata": {},
   "outputs": [
    {
     "data": {
      "text/plain": [
       "[UTXO(vout:Vout(to_addr:1Eu3vWobafb9nsUUWbuPSUj7JpzYMjeuN4,value:100),pointer:Pointer(tx_id:ba0a70da630330a36ba7ffd00464e9fcb547f4ffaf60691cca2b421b2bfad2d6,n:0))]"
      ]
     },
     "execution_count": 36,
     "metadata": {},
     "output_type": "execute_result"
    }
   ],
   "source": [
    "# 获取李四未确认的UTXO\n",
    "lisi.get_unconfirmed_utxo()"
   ]
  },
  {
   "cell_type": "code",
   "execution_count": 37,
   "metadata": {},
   "outputs": [],
   "source": [
    "assert zhangsan.get_height() == lisi.get_height() == 1"
   ]
  },
  {
   "cell_type": "code",
   "execution_count": 38,
   "metadata": {},
   "outputs": [
    {
     "data": {
      "text/plain": [
       "{'ba0a70da630330a36ba7ffd00464e9fcb547f4ffaf60691cca2b421b2bfad2d6': Tx(id:ba0a70da630330a36ba7ffd00464e9fcb547f4ffaf60691cca2b421b2bfad2d6)}"
      ]
     },
     "execution_count": 38,
     "metadata": {},
     "output_type": "execute_result"
    }
   ],
   "source": [
    "# 张三的交易池中有一条交易\n",
    "zhangsan.mem_pool"
   ]
  },
  {
   "cell_type": "code",
   "execution_count": 39,
   "metadata": {},
   "outputs": [],
   "source": [
    "# 李四的交易池与张三的相同\n",
    "assert lisi.mem_pool == zhangsan.mem_pool"
   ]
  },
  {
   "cell_type": "markdown",
   "metadata": {},
   "source": [
    "### 节点解题"
   ]
  },
  {
   "cell_type": "markdown",
   "metadata": {},
   "source": [
    "为了激励节点解题，获胜的节点将获得固定金额的货币加上交易费作为奖励，并由自己以标准交易格式记录到区块。"
   ]
  },
  {
   "cell_type": "code",
   "execution_count": 40,
   "metadata": {},
   "outputs": [
    {
     "name": "stderr",
     "output_type": "stream",
     "text": [
      "2019-04-21 19:26:05,188 - 1 peers are mining\n",
      "2019-04-21 19:26:05,835 - peer(19, 82)(pid=0) is winner,0.6450369358062744 secs used\n",
      "2019-04-21 19:26:05,994 - Block(hash:00000ce80cb9a89ff3101b62884553e666504c054b266b3397fb1314d748d2e0) received by 1 peers\n"
     ]
    }
   ],
   "source": [
    "# 网络中的节点达成共识\n",
    "net.consensus()"
   ]
  },
  {
   "cell_type": "code",
   "execution_count": 41,
   "metadata": {},
   "outputs": [
    {
     "data": {
      "text/plain": [
       "10400"
      ]
     },
     "execution_count": 41,
     "metadata": {},
     "output_type": "execute_result"
    }
   ],
   "source": [
    "# 张三获得奖励固定500分，交易费10分\n",
    "zhangsan.get_balance()"
   ]
  },
  {
   "cell_type": "code",
   "execution_count": 42,
   "metadata": {},
   "outputs": [],
   "source": [
    "assert zhangsan.get_height() == lisi.get_height() == 2"
   ]
  },
  {
   "cell_type": "code",
   "execution_count": 43,
   "metadata": {},
   "outputs": [],
   "source": [
    "assert zhangsan.get_unconfirmed_utxo() == lisi.get_unconfirmed_utxo() == []"
   ]
  },
  {
   "cell_type": "code",
   "execution_count": 44,
   "metadata": {},
   "outputs": [
    {
     "data": {
      "text/plain": [
       "True"
      ]
     },
     "execution_count": 44,
     "metadata": {},
     "output_type": "execute_result"
    }
   ],
   "source": [
    "# 第一条交易为创币交易\n",
    "zhangsan.blockchain[1].txs[0].is_coinbase"
   ]
  },
  {
   "cell_type": "code",
   "execution_count": 45,
   "metadata": {},
   "outputs": [
    {
     "data": {
      "text/plain": [
       "510"
      ]
     },
     "execution_count": 45,
     "metadata": {},
     "output_type": "execute_result"
    }
   ],
   "source": [
    "# 奖励500分，交易费10分\n",
    "zhangsan.blockchain[1].txs[0].tx_out[0].value"
   ]
  },
  {
   "cell_type": "markdown",
   "metadata": {},
   "source": [
    "当网络中的节点达成共识后，胜者张三得到奖励，节点区块高度增加1，网络中的交易也得到了确认。"
   ]
  },
  {
   "cell_type": "markdown",
   "metadata": {},
   "source": [
    "创建交易、广播交易、共识、打包区块、广播区块，最后添加到区块链，如此反复，区块链网络就正常的运行了。"
   ]
  }
 ],
 "metadata": {
  "kernelspec": {
   "display_name": "Python 3",
   "language": "python",
   "name": "python3"
  },
  "language_info": {
   "codemirror_mode": {
    "name": "ipython",
    "version": 3
   },
   "file_extension": ".py",
   "mimetype": "text/x-python",
   "name": "python",
   "nbconvert_exporter": "python",
   "pygments_lexer": "ipython3",
   "version": "3.7.2"
  },
  "toc": {
   "base_numbering": 1.0,
   "nav_menu": {},
   "number_sections": false,
   "sideBar": true,
   "skip_h1_title": false,
   "title_cell": "Table of Contents",
   "title_sidebar": "Contents",
   "toc_cell": false,
   "toc_position": {},
   "toc_section_display": true,
   "toc_window_display": false
  }
 },
 "nbformat": 4,
 "nbformat_minor": 1
}
