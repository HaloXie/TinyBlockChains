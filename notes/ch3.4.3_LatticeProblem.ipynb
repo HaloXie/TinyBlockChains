{
 "cells": [
  {
   "cell_type": "markdown",
   "metadata": {
    "collapsed": true
   },
   "source": [
    "# 格问题\n",
    "## 定义4\n",
    "格$\\mathcal{L} \\subset \\mathbb{R}^n$的最短距离是指格中最短的非零向量：$ \\lambda_1(\\mathcal{L})=\\min_{v \\in L,v\\neq \\{0\\}} ||v||$"
   ]
  },
  {
   "cell_type": "markdown",
   "metadata": {},
   "source": [
    "## 两种签名算法基于CVP和SIS\n",
    "\n",
    "**例：** 随机生成矩阵$A \\in \\mathbb{Z}_q^{n \\times m}$"
   ]
  },
  {
   "cell_type": "code",
   "execution_count": 1,
   "metadata": {},
   "outputs": [
    {
     "data": {
      "text/plain": [
       "3"
      ]
     },
     "execution_count": 1,
     "metadata": {},
     "output_type": "execute_result"
    }
   ],
   "source": [
    "import numpy as np\n",
    "\n",
    "# 定义参数，n、m为矩阵维度，q是模数，d是矩阵元素范围\n",
    "n, m, q, d = 4, 5, 7, 10\n",
    "# 求mq\n",
    "mq = int((q-1)/2)\n",
    "mq"
   ]
  },
  {
   "cell_type": "code",
   "execution_count": 2,
   "metadata": {},
   "outputs": [
    {
     "data": {
      "text/plain": [
       "array([[ -5,  -3,   4,   6,  -6],\n",
       "       [  4,  -4,  -1,  10,   6],\n",
       "       [  3,   0,  10,  -4,  -5],\n",
       "       [ -2,   4,   0, -10,   3]])"
      ]
     },
     "execution_count": 2,
     "metadata": {},
     "output_type": "execute_result"
    }
   ],
   "source": [
    "# 随机生成元素为[-d, d]之间的整数矩阵\n",
    "A = np.random.randint(-d, d+1, (n, m))\n",
    "A"
   ]
  },
  {
   "cell_type": "code",
   "execution_count": 3,
   "metadata": {},
   "outputs": [
    {
     "data": {
      "text/plain": [
       "array([[-5, -3, -3, -1, -6],\n",
       "       [-3, -4, -1, 10, -1],\n",
       "       [ 3,  0, 10, -4, -5],\n",
       "       [-2, -3,  0, -3,  3]])"
      ]
     },
     "execution_count": 3,
     "metadata": {},
     "output_type": "execute_result"
    }
   ],
   "source": [
    "# 矩阵中mod p大于mq的元素 q - q\n",
    "A = np.where(A % q <= mq, A, A % q - q)\n",
    "A"
   ]
  },
  {
   "cell_type": "code",
   "execution_count": 4,
   "metadata": {},
   "outputs": [
    {
     "data": {
      "text/plain": [
       "array([[ 2, -3, -3, -1,  1],\n",
       "       [-3,  3, -1,  3, -1],\n",
       "       [ 3,  0,  3,  3,  2],\n",
       "       [-2, -3,  0, -3,  3]])"
      ]
     },
     "execution_count": 4,
     "metadata": {},
     "output_type": "execute_result"
    }
   ],
   "source": [
    "# 矩阵中mod q小于等于mq的元素 mod q\n",
    "A = np.where(A % q > mq, A, A % q)\n",
    "A"
   ]
  },
  {
   "cell_type": "code",
   "execution_count": 5,
   "metadata": {},
   "outputs": [
    {
     "data": {
      "text/plain": [
       "array([[ 1,  2,  2,  1,  2],\n",
       "       [ 2, -2,  1,  2,  3],\n",
       "       [-3, -3, -3, -3,  2],\n",
       "       [-2, -1,  2, -3,  2]])"
      ]
     },
     "execution_count": 5,
     "metadata": {},
     "output_type": "execute_result"
    }
   ],
   "source": [
    "# 也可以调用Simchain中的函数求解\n",
    "from simchain.lbc import convert_to_Zq\n",
    "B = np.random.randint(-d, d+1, (n, m))\n",
    "convert_to_Zq(B, q)"
   ]
  },
  {
   "cell_type": "markdown",
   "metadata": {},
   "source": [
    "# 最近向量问题\n",
    "Babai最近向量算法：已知$n$维格$\\mathcal{L} \\subset \\mathbb{R}^n$，$B=\\{ b_i \\in \\mathbb{R}^n: 1 \\leqslant i \\leqslant n \\}$是$\\mathcal{L}$的一组基，$w \\in \\mathcal{R}^n$是非格向量。如果$B$中向量两两正交或接近两两正交，则可以采用Babai算法求解CVP。"
   ]
  },
  {
   "cell_type": "markdown",
   "metadata": {},
   "source": [
    "**例：** 用“好”基$\\{ (1,0),(0.2,0.9)\\}$计算向量$(2.3,3.06)$的最近向量。"
   ]
  },
  {
   "cell_type": "code",
   "execution_count": 6,
   "metadata": {},
   "outputs": [
    {
     "data": {
      "text/plain": [
       "0.988021791350754"
      ]
     },
     "execution_count": 6,
     "metadata": {},
     "output_type": "execute_result"
    }
   ],
   "source": [
    "import simchain.lbc as lbc\n",
    "import numpy as np\n",
    "# 创建基\n",
    "basis = np.array([[1, 0], [0.2, 0.9]])\n",
    "# 列向量构造基\n",
    "basis = basis.T\n",
    "# 创建格\n",
    "l = lbc.Lattice(basis)\n",
    "# 计算格的Hadamard比，是“好”基\n",
    "lbc.hadamard(basis)"
   ]
  },
  {
   "cell_type": "code",
   "execution_count": 7,
   "metadata": {},
   "outputs": [
    {
     "data": {
      "text/plain": [
       "False"
      ]
     },
     "execution_count": 7,
     "metadata": {},
     "output_type": "execute_result"
    }
   ],
   "source": [
    "# 创建非格点w\n",
    "w = [2.3, 3.06]\n",
    "l.contains(w)"
   ]
  },
  {
   "cell_type": "code",
   "execution_count": 8,
   "metadata": {},
   "outputs": [
    {
     "data": {
      "text/plain": [
       "array([1.62, 3.4 ])"
      ]
     },
     "execution_count": 8,
     "metadata": {},
     "output_type": "execute_result"
    }
   ],
   "source": [
    "# 用格的基表示w，得到系数x\n",
    "x = np.linalg.solve(basis, w)\n",
    "x"
   ]
  },
  {
   "cell_type": "code",
   "execution_count": 9,
   "metadata": {},
   "outputs": [
    {
     "data": {
      "text/plain": [
       "array([2, 3])"
      ]
     },
     "execution_count": 9,
     "metadata": {},
     "output_type": "execute_result"
    }
   ],
   "source": [
    "# 将x四舍五入\n",
    "x = np.around(x).astype('int')\n",
    "x"
   ]
  },
  {
   "cell_type": "code",
   "execution_count": 10,
   "metadata": {},
   "outputs": [
    {
     "data": {
      "text/plain": [
       "array([2.6, 2.7])"
      ]
     },
     "execution_count": 10,
     "metadata": {},
     "output_type": "execute_result"
    }
   ],
   "source": [
    "# 计算最近向量v\n",
    "v = np.dot(l.basis, x)\n",
    "v"
   ]
  },
  {
   "cell_type": "markdown",
   "metadata": {},
   "source": [
    "**例：** 用“坏”基$\\{ (17.8, 12.6),(28.4, 19.8)\\}$计算向量$(2.3, 3.06)$的最近向量。"
   ]
  },
  {
   "cell_type": "code",
   "execution_count": 11,
   "metadata": {},
   "outputs": [
    {
     "data": {
      "text/plain": [
       "0.08457029589089926"
      ]
     },
     "execution_count": 11,
     "metadata": {},
     "output_type": "execute_result"
    }
   ],
   "source": [
    "basis = np.array([[17.8, 12.6], (28.4, 19.8)])\n",
    "basis = basis.T\n",
    "l = lbc.Lattice(basis)\n",
    "lbc.hadamard(basis)"
   ]
  },
  {
   "cell_type": "code",
   "execution_count": 12,
   "metadata": {},
   "outputs": [
    {
     "data": {
      "text/plain": [
       "False"
      ]
     },
     "execution_count": 12,
     "metadata": {},
     "output_type": "execute_result"
    }
   ],
   "source": [
    "l.contains(w)"
   ]
  },
  {
   "cell_type": "code",
   "execution_count": 13,
   "metadata": {},
   "outputs": [
    {
     "data": {
      "text/plain": [
       "array([ 8, -5])"
      ]
     },
     "execution_count": 13,
     "metadata": {},
     "output_type": "execute_result"
    }
   ],
   "source": [
    "x = np.linalg.solve(basis, w)\n",
    "x = np.around(x).astype('int')\n",
    "v = np.dot(l.basis, x)\n",
    "x"
   ]
  },
  {
   "cell_type": "code",
   "execution_count": 14,
   "metadata": {},
   "outputs": [
    {
     "data": {
      "text/plain": [
       "array([0.4, 1.8])"
      ]
     },
     "execution_count": 14,
     "metadata": {},
     "output_type": "execute_result"
    }
   ],
   "source": [
    "v"
   ]
  }
 ],
 "metadata": {
  "kernelspec": {
   "display_name": "Python 3",
   "language": "python",
   "name": "python3"
  },
  "language_info": {
   "codemirror_mode": {
    "name": "ipython",
    "version": 3
   },
   "file_extension": ".py",
   "mimetype": "text/x-python",
   "name": "python",
   "nbconvert_exporter": "python",
   "pygments_lexer": "ipython3",
   "version": "3.7.2"
  },
  "toc": {
   "base_numbering": 1,
   "nav_menu": {},
   "number_sections": false,
   "sideBar": true,
   "skip_h1_title": false,
   "title_cell": "Table of Contents",
   "title_sidebar": "Contents",
   "toc_cell": false,
   "toc_position": {},
   "toc_section_display": true,
   "toc_window_display": false
  }
 },
 "nbformat": 4,
 "nbformat_minor": 1
}
