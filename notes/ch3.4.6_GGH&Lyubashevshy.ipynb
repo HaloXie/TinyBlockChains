{
 "cells": [
  {
   "cell_type": "markdown",
   "metadata": {
    "collapsed": true
   },
   "source": [
    "# GGH数字签名\n",
    "**密钥生成算法：**  \n",
    "输入：维度n  \n",
    "输出：私钥sk，公钥pk\n",
    "1. 生成1个好基$V$, $V \\leftarrow \\mathbb{Z}^{n \\times n}, \\mathcal{H}(V) \\approx 1$\n",
    "2. 生成1个坏基$W$，$\\mathcal{H}(W) \\approx 1$\n",
    "3. 私钥sk$\\leftarrow V$\n",
    "4. 公钥pk$\\leftarrow W$\n",
    "5. 返回(sk, pk)\n",
    "----\n",
    "**数字签名：**  \n",
    "输入：私钥sk，明文m  \n",
    "输出：签名s  \n",
    "1. 用Babai算法求解s $\\leftarrow$ solveCVP(V, m)\n",
    "2. 返回s\n",
    "----\n",
    "**验证签名：**  \n",
    "输入：签名s，明文m  \n",
    "输出：接受或拒绝  \n",
    "1. 如果$||s-m|| < \\sqrt{n} \\sigma(\\mathcal{L})$ 则接受\n",
    "2. 否则，拒绝"
   ]
  },
  {
   "cell_type": "markdown",
   "metadata": {},
   "source": [
    "**例：** 用三维格对GGH数字签名进行举例。  \n",
    "考虑一个三维的格$\\mathcal{L} \\subset \\mathbb{R}^3$，用一组“好”基为$$V = \n",
    "\\left [ \\begin{array}{ccc} \n",
    "100 & 0 & 0 \\\\\n",
    "0 & 90 & 15 \\\\\n",
    "0 & 20 & 95\n",
    "\\end{array} \\right ]$$\n",
    "生成“坏”基的幺模矩阵为$$U = \n",
    "\\left [ \\begin{array}{ccc} \n",
    "50 & 11 & 2 \\\\\n",
    "-5 & -20 & -7 \\\\\n",
    "2 & 3 & 1\n",
    "\\end{array} \\right ]$$\n",
    "签名明文为$$m=\\left [ \\begin{array}{ccc} \n",
    "368 & 465 & 593 \n",
    "\\end{array} \\right ]$$"
   ]
  },
  {
   "cell_type": "markdown",
   "metadata": {},
   "source": [
    "#### 生成密钥 "
   ]
  },
  {
   "cell_type": "code",
   "execution_count": 1,
   "metadata": {},
   "outputs": [
    {
     "data": {
      "text/plain": [
       "array([[100,   0,   0],\n",
       "       [  0,  90,  15],\n",
       "       [  0,  20,  95]])"
      ]
     },
     "execution_count": 1,
     "metadata": {},
     "output_type": "execute_result"
    },
    {
     "name": "stderr",
     "output_type": "stream",
     "text": [
      "2019-04-30 17:36:46,363 - Loaded backend module://ipykernel.pylab.backend_inline version unknown.\n"
     ]
    }
   ],
   "source": [
    "import numpy as np\n",
    "import simchain.lbc as lbc\n",
    "# 私钥\n",
    "good = np.array([[100, 0, 0], [0, 90, 15], [0, 20, 95]])\n",
    "good"
   ]
  },
  {
   "cell_type": "code",
   "execution_count": 2,
   "metadata": {},
   "outputs": [
    {
     "data": {
      "text/plain": [
       "array([[ 50,  11,   2],\n",
       "       [ -5, -20,  -7],\n",
       "       [  2,   3,   1]])"
      ]
     },
     "execution_count": 2,
     "metadata": {},
     "output_type": "execute_result"
    }
   ],
   "source": [
    "# 幺模矩阵\n",
    "u = np.array([[50, 11, 2], [-5, -20, -7], [2, 3, 1]])\n",
    "u"
   ]
  },
  {
   "cell_type": "code",
   "execution_count": 3,
   "metadata": {},
   "outputs": [
    {
     "data": {
      "text/plain": [
       "array([[ 5000,  1030,   355],\n",
       "       [ -500, -1940,  -965],\n",
       "       [  200,   290,   140]])"
      ]
     },
     "execution_count": 3,
     "metadata": {},
     "output_type": "execute_result"
    }
   ],
   "source": [
    "# 公钥\n",
    "bad = np.dot(u, good)\n",
    "bad"
   ]
  },
  {
   "cell_type": "code",
   "execution_count": 4,
   "metadata": {},
   "outputs": [
    {
     "data": {
      "text/plain": [
       "0.9762428656955312"
      ]
     },
     "execution_count": 4,
     "metadata": {},
     "output_type": "execute_result"
    }
   ],
   "source": [
    "# 公钥的Hadamard比\n",
    "lbc.hadamard(good)"
   ]
  },
  {
   "cell_type": "code",
   "execution_count": 5,
   "metadata": {},
   "outputs": [
    {
     "data": {
      "text/plain": [
       "0.04147703489649823"
      ]
     },
     "execution_count": 5,
     "metadata": {},
     "output_type": "execute_result"
    }
   ],
   "source": [
    "# 私钥的Hadamard比\n",
    "lbc.hadamard(bad)"
   ]
  },
  {
   "cell_type": "code",
   "execution_count": 6,
   "metadata": {},
   "outputs": [
    {
     "data": {
      "text/plain": [
       "1.000000000000136"
      ]
     },
     "execution_count": 6,
     "metadata": {},
     "output_type": "execute_result"
    }
   ],
   "source": [
    "# 幺模矩阵行列式\n",
    "np.linalg.det(u)"
   ]
  },
  {
   "cell_type": "markdown",
   "metadata": {},
   "source": [
    "#### 数字签名"
   ]
  },
  {
   "cell_type": "code",
   "execution_count": 7,
   "metadata": {},
   "outputs": [
    {
     "data": {
      "text/plain": [
       "array([4, 4, 5])"
      ]
     },
     "execution_count": 7,
     "metadata": {},
     "output_type": "execute_result"
    }
   ],
   "source": [
    "# 明文向量\n",
    "m = [368, 465, 593]\n",
    "x = np.linalg.solve(good, m)\n",
    "x = np.around(x).astype('int')\n",
    "x"
   ]
  },
  {
   "cell_type": "code",
   "execution_count": 8,
   "metadata": {},
   "outputs": [
    {
     "data": {
      "text/plain": [
       "array([400, 435, 555])"
      ]
     },
     "execution_count": 8,
     "metadata": {},
     "output_type": "execute_result"
    }
   ],
   "source": [
    "# 签名向量\n",
    "s = np.dot(good, x)\n",
    "s"
   ]
  },
  {
   "cell_type": "markdown",
   "metadata": {},
   "source": [
    "#### 验证签名"
   ]
  },
  {
   "cell_type": "code",
   "execution_count": 9,
   "metadata": {},
   "outputs": [
    {
     "data": {
      "text/plain": [
       "58.034472514187634"
      ]
     },
     "execution_count": 9,
     "metadata": {},
     "output_type": "execute_result"
    }
   ],
   "source": [
    "# 签名与明文的距离\n",
    "s_m = np.linalg.norm(s-m)\n",
    "s_m"
   ]
  },
  {
   "cell_type": "code",
   "execution_count": 10,
   "metadata": {},
   "outputs": [
    {
     "data": {
      "text/plain": [
       "39.30744074553697"
      ]
     },
     "execution_count": 10,
     "metadata": {},
     "output_type": "execute_result"
    }
   ],
   "source": [
    "# 公钥的行列式绝对值\n",
    "bad_det = abs(np.linalg.det(bad))\n",
    "sigma_L = np.sqrt(3/(2 * np.pi * np.e)) * bad_det ** (1./3)\n",
    "sigma_L"
   ]
  },
  {
   "cell_type": "code",
   "execution_count": 11,
   "metadata": {},
   "outputs": [
    {
     "data": {
      "text/plain": [
       "68.0824844867731"
      ]
     },
     "execution_count": 11,
     "metadata": {},
     "output_type": "execute_result"
    }
   ],
   "source": [
    "n_sigma_L = np.sqrt(3) * sigma_L\n",
    "n_sigma_L"
   ]
  },
  {
   "cell_type": "code",
   "execution_count": 12,
   "metadata": {},
   "outputs": [
    {
     "data": {
      "text/plain": [
       "True"
      ]
     },
     "execution_count": 12,
     "metadata": {},
     "output_type": "execute_result"
    }
   ],
   "source": [
    "# 验证签名成功\n",
    "s_m <= n_sigma_L"
   ]
  },
  {
   "cell_type": "markdown",
   "metadata": {},
   "source": [
    "----\n",
    "# Lyubashevshy数字签名"
   ]
  },
  {
   "cell_type": "markdown",
   "metadata": {},
   "source": [
    "**密钥生成算法：**  \n",
    "输入：整数d, n, m, k, 模数q  \n",
    "输出：私钥sk，公钥pk  \n",
    "1. 私钥sk $\\leftarrow(S \\leftarrow \\{-d,\\dots,0,\\dots,d\\}^{m \\times k})$\n",
    "2. 公钥pk $\\leftarrow(A \\leftarrow \\mathbb{Z}_q^{n \\times m},T=AS mod q)$\n",
    "3. 返回(sk, pk)\n",
    "----\n",
    "**数字签名：**  \n",
    "输入：签名明文me，常数M，私钥S，公钥A  \n",
    "输出：签名(z, c)  \n",
    "1. 随机生成向量$y \\leftarrow D_\\sigma^m$\n",
    "2. 计算哈希值$c \\leftarrow H(Ay mod q, me)$\n",
    "3. 计算签名$z \\leftarrow Sc+y$\n",
    "4. 生成随机数$r \\leftarrow [0,1]$\n",
    "5. 如果$r < \\frac{D_\\sigma^m(z)}{MD_{SC,\\sigma}^m(z)}$\n",
    "6. 否则，重复1~5\n",
    "----\n",
    "**验证签名：**  \n",
    "输入：签名(z,c)，明文me  \n",
    "输出：接受或拒绝  \n",
    "1. 如果$||Z||<2\\sigma \\sqrt{m}且c=H(Az-Tz mod q, me)$，接受\n",
    "2. 否则，拒绝"
   ]
  },
  {
   "cell_type": "markdown",
   "metadata": {},
   "source": [
    "#### 生成密钥"
   ]
  },
  {
   "cell_type": "code",
   "execution_count": 13,
   "metadata": {},
   "outputs": [
    {
     "data": {
      "text/plain": [
       "array([[  2, -24,  30,  26, -14, -23, -15],\n",
       "       [ 18,   8,  12,  14,  13,  -8,  -2],\n",
       "       [-22, -17,  21,  -2,  -5,  -9,  25],\n",
       "       [ 21,  -8,  19,  -9,  -2,  11,  17],\n",
       "       [-25,  26,  -6, -14, -11,   7,   8],\n",
       "       [-30, -25, -27,   4,  12,  -1,  29]])"
      ]
     },
     "execution_count": 13,
     "metadata": {},
     "output_type": "execute_result"
    }
   ],
   "source": [
    "import numpy as np\n",
    "from simchain.lbc import convert_to_Zq\n",
    "\n",
    "# 定义常数\n",
    "d, n, m, k, q, sigma = 30, 5, 6, 7, 21, 10\n",
    "# 随机生成私钥矩阵S\n",
    "S = np.random.randint(-d, d+1, (m, k))\n",
    "S"
   ]
  },
  {
   "cell_type": "code",
   "execution_count": 14,
   "metadata": {},
   "outputs": [
    {
     "data": {
      "text/plain": [
       "array([[  2,  -3,   9,   5,   7,  -2,   6],\n",
       "       [ -3,   8,  -9,  -7,  -8,  -8,  -2],\n",
       "       [ -1,   4,   0,  -2,  -5,  -9,   4],\n",
       "       [  0,  -8,  -2,  -9,  -2, -10,  -4],\n",
       "       [ -4,   5,  -6,   7,  10,   7,   8],\n",
       "       [ -9,  -4,  -6,   4,  -9,  -1,   8]])"
      ]
     },
     "execution_count": 14,
     "metadata": {},
     "output_type": "execute_result"
    }
   ],
   "source": [
    "# 转换S中的元素\n",
    "S = convert_to_Zq(S, q)\n",
    "S"
   ]
  },
  {
   "cell_type": "code",
   "execution_count": 15,
   "metadata": {},
   "outputs": [
    {
     "data": {
      "text/plain": [
       "array([[ -1, -26,  26, -16, -14,  28],\n",
       "       [ 19,  -7, -25, -18,  20,  21],\n",
       "       [  6,  21, -10, -27,   5,  12],\n",
       "       [ 24,  14, -20,  20,  10, -15],\n",
       "       [ -9, -20,  16,  25,  -4,  16]])"
      ]
     },
     "execution_count": 15,
     "metadata": {},
     "output_type": "execute_result"
    }
   ],
   "source": [
    "# 生成公钥矩阵A\n",
    "A = np.random.randint(-d, d+1, (n, m))\n",
    "A"
   ]
  },
  {
   "cell_type": "code",
   "execution_count": 16,
   "metadata": {},
   "outputs": [
    {
     "data": {
      "text/plain": [
       "array([[ -1,  -5,   5,   5,   7,   7],\n",
       "       [ -2,  -7,  -4,   3,  -1,   0],\n",
       "       [  6,   0, -10,  -6,   5,  -9],\n",
       "       [  3,  -7,   1,  -1,  10,   6],\n",
       "       [ -9,   1,  -5,   4,  -4,  -5]])"
      ]
     },
     "execution_count": 16,
     "metadata": {},
     "output_type": "execute_result"
    }
   ],
   "source": [
    "# 转换A中的元素\n",
    "A = convert_to_Zq(A, q)\n",
    "A"
   ]
  },
  {
   "cell_type": "code",
   "execution_count": 17,
   "metadata": {},
   "outputs": [
    {
     "data": {
      "text/plain": [
       "array([[ -83,  -50,  -58,   52,    5,  -11,  116],\n",
       "       [  25,  -95,   45,   13,   46,   59,  -34],\n",
       "       [  83,   51,   90,  103,  235,  182,  -12],\n",
       "       [ -68,  -27,   -4,  165,  120,  115,  168],\n",
       "       [  45,  -17,  -44, -126,  -49,   -8, -164]])"
      ]
     },
     "execution_count": 17,
     "metadata": {},
     "output_type": "execute_result"
    }
   ],
   "source": [
    "# 生成公钥矩阵T\n",
    "T = np.dot(A, S)\n",
    "T"
   ]
  },
  {
   "cell_type": "code",
   "execution_count": 18,
   "metadata": {},
   "outputs": [
    {
     "data": {
      "text/plain": [
       "array([[  1,  -8,   5,  10,   5,  10, -10],\n",
       "       [  4,  10,   3,  -8,   4,  -4,   8],\n",
       "       [ -1,   9,   6,  -2,   4,  -7,   9],\n",
       "       [ -5,  -6,  -4,  -3,  -6,  10,   0],\n",
       "       [  3,   4,  -2,   0,  -7,  -8,   4]])"
      ]
     },
     "execution_count": 18,
     "metadata": {},
     "output_type": "execute_result"
    }
   ],
   "source": [
    "# 转换T中的元素\n",
    "T = convert_to_Zq(T, q)\n",
    "T"
   ]
  },
  {
   "cell_type": "markdown",
   "metadata": {},
   "source": [
    "#### 数字签名"
   ]
  },
  {
   "cell_type": "code",
   "execution_count": 19,
   "metadata": {},
   "outputs": [
    {
     "data": {
      "text/plain": [
       "array([  0, -21,  18, -12,   1, -12])"
      ]
     },
     "execution_count": 19,
     "metadata": {},
     "output_type": "execute_result"
    }
   ],
   "source": [
    "from math import exp, sqrt\n",
    "from simchain.lbc import hash_to_baseb\n",
    "\n",
    "# 选择常数M\n",
    "M = 1\n",
    "# 选择签名明文\n",
    "message = b'111'\n",
    "# 开始签名\n",
    "while True:\n",
    "    # 创建随机向量y\n",
    "    y = np.random.normal(0, sigma, m).astype('int')\n",
    "    # 计算Ay\n",
    "    Ay = np.dot(A, y)\n",
    "    # 计算Ay mod p\n",
    "    Ay = convert_to_Zq(Ay, q)\n",
    "    # 计算Ay和签名明文的哈希值\n",
    "    c = hash_to_baseb(Ay, message, k, 3)\n",
    "    # 计算Sc\n",
    "    Sc = np.dot(S, c)\n",
    "    # 计算向量z\n",
    "    z = Sc + y\n",
    "    pxe = -z.dot(z) + y.dot(y)\n",
    "    val = exp(pxe / (2*sigma**2)) / M\n",
    "    if np.random.rand() < min(val , 1):\n",
    "        break\n",
    "z"
   ]
  },
  {
   "cell_type": "code",
   "execution_count": 20,
   "metadata": {},
   "outputs": [
    {
     "data": {
      "text/plain": [
       "array([2, 2, 2, 1, 0, 0, 1])"
      ]
     },
     "execution_count": 20,
     "metadata": {},
     "output_type": "execute_result"
    }
   ],
   "source": [
    "c"
   ]
  },
  {
   "cell_type": "markdown",
   "metadata": {},
   "source": [
    "#### 验证签名"
   ]
  },
  {
   "cell_type": "code",
   "execution_count": 21,
   "metadata": {},
   "outputs": [
    {
     "data": {
      "text/plain": [
       "True"
      ]
     },
     "execution_count": 21,
     "metadata": {},
     "output_type": "execute_result"
    }
   ],
   "source": [
    "np.linalg.norm(z) <= 2 * sigma * sqrt(m)"
   ]
  },
  {
   "cell_type": "code",
   "execution_count": 22,
   "metadata": {},
   "outputs": [
    {
     "data": {
      "text/plain": [
       "True"
      ]
     },
     "execution_count": 22,
     "metadata": {},
     "output_type": "execute_result"
    }
   ],
   "source": [
    "# 计算Az - Tc\n",
    "AzTc = np.dot(A, z) - np.dot(T, c)\n",
    "# 计算(Az - Tc) mod q\n",
    "AzTc = convert_to_Zq(AzTc, q)\n",
    "# 计算Az-Tc与明文的哈希值\n",
    "hc = hash_to_baseb(AzTc, message, k, 3)\n",
    "# 验证哈希值是否相等\n",
    "np.allclose(c, hc)"
   ]
  },
  {
   "cell_type": "markdown",
   "metadata": {},
   "source": [
    "哈希函数hash_to_baseb()的实现"
   ]
  },
  {
   "cell_type": "code",
   "execution_count": 23,
   "metadata": {},
   "outputs": [],
   "source": [
    "from numpy import array_str, array\n",
    "from hashlib import sha512\n",
    "\n",
    "# 输入为矩阵，明文，输出向量的长度以及向量元素的范围[0, b)\n",
    "def hash_to_baseb(matrix, message,k,b=3):\n",
    "    \n",
    "    # 组合矩阵字节串和明文，并对其进行sha512运算，返回十六进制哈希值\n",
    "    hexval = sha512(array_str(matrix).encode() + message).hexdigest()\n",
    "    # 将十六进制字符串编码成向量，向量的元素范围为[0, b)，返回向量的前k个元素\n",
    "    return array(list(map(int, list(b2b(hexval, 16, b)[:k]))))\n",
    "\n",
    "base_symbols='0123456789abcdefghijklmnopqrstuvwxyz'\n",
    "\n",
    "# 将整数编码到字符为[0, b)上的字符串\n",
    "def v2r(n, b): \n",
    "    digits = ''\n",
    "    while n > 0:\n",
    "        digits = base_symbols[n % b] + digits\n",
    "        n  = n // b\n",
    "    return digits\n",
    "\n",
    "# 将十六进制字符串编码到字符为[0, b)上的字符串\n",
    "def b2b(digits, b1, b2):\n",
    "    return v2r(r2v(digits, b1), b2)"
   ]
  },
  {
   "cell_type": "code",
   "execution_count": 24,
   "metadata": {},
   "outputs": [
    {
     "data": {
      "text/plain": [
       "b'[[ 3 -5  1 -1]\\n [-5 -1  0  0]\\n [-5 -3  3 -4]]I love blockchain'"
      ]
     },
     "execution_count": 24,
     "metadata": {},
     "output_type": "execute_result"
    }
   ],
   "source": [
    "import numpy as np\n",
    "from simchain.lbc.utils import b2b\n",
    "import hashlib\n",
    "\n",
    "# 创建随机矩阵\n",
    "matrix = np.random.randint(-5, 5, (3, 4))\n",
    "# 选择明文\n",
    "message = b'I love blockchain'\n",
    "# 组合矩阵和明文\n",
    "string = np.array_str(matrix).encode() + message\n",
    "string"
   ]
  },
  {
   "cell_type": "code",
   "execution_count": 25,
   "metadata": {},
   "outputs": [
    {
     "data": {
      "text/plain": [
       "'5c72a8cafaca0b61ec8c067a9525b4ad2a2a443d36050928611e82ef6e6a821c0a2cb96626bf9b08b7635b0ff27af345bb0b674949a294871a53113078fafd79'"
      ]
     },
     "execution_count": 25,
     "metadata": {},
     "output_type": "execute_result"
    }
   ],
   "source": [
    "# 对矩阵进行sha512哈希运算\n",
    "hexval = hashlib.sha512(string).hexdigest()\n",
    "hexval"
   ]
  },
  {
   "cell_type": "code",
   "execution_count": 26,
   "metadata": {},
   "outputs": [
    {
     "data": {
      "text/plain": [
       "'10101022000101221220120112201201002210012000220221022202211200200021121121200112022000200202022001020110011022021012000202011022202010112121221202211202220101020020100112200121121002012102002021121120202201112121101210201212022021100122220020200012121122221101202212000120011020200000222010102111222101012201212022221210002'"
      ]
     },
     "execution_count": 26,
     "metadata": {},
     "output_type": "execute_result"
    }
   ],
   "source": [
    "# 将返回的字符串编码到字符为[0, 3)的字符串\n",
    "s = b2b(hexval, 16, 3)\n",
    "s"
   ]
  },
  {
   "cell_type": "code",
   "execution_count": 27,
   "metadata": {},
   "outputs": [],
   "source": [
    "# 将字符串s转换为整数列表\n",
    "val = map(int, list(s))"
   ]
  },
  {
   "cell_type": "code",
   "execution_count": 28,
   "metadata": {},
   "outputs": [
    {
     "data": {
      "text/plain": [
       "array([1, 0, 1, 0, 1, 0, 2, 2, 0, 0])"
      ]
     },
     "execution_count": 28,
     "metadata": {},
     "output_type": "execute_result"
    }
   ],
   "source": [
    "# 取列表的前k=10个元素，并转换为ndarra\n",
    "vec = np.array(list(val)[:10])\n",
    "vec"
   ]
  }
 ],
 "metadata": {
  "kernelspec": {
   "display_name": "Python 3",
   "language": "python",
   "name": "python3"
  },
  "language_info": {
   "codemirror_mode": {
    "name": "ipython",
    "version": 3
   },
   "file_extension": ".py",
   "mimetype": "text/x-python",
   "name": "python",
   "nbconvert_exporter": "python",
   "pygments_lexer": "ipython3",
   "version": "3.7.2"
  },
  "toc": {
   "base_numbering": 1,
   "nav_menu": {},
   "number_sections": false,
   "sideBar": true,
   "skip_h1_title": false,
   "title_cell": "Table of Contents",
   "title_sidebar": "Contents",
   "toc_cell": false,
   "toc_position": {},
   "toc_section_display": true,
   "toc_window_display": false
  }
 },
 "nbformat": 4,
 "nbformat_minor": 1
}
