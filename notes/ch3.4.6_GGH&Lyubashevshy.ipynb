{
 "cells": [
  {
   "cell_type": "markdown",
   "metadata": {
    "collapsed": true
   },
   "source": [
    "# GGH数字签名\n",
    "**密钥生成算法：**  \n",
    "输入：维度n  \n",
    "输出：私钥sk，公钥pk\n",
    "1. 生成1个好基$V$, $V \\leftarrow \\mathbb{Z}^{n \\times n}, \\mathcal{H}(V) \\approx 1$\n",
    "2. 生成1个坏基$W$，$\\mathcal{H}(W) \\approx 1$\n",
    "3. 私钥sk$\\leftarrow V$\n",
    "4. 公钥pk$\\leftarrow W$\n",
    "5. 返回(sk, pk)\n",
    "----\n",
    "**数字签名：**  \n",
    "输入：私钥sk，明文m  \n",
    "输出：签名s  \n",
    "1. 用Babai算法求解s $\\leftarrow$ solveCVP(V, m)\n",
    "2. 返回s\n",
    "----\n",
    "**验证签名：**  \n",
    "输入：签名s，明文m  \n",
    "输出：接受或拒绝  \n",
    "1. 如果$||s-m|| < \\sqrt{n} \\sigma(\\mathcal{L})$ 则接受\n",
    "2. 否则，拒绝"
   ]
  },
  {
   "cell_type": "markdown",
   "metadata": {},
   "source": [
    "**例：** 用三维格对GGH数字签名进行举例。  \n",
    "考虑一个三维的格$\\mathcal{L} \\subset \\mathbb{R}^3$，用一组“好”基为$$V = \n",
    "\\left [ \\begin{array}{ccc} \n",
    "100 & 0 & 0 \\\\\n",
    "0 & 90 & 15 \\\\\n",
    "0 & 20 & 95\n",
    "\\end{array} \\right ]$$\n",
    "生成“坏”基的幺模矩阵为$$U = \n",
    "\\left [ \\begin{array}{ccc} \n",
    "50 & 11 & 2 \\\\\n",
    "-5 & -20 & -7 \\\\\n",
    "2 & 3 & 1\n",
    "\\end{array} \\right ]$$\n",
    "签名明文为$$m=\\left [ \\begin{array}{ccc} \n",
    "368 & 465 & 593 \n",
    "\\end{array} \\right ]$$"
   ]
  },
  {
   "cell_type": "markdown",
   "metadata": {},
   "source": [
    "#### 生成密钥 "
   ]
  },
  {
   "cell_type": "code",
   "execution_count": 1,
   "metadata": {},
   "outputs": [
    {
     "data": {
      "text/plain": [
       "array([[100,   0,   0],\n",
       "       [  0,  90,  15],\n",
       "       [  0,  20,  95]])"
      ]
     },
     "execution_count": 1,
     "metadata": {},
     "output_type": "execute_result"
    },
    {
     "name": "stderr",
     "output_type": "stream",
     "text": [
      "2019-04-30 14:15:27,798 - Loaded backend module://ipykernel.pylab.backend_inline version unknown.\n"
     ]
    }
   ],
   "source": [
    "import numpy as np\n",
    "import simchain.lbc as lbc\n",
    "# 私钥\n",
    "good = np.array([[100, 0, 0], [0, 90, 15], [0, 20, 95]])\n",
    "good"
   ]
  },
  {
   "cell_type": "code",
   "execution_count": 2,
   "metadata": {},
   "outputs": [
    {
     "data": {
      "text/plain": [
       "array([[ 50,  11,   2],\n",
       "       [ -5, -20,  -7],\n",
       "       [  2,   3,   1]])"
      ]
     },
     "execution_count": 2,
     "metadata": {},
     "output_type": "execute_result"
    }
   ],
   "source": [
    "# 幺模矩阵\n",
    "u = np.array([[50, 11, 2], [-5, -20, -7], [2, 3, 1]])\n",
    "u"
   ]
  },
  {
   "cell_type": "code",
   "execution_count": 3,
   "metadata": {},
   "outputs": [
    {
     "data": {
      "text/plain": [
       "array([[ 5000,  1030,   355],\n",
       "       [ -500, -1940,  -965],\n",
       "       [  200,   290,   140]])"
      ]
     },
     "execution_count": 3,
     "metadata": {},
     "output_type": "execute_result"
    }
   ],
   "source": [
    "# 公钥\n",
    "bad = np.dot(u, good)\n",
    "bad"
   ]
  },
  {
   "cell_type": "code",
   "execution_count": 4,
   "metadata": {},
   "outputs": [
    {
     "data": {
      "text/plain": [
       "0.9762428656955312"
      ]
     },
     "execution_count": 4,
     "metadata": {},
     "output_type": "execute_result"
    }
   ],
   "source": [
    "# 公钥的Hadamard比\n",
    "lbc.hadamard(good)"
   ]
  },
  {
   "cell_type": "code",
   "execution_count": 5,
   "metadata": {},
   "outputs": [
    {
     "data": {
      "text/plain": [
       "0.04147703489649823"
      ]
     },
     "execution_count": 5,
     "metadata": {},
     "output_type": "execute_result"
    }
   ],
   "source": [
    "# 私钥的Hadamard比\n",
    "lbc.hadamard(bad)"
   ]
  },
  {
   "cell_type": "code",
   "execution_count": 6,
   "metadata": {},
   "outputs": [
    {
     "data": {
      "text/plain": [
       "1.000000000000136"
      ]
     },
     "execution_count": 6,
     "metadata": {},
     "output_type": "execute_result"
    }
   ],
   "source": [
    "# 幺模矩阵行列式\n",
    "np.linalg.det(u)"
   ]
  },
  {
   "cell_type": "markdown",
   "metadata": {},
   "source": [
    "#### 数字签名"
   ]
  },
  {
   "cell_type": "code",
   "execution_count": null,
   "metadata": {},
   "outputs": [],
   "source": [
    "# 明文向量\n",
    "m = [368, 465, 593]\n",
    "x = np.linalg.solve()"
   ]
  }
 ],
 "metadata": {
  "kernelspec": {
   "display_name": "Python 3",
   "language": "python",
   "name": "python3"
  },
  "language_info": {
   "codemirror_mode": {
    "name": "ipython",
    "version": 3
   },
   "file_extension": ".py",
   "mimetype": "text/x-python",
   "name": "python",
   "nbconvert_exporter": "python",
   "pygments_lexer": "ipython3",
   "version": "3.7.2"
  },
  "toc": {
   "base_numbering": 1,
   "nav_menu": {},
   "number_sections": false,
   "sideBar": true,
   "skip_h1_title": false,
   "title_cell": "Table of Contents",
   "title_sidebar": "Contents",
   "toc_cell": false,
   "toc_position": {},
   "toc_section_display": true,
   "toc_window_display": false
  }
 },
 "nbformat": 4,
 "nbformat_minor": 1
}
