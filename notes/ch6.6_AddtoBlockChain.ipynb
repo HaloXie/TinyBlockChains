{
 "cells": [
  {
   "cell_type": "markdown",
   "metadata": {
    "collapsed": true
   },
   "source": [
    "# 添加到区块链"
   ]
  },
  {
   "cell_type": "markdown",
   "metadata": {},
   "source": [
    "### 区块添加原则"
   ]
  },
  {
   "cell_type": "markdown",
   "metadata": {},
   "source": [
    "Simchain中的区块添加原则，按照如下两个步骤处理：\n",
    "1. 定位“父区块”高度\n",
    "2. 判断“父区块”的位置"
   ]
  },
  {
   "cell_type": "markdown",
   "metadata": {},
   "source": [
    "如果“父区块”为末尾区块，则直接链接其后；如果“父区块”为末尾区块的前一区块（次末尾区块），则判断当前区块编号与末尾区块编号的大小，编号小的被写进区块链。如果末尾区块的编号小，则直接放弃当前区块，反之，用当前区块代替末尾区块。如果“父区块”在其他位置，直接放弃当期区块。如果找不到“父区块”，则将其存放到“孤块”列表。"
   ]
  },
  {
   "cell_type": "code",
   "execution_count": 1,
   "metadata": {},
   "outputs": [],
   "source": [
    "# 根据哈希值定位区块的高度\n",
    "def locate_block_by_hash(peer, block_hash):\n",
    "    for height, block in enumerate(peer.blockchain):\n",
    "        if block.hash == block_hash:\n",
    "            return height + 1\n",
    "    return None\n",
    "\n",
    "# 尝试添加到区块链，peer：节点，block：待添加的区块\n",
    "def try_to_add_block(peer, block):\n",
    "    # 获取区块的前哈希值\n",
    "    prev_hash = block.prev_block_hash\n",
    "    # 定位“父区块”高度\n",
    "    height = locate_block_by_hash(peer, prev_hash)\n",
    "    # 如果找不到“父区块”，添加至“孤块”列表\n",
    "    if not height:\n",
    "        logger.info('{0}(pid={1} find a orphan {2})'.format(peer, peer.pid, block))\n",
    "        peer.orphan_block.append(block)\n",
    "        return False\n",
    "    \n",
    "    # 如果“父区块”在末尾\n",
    "    if height == peer.get_height():\n",
    "        # 将区块添加到区块链\n",
    "        peer.blockchain.append(block)\n",
    "        # 更新UTXO_SET和交易池\n",
    "        recieve_new_prev_hash_block(peer, block.txs)\n",
    "        return True\n",
    "\n",
    "    # 如果“父区块”为末尾区块的前一个区块\n",
    "    elif height == peer.get_height() - 1:\n",
    "        b1, b2 = peer.blockchain[-1], block\n",
    "        # 比较末尾区块与当前区块哈希值大小\n",
    "        # Simchain中的区块哈希值是十六进制字符串\n",
    "        a, b = int(b1.hash, 16), int(b2.hash, 16)\n",
    "        # 如果末尾区块哈希值更小，保留\n",
    "        if a < b:\n",
    "            return False\n",
    "        # 如果当前哈希值更小\n",
    "        else:\n",
    "            # 将末尾区块从区块链中删除\n",
    "            peer.blookchian.pop()\n",
    "            # 将当前区块添加到区块链中\n",
    "            peer.blockchain.append(block)\n",
    "            # 数据回滚并更新UTXO_SET和交易池\n",
    "            recieve_exist_prev_hash_block(peer, block.txs)\n",
    "    # 如果“父区块”在其他位置，返回False\n",
    "    else:\n",
    "        return False"
   ]
  },
  {
   "cell_type": "code",
   "execution_count": 2,
   "metadata": {},
   "outputs": [
    {
     "name": "stderr",
     "output_type": "stream",
     "text": [
      "2019-06-14 10:29:56,784 - A blockchain p2p network created,12 peers joined\n",
      "2019-06-14 10:29:56,804 - genesis block has been generated\n",
      "2019-06-14 10:29:56,846 - peer(50, 3)(pid=3) created a transaction\n",
      "2019-06-14 10:29:56,847 - peer(50, 3)(pid=3) sent a transaction to network\n",
      "2019-06-14 10:29:57,686 - peer(50, 3)(pid=3)'s transaction verified by 9 peers\n"
     ]
    }
   ],
   "source": [
    "from simchain import Network\n",
    "net = Network()\n",
    "zhangsan, lisi = net.peers[0], net.peers[1]\n",
    "net.make_random_transactions()\n",
    "zhangsan.create_candidate_block()\n",
    "# 张三创建一个候选区块\n",
    "block = zhangsan.candidate_block\n",
    "txs = block.txs"
   ]
  },
  {
   "cell_type": "code",
   "execution_count": 3,
   "metadata": {},
   "outputs": [],
   "source": [
    "from simchain.consensus import mine\n",
    "# 计算nonce\n",
    "nonce = mine(block)"
   ]
  },
  {
   "cell_type": "code",
   "execution_count": 4,
   "metadata": {},
   "outputs": [
    {
     "data": {
      "text/plain": [
       "1"
      ]
     },
     "execution_count": 4,
     "metadata": {},
     "output_type": "execute_result"
    }
   ],
   "source": [
    "from simchain.peer import locate_block_by_hash, try_to_add_block\n",
    "# 前区块高度\n",
    "locate_block_by_hash(lisi, block.prev_block_hash)"
   ]
  },
  {
   "cell_type": "code",
   "execution_count": 5,
   "metadata": {},
   "outputs": [
    {
     "data": {
      "text/plain": [
       "True"
      ]
     },
     "execution_count": 5,
     "metadata": {},
     "output_type": "execute_result"
    }
   ],
   "source": [
    "# 李四添加区块成功\n",
    "try_to_add_block(lisi, block)"
   ]
  },
  {
   "cell_type": "code",
   "execution_count": 6,
   "metadata": {},
   "outputs": [
    {
     "data": {
      "text/plain": [
       "1"
      ]
     },
     "execution_count": 6,
     "metadata": {},
     "output_type": "execute_result"
    }
   ],
   "source": [
    "# 张三的交易池有3条交易\n",
    "len(zhangsan.mem_pool)"
   ]
  },
  {
   "cell_type": "code",
   "execution_count": 7,
   "metadata": {},
   "outputs": [
    {
     "data": {
      "text/plain": [
       "{}"
      ]
     },
     "execution_count": 7,
     "metadata": {},
     "output_type": "execute_result"
    }
   ],
   "source": [
    "# 李四的交易池为空\n",
    "lisi.mem_pool"
   ]
  },
  {
   "cell_type": "code",
   "execution_count": 8,
   "metadata": {},
   "outputs": [
    {
     "data": {
      "text/plain": [
       "14"
      ]
     },
     "execution_count": 8,
     "metadata": {},
     "output_type": "execute_result"
    }
   ],
   "source": [
    "# 李四的UTXO_SET\n",
    "len(lisi.utxo_set)"
   ]
  },
  {
   "cell_type": "code",
   "execution_count": 9,
   "metadata": {
    "scrolled": true
   },
   "outputs": [
    {
     "data": {
      "text/plain": [
       "14"
      ]
     },
     "execution_count": 9,
     "metadata": {},
     "output_type": "execute_result"
    }
   ],
   "source": [
    "# 张三的UTXO_SET\n",
    "len(zhangsan.utxo_set)"
   ]
  },
  {
   "cell_type": "markdown",
   "metadata": {},
   "source": [
    "之所以张三和李四的数据不一致，是因为李四添加了区块，对UTXO_SET和交易池进行了更新，而张三没有。"
   ]
  },
  {
   "cell_type": "markdown",
   "metadata": {},
   "source": [
    "### 更新UTXO_SET和交易池"
   ]
  },
  {
   "cell_type": "markdown",
   "metadata": {},
   "source": [
    "更新UTXO_SET的过程：  \n",
    "1. 将区块交易所有输入单元使用过的UTXO从UTXO_SET中移除。\n",
    "2. 如果系统允许从有效交易中提取UTXO，则只需要修改区块交易所有输出单元在UTXO_SET对应的UTXO的状态为确认。如果系统不允许从有效交易中提取UTXO，则需要将区块交易的所有输出单元封装为已确认的UTXO添加到UTXO_SET。  \n",
    "  \n",
    "更新交易池的过程：如果区块交易在节点的交易池中，则移除。"
   ]
  },
  {
   "cell_type": "code",
   "execution_count": 10,
   "metadata": {},
   "outputs": [],
   "source": [
    "# 接受前区块哈希值在末尾的区块，peer：节点，txs：区块交易\n",
    "def recieve_new_prev_hash_block(peer, txs):\n",
    "    utxo_set, pool = peer.utxo_set, peer.mem_pool\n",
    "    allow_utxo_from_pool = peer.allow_utxo_from_pool\n",
    "    \n",
    "    # 将交易使用过的UTXO从UTXO_SET中移除并进行备份\n",
    "    peer._utxos_from_vins = remove_spent_utxo_from_txs(utxo_set, txs)\n",
    "    \n",
    "    # 将区块交易的所有输出单元封装成已确认的UTXO，并将其添加到UTXO_SET并进行备份\n",
    "    peer._pointers_from_vouts, peer._utxos_from_vouts = confirm_utxos_from_txs(\n",
    "        utxo_set, txs, allow_utxo_from_pool\n",
    "    )\n",
    "    \n",
    "    # 将区块交易从交易池中移除，并进行备份\n",
    "    peer._txs_removed = remove_txs_from_pool(pool, txs)"
   ]
  },
  {
   "cell_type": "markdown",
   "metadata": {},
   "source": [
    "### 移除使用过的UTXO"
   ]
  },
  {
   "cell_type": "code",
   "execution_count": 11,
   "metadata": {},
   "outputs": [],
   "source": [
    "def remove_spent_utxo_from_txs(utxo_set, txs):\n",
    "    pointers = find_vin_pointer_from_txs(txs)\n",
    "    utxos = delete_utxo_by_pointers(utxo_set, pointers)\n",
    "    # 返回移除的UTXO列表，用于备份\n",
    "    return utxos\n",
    "\n",
    "# 找到交易所有输入单元使用过的UTXO的定位指针，并存储到列表中\n",
    "def find_vin_pointer_from_txs(txs):\n",
    "    return [vin.to_spend for tx in txs for vin in tx.tx_in]\n",
    "\n",
    "# 从UTXO_SET中通过定位指针移除使用过的UTXO，并存储在列表中\n",
    "def delete_utxo_by_pointers(utxo_set, pointers):\n",
    "    # 初始化UTXO列表\n",
    "    utxos_from_vins = []\n",
    "    \n",
    "    # 遍历所有定位指针\n",
    "    for pointer in pointers:\n",
    "        # 如果指针属于UTXO_SET\n",
    "        if pointer in utxo_set:\n",
    "            # 将指针对应的UTXO添加到新列表中\n",
    "            utxos_from_vins.append(utxo_set[pointer])\n",
    "            # 从UTXO_SET中移除该UTXO\n",
    "            del utxo_set[pointer]\n",
    "    \n",
    "    # 返回新列表，用于备份\n",
    "    return utxos_from_vins"
   ]
  },
  {
   "cell_type": "code",
   "execution_count": 12,
   "metadata": {},
   "outputs": [
    {
     "data": {
      "text/plain": [
       "[None,\n",
       " Pointer(tx_id:1f590447725c9071571554db5104aba498cb3e5aa09b0e5b41a36535e2382c9b,n:3)]"
      ]
     },
     "execution_count": 12,
     "metadata": {},
     "output_type": "execute_result"
    }
   ],
   "source": [
    "from simchain.peer import find_vin_pointer_from_txs, delete_utxo_by_pointers, remove_spent_utxo_from_txs\n",
    "# 复制张三的交易池\n",
    "utxo_set = zhangsan.utxo_set.copy()\n",
    "# 找到要删除UTXO的定位指针\n",
    "pointers = find_vin_pointer_from_txs(txs)\n",
    "pointers"
   ]
  },
  {
   "cell_type": "code",
   "execution_count": 13,
   "metadata": {},
   "outputs": [],
   "source": [
    "# 通过定位指针移除UTXO\n",
    "utxos = delete_utxo_by_pointers(utxo_set, pointers)"
   ]
  },
  {
   "cell_type": "code",
   "execution_count": 14,
   "metadata": {},
   "outputs": [
    {
     "data": {
      "text/plain": [
       "True"
      ]
     },
     "execution_count": 14,
     "metadata": {},
     "output_type": "execute_result"
    }
   ],
   "source": [
    "from simchain.peer import add_utxos_to_set\n",
    "# 复制移除后的UTXO_SET\n",
    "utxo_set1 = utxo_set.copy()\n",
    "# 还原UTXO_SET，数据回滚\n",
    "add_utxos_to_set(utxo_set1, utxos)\n",
    "utxo_set1 == zhangsan.utxo_set"
   ]
  },
  {
   "cell_type": "code",
   "execution_count": 15,
   "metadata": {},
   "outputs": [
    {
     "data": {
      "text/plain": [
       "True"
      ]
     },
     "execution_count": 15,
     "metadata": {},
     "output_type": "execute_result"
    }
   ],
   "source": [
    "# 删除交易使用过的UTXO\n",
    "utxos1 = remove_spent_utxo_from_txs(utxo_set1, txs)\n",
    "utxos1 == utxos"
   ]
  },
  {
   "cell_type": "markdown",
   "metadata": {},
   "source": [
    "### 添加UTXO至UTXO_SET"
   ]
  },
  {
   "cell_type": "code",
   "execution_count": 16,
   "metadata": {},
   "outputs": [],
   "source": [
    "# 分两种情况讨论\n",
    "def confirm_utxos_from_txs(utxo_set, txs, allow_utxo_from_pool):\n",
    "    \n",
    "    # 如果系统允许从有效交易中提取UTXO创建交易\n",
    "    if allow_utxo_from_pool:\n",
    "        # 找到非创币交易中的未确认UTXO\n",
    "        utxos = find_utxos_from_txs(txs[1:])\n",
    "        # 将交易的所有输出单元封装成UTXO，添加至UTXO_SET，所有UTXO为已确认\n",
    "        # 实际上，除了创币交易输出单元封装的UTXO，其他UTXO都已存在与UTXO_SET\n",
    "        # 于是用全新的同key不同value的UTXO代替\n",
    "        add_utxo_from_block_to_set(utxo_set, txs)\n",
    "        \n",
    "        # 找到所有UTXO的定位指针，用于备份\n",
    "        pointers = find_vout_pointer_from_txs(txs)\n",
    "        return pointers, utxos\n",
    "    \n",
    "    # 如果系统不允许\n",
    "    else:\n",
    "        # 找到交易中所有输出单元的UTXO，状态为已确认\n",
    "        utxos = find_utxos_from_block(txs)\n",
    "        # 找到所有UTXO的定位指针，用于备份\n",
    "        pointers = find_vout_pointer_from_txs(txs)\n",
    "        # 将UTXO添加到UTXO_SET\n",
    "        add_utxos_to_set(utxo_set, utxos)\n",
    "        return pointers, []\n",
    "\n",
    "# 找到交易中的所有输出单元的定位指针，并存储到列表中 \n",
    "def find_vout_pointer_from_txs(txs):\n",
    "    return [Pointer(tx.id, i) for tx in txs for i, vout in enumerate(tx.tx_out)]"
   ]
  },
  {
   "cell_type": "markdown",
   "metadata": {},
   "source": [
    "对于系统允许从有效交易中提取UTXO中的情况，备份的UTXO列表中不包括创币交易输出单元封装的UTXO；而系统不允许时，不需要备份UTXO，只需要备份其定位指针。原因是，在数据回滚时，会将之前添加到UTXO_SET的已确认UTXO通过定位指针删除，然后再添加备份的UTXO列表到UTXO_SET。"
   ]
  },
  {
   "cell_type": "code",
   "execution_count": 17,
   "metadata": {},
   "outputs": [
    {
     "data": {
      "text/plain": [
       "13"
      ]
     },
     "execution_count": 17,
     "metadata": {},
     "output_type": "execute_result"
    }
   ],
   "source": [
    "# UTXO_SET长度\n",
    "len(utxo_set)"
   ]
  },
  {
   "cell_type": "code",
   "execution_count": 18,
   "metadata": {},
   "outputs": [
    {
     "data": {
      "text/plain": [
       "[True,\n",
       " True,\n",
       " True,\n",
       " True,\n",
       " True,\n",
       " True,\n",
       " True,\n",
       " True,\n",
       " True,\n",
       " True,\n",
       " True,\n",
       " False,\n",
       " False]"
      ]
     },
     "execution_count": 18,
     "metadata": {},
     "output_type": "execute_result"
    }
   ],
   "source": [
    "# UTXO的状态\n",
    "[utxo_set[pointer].confirmed for pointer in utxo_set]"
   ]
  },
  {
   "cell_type": "code",
   "execution_count": 19,
   "metadata": {},
   "outputs": [
    {
     "data": {
      "text/plain": [
       "[True,\n",
       " True,\n",
       " True,\n",
       " True,\n",
       " True,\n",
       " True,\n",
       " True,\n",
       " True,\n",
       " True,\n",
       " True,\n",
       " True,\n",
       " True,\n",
       " True,\n",
       " True]"
      ]
     },
     "execution_count": 19,
     "metadata": {},
     "output_type": "execute_result"
    }
   ],
   "source": [
    "from simchain.peer import confirm_utxos_from_txs\n",
    "# 修改状态\n",
    "confirm_utxos_from_txs(utxo_set, txs, True)\n",
    "[utxo_set[pointer].confirmed for pointer in utxo_set]"
   ]
  },
  {
   "cell_type": "code",
   "execution_count": 20,
   "metadata": {},
   "outputs": [
    {
     "data": {
      "text/plain": [
       "14"
      ]
     },
     "execution_count": 20,
     "metadata": {},
     "output_type": "execute_result"
    }
   ],
   "source": [
    "# 增加一个UTXO，是创币交易的输出单元封装而来\n",
    "len(utxo_set)"
   ]
  },
  {
   "cell_type": "markdown",
   "metadata": {},
   "source": [
    "由于Simchain默认允许从有效交易中提取UTXO创建交易，UTXO_SET中存在由有效交易输出单元封装的UTXO，只是在写进区块链前，状态为未确认。执行添加后，状态都修改为已确认，而且有创币交易输出单元封装的UTXO也被添加到UTXO_SET中。"
   ]
  },
  {
   "cell_type": "code",
   "execution_count": 21,
   "metadata": {},
   "outputs": [],
   "source": [
    "# 从交易池中移除区块交易\n",
    "def remove_txs_from_pool(pool, txs):\n",
    "    # 初始化将移除的交易字典\n",
    "    n_txs = {}\n",
    "    # 遍历区块交易列表\n",
    "    for tx in txs:\n",
    "        # 如果交易在交易池中\n",
    "        if tx.id in pool:\n",
    "            # 则将交易添加到字典中\n",
    "            n_txs[tx.id] = tx\n",
    "            # 交易从交易池中移除\n",
    "            del pool[tx.id]\n",
    "    # 返回从交易池中移除的交易，用于备份\n",
    "    return n_txs"
   ]
  },
  {
   "cell_type": "code",
   "execution_count": 22,
   "metadata": {},
   "outputs": [
    {
     "data": {
      "text/plain": [
       "{}"
      ]
     },
     "execution_count": 22,
     "metadata": {},
     "output_type": "execute_result"
    }
   ],
   "source": [
    "from simchain.peer import remove_txs_from_pool\n",
    "# 复制张三的交易池\n",
    "pool = zhangsan.mem_pool.copy()\n",
    "# 从pool中移除交易\n",
    "remove_txs = remove_txs_from_pool(pool, txs)\n",
    "pool"
   ]
  },
  {
   "cell_type": "code",
   "execution_count": 23,
   "metadata": {},
   "outputs": [
    {
     "data": {
      "text/plain": [
       "True"
      ]
     },
     "execution_count": 23,
     "metadata": {},
     "output_type": "execute_result"
    }
   ],
   "source": [
    "# 备份的交易和张三的交易池相同\n",
    "remove_txs == zhangsan.mem_pool"
   ]
  },
  {
   "cell_type": "markdown",
   "metadata": {},
   "source": [
    "对于系统不允许从有效交易中提取UTXO创建交易的情况，需要用新区块代替末尾区块，多一个数据回滚的过程，回滚到末尾区块未加入区块链之前的状态。"
   ]
  },
  {
   "cell_type": "code",
   "execution_count": 24,
   "metadata": {},
   "outputs": [],
   "source": [
    "# peer：节点，txs：区块交易\n",
    "def recieve_exist_prev_hash_block(peer, txs):\n",
    "    # 数据回滚\n",
    "    roll_back(peer)\n",
    "    # 将新区块添加到区块链\n",
    "    recieve_new_prev_hash_block(peer, txs)"
   ]
  },
  {
   "cell_type": "markdown",
   "metadata": {},
   "source": [
    "### 数据回滚"
   ]
  },
  {
   "cell_type": "code",
   "execution_count": 25,
   "metadata": {},
   "outputs": [],
   "source": [
    "def roll_back(peer):\n",
    "    # 将移除的交易重新添加到交易池中\n",
    "    peer.mem_pool.update(peer._txs_removed)\n",
    "    \n",
    "    # 将交易使用过的UTXO重新添加到UTXO_SET\n",
    "    add_utxos_to_set(peer.utxo_set, peer._utxos_from_vins)\n",
    "    \n",
    "    # 将交易输出单元封装的已确认UTXO从UTXO_SET中移除\n",
    "    remove_utxos_from_set(peer.utxo_set, peer._pointers_from_vouts)\n",
    "    \n",
    "    # 如果系统允许从有效交易中提取UTXO，则将区块中非创币交易的所有输出单元封装为未确认UTXO，添加到UTXO_SET\n",
    "    # 如果系统不允许，则该操作不改变数据\n",
    "    add_utxos_to_set(peer.utxo_set, peer._utxos_from_vouts)\n",
    "    \n",
    "    # 清空节点备份数据\n",
    "    peer._utxos_from_vins = []\n",
    "    peer._pointers_from_vouts = []\n",
    "    peer._utxos_from_vouts = []\n",
    "    peer._txs_removed = {}"
   ]
  },
  {
   "cell_type": "code",
   "execution_count": 26,
   "metadata": {},
   "outputs": [
    {
     "data": {
      "text/plain": [
       "True"
      ]
     },
     "execution_count": 26,
     "metadata": {},
     "output_type": "execute_result"
    }
   ],
   "source": [
    "# 复制张三的UTXO_SET\n",
    "utxo_set = zhangsan.utxo_set.copy()\n",
    "# 复制区块交易\n",
    "txs = block.txs.copy()\n",
    "# 添加区块\n",
    "try_to_add_block(zhangsan, block)"
   ]
  },
  {
   "cell_type": "code",
   "execution_count": 27,
   "metadata": {},
   "outputs": [
    {
     "data": {
      "text/plain": [
       "{}"
      ]
     },
     "execution_count": 27,
     "metadata": {},
     "output_type": "execute_result"
    }
   ],
   "source": [
    "# 交易池变为空\n",
    "zhangsan.mem_pool"
   ]
  },
  {
   "cell_type": "code",
   "execution_count": 28,
   "metadata": {},
   "outputs": [
    {
     "data": {
      "text/plain": [
       "True"
      ]
     },
     "execution_count": 28,
     "metadata": {},
     "output_type": "execute_result"
    }
   ],
   "source": [
    "from simchain.peer import roll_back\n",
    "# 数据回滚到添加区块前\n",
    "roll_back(zhangsan)\n",
    "# 交易回滚成功\n",
    "txs[1:] == list(zhangsan.mem_pool.values())"
   ]
  },
  {
   "cell_type": "code",
   "execution_count": 29,
   "metadata": {},
   "outputs": [
    {
     "data": {
      "text/plain": [
       "True"
      ]
     },
     "execution_count": 29,
     "metadata": {},
     "output_type": "execute_result"
    }
   ],
   "source": [
    "# UTXO_SET回滚成功\n",
    "zhangsan.utxo_set == utxo_set"
   ]
  }
 ],
 "metadata": {
  "kernelspec": {
   "display_name": "Python 3",
   "language": "python",
   "name": "python3"
  },
  "language_info": {
   "codemirror_mode": {
    "name": "ipython",
    "version": 3
   },
   "file_extension": ".py",
   "mimetype": "text/x-python",
   "name": "python",
   "nbconvert_exporter": "python",
   "pygments_lexer": "ipython3",
   "version": "3.7.2"
  },
  "toc": {
   "base_numbering": 1,
   "nav_menu": {},
   "number_sections": false,
   "sideBar": true,
   "skip_h1_title": false,
   "title_cell": "Table of Contents",
   "title_sidebar": "Contents",
   "toc_cell": false,
   "toc_position": {},
   "toc_section_display": true,
   "toc_window_display": false
  }
 },
 "nbformat": 4,
 "nbformat_minor": 1
}
