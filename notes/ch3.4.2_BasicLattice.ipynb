{
 "cells": [
  {
   "cell_type": "markdown",
   "metadata": {
    "collapsed": true
   },
   "source": [
    "# 格基础知识"
   ]
  },
  {
   "cell_type": "markdown",
   "metadata": {},
   "source": [
    "## 定义1 \n",
    "已知$B=\\{b_i \\in \\mathbb{R}^n:i \\leqslant i \\leqslant n \\}$是$n$个线性无关的向量，则基于$B$的$n$维格$\\mathcal{L}$表示为\n",
    "$$\\mathcal{L}(B)=\\{\\Sigma^n_{i=1}a_ib_i:a_i\\in \\mathbb{Z}\\}$$\n",
    "其中，$\\mathbb{R}^n$表示$n$维实数域（$n$维向量中的每个元素都是实数），$b_i$的长度为$n$，$\\mathbb{Z}$表示整数域。  \n",
    "格具有如下两个性质：  \n",
    "- 加法子群，$0 \\in \\mathcal{L} \\subset \\mathbb{R}^n$且对于任意$x,y \\in \\mathcal{L} \\subset \\mathbb{R}$，有$-x,x+y \\in \\mathcal{L} \\subset \\mathbb{R}$；\n",
    "- 离散性，对于任意$x \\in \\mathcal{L}$，存在$\\epsilon > 0$，满足$\\mathcal{L} \\cap \\{y \\in \\mathbb{R}^n:||x-y|| < \\epsilon \\}=\\{x\\}$"
   ]
  },
  {
   "cell_type": "markdown",
   "metadata": {},
   "source": [
    "**例：** 考虑一个三维的格$\\mathcal{L} \\subset \\mathbb{R}^3$，以下三个向量构成其一组基：$$\\begin{array}{ccc}\n",
    "b_1 = (2,1,3)^T \\\\\n",
    "b_2 = (1,2,0)^T \\\\\n",
    "b_3 = (2,-3,-5)^T\n",
    "\\end{array}$$\n",
    "试判断向量$v_1=(4,2,6)和v_2=(-20,24,10)$是否在格$\\mathcal{L}$中。  \n",
    "要判断向量$b$是否在格中，只需要通过求解$Ba=b$，如果$a$的所有元素都为整数，则表示$b$在格中。"
   ]
  },
  {
   "cell_type": "code",
   "execution_count": 1,
   "metadata": {},
   "outputs": [
    {
     "data": {
      "text/plain": [
       "array([[ 2,  1,  2],\n",
       "       [ 1,  2, -3],\n",
       "       [ 3,  0, -5]])"
      ]
     },
     "execution_count": 1,
     "metadata": {},
     "output_type": "execute_result"
    }
   ],
   "source": [
    "import numpy as np\n",
    "\n",
    "# 创建矩阵\n",
    "basis = np.array([[2,1,3], [1,2,0], [2,-3,-5]])\n",
    "# 转置，列向量构造基\n",
    "basis = basis.T\n",
    "basis"
   ]
  },
  {
   "cell_type": "code",
   "execution_count": 2,
   "metadata": {},
   "outputs": [
    {
     "data": {
      "text/plain": [
       "array([2., 0., 0.])"
      ]
     },
     "execution_count": 2,
     "metadata": {},
     "output_type": "execute_result"
    }
   ],
   "source": [
    "# 创建向量v1\n",
    "v1 = [4, 2, 6]\n",
    "# 求解Ba1 = v1\n",
    "a1 = np.linalg.solve(basis, v1)\n",
    "# 元素均为整数，v1在格中\n",
    "a1"
   ]
  },
  {
   "cell_type": "code",
   "execution_count": 3,
   "metadata": {},
   "outputs": [
    {
     "data": {
      "text/plain": [
       "array([-6.94444444,  6.22222222, -6.16666667])"
      ]
     },
     "execution_count": 3,
     "metadata": {},
     "output_type": "execute_result"
    }
   ],
   "source": [
    "# 创建向量v2\n",
    "v2 = [-20, 24, 10]\n",
    "# 求解Ba2 = v2\n",
    "a2 = np.linalg.solve(basis, v2)\n",
    "# 元素不为整数，v2不在格中\n",
    "a2"
   ]
  },
  {
   "cell_type": "code",
   "execution_count": 4,
   "metadata": {},
   "outputs": [
    {
     "data": {
      "text/plain": [
       "True"
      ]
     },
     "execution_count": 4,
     "metadata": {},
     "output_type": "execute_result"
    }
   ],
   "source": [
    "import simchain.lbc as lbc\n",
    "\n",
    "# 通过基创建格\n",
    "l = lbc.Lattice(basis)\n",
    "# 调用contains方法判断\n",
    "l.contains(v1)"
   ]
  },
  {
   "cell_type": "code",
   "execution_count": 5,
   "metadata": {},
   "outputs": [
    {
     "data": {
      "text/plain": [
       "False"
      ]
     },
     "execution_count": 5,
     "metadata": {},
     "output_type": "execute_result"
    }
   ],
   "source": [
    "l.contains(v2)"
   ]
  },
  {
   "cell_type": "code",
   "execution_count": 6,
   "metadata": {},
   "outputs": [
    {
     "data": {
      "text/plain": [
       "array([ -0.83,  -6.51, -13.48])"
      ]
     },
     "execution_count": 6,
     "metadata": {},
     "output_type": "execute_result"
    }
   ],
   "source": [
    "# 随机创建一个非格中的向量\n",
    "l.non_lattice_point()"
   ]
  },
  {
   "cell_type": "code",
   "execution_count": 7,
   "metadata": {},
   "outputs": [
    {
     "data": {
      "text/plain": [
       "array([ 12, -19,  -5])"
      ]
     },
     "execution_count": 7,
     "metadata": {},
     "output_type": "execute_result"
    }
   ],
   "source": [
    "# 随机创建一个格中的向量\n",
    "l.lattice_point()"
   ]
  },
  {
   "cell_type": "markdown",
   "metadata": {},
   "source": [
    "## 命题1\n",
    "如果$B$和$C$是$n$维格$\\mathcal{L}$的两组基，则存在幺模矩阵$A$，满足$C=AB$，幺模矩阵满足$A \\in \\mathbb{Z}^n$，且$det A = \\pm 1$。"
   ]
  },
  {
   "cell_type": "markdown",
   "metadata": {},
   "source": [
    "## 定义2\n",
    "已知$B=\\{b_1 \\in \\mathbb{R}^n:i \\leqslant i \\leqslant n\\}$是$n$维格$\\mathcal{L}$的一组基。则格$\\mathcal{L}$关于$B$的元域$\\mathcal{F}$表示为$\\mathcal{F}(B)=\\{\\Sigma^n_{i=1}a_ib_i:a_i \\in [0,1)\\}$"
   ]
  },
  {
   "cell_type": "markdown",
   "metadata": {},
   "source": [
    "**例：** 随机创建一个幺模矩阵。  \n",
    "幺模矩阵的特点是所有元素都为整数，且行列式为$\\pm1$，采用如下方法随机创建。随机幺模矩阵$A=T_1T_2,T_i=L_iU_i$，其中$L_i$和$U_i$分别为下、上三角矩阵，且对角线元素为$\\pm1$。"
   ]
  },
  {
   "cell_type": "code",
   "execution_count": 8,
   "metadata": {},
   "outputs": [
    {
     "data": {
      "text/plain": [
       "array([[  1,   4,   3,  -7],\n",
       "       [-10,  -5,   8,   5],\n",
       "       [ -7,   0,  -2,   5],\n",
       "       [  0,   8,  -6,   8]])"
      ]
     },
     "execution_count": 8,
     "metadata": {},
     "output_type": "execute_result"
    }
   ],
   "source": [
    "import numpy as np\n",
    "# 随机创建一个元素在[-10, 10)范围内4阶方阵\n",
    "A = np.random.randint(-10, 10, (4,4))\n",
    "A"
   ]
  },
  {
   "cell_type": "code",
   "execution_count": 9,
   "metadata": {},
   "outputs": [
    {
     "data": {
      "text/plain": [
       "array([[ 0,  4,  3, -7],\n",
       "       [ 0,  0,  8,  5],\n",
       "       [ 0,  0,  0,  5],\n",
       "       [ 0,  0,  0,  0]])"
      ]
     },
     "execution_count": 9,
     "metadata": {},
     "output_type": "execute_result"
    }
   ],
   "source": [
    "B = np.random.randint(-10, 10, (4,4))\n",
    "# 获取方阵的上三角，不包括对角线\n",
    "triu1 = np.triu(A, 1)\n",
    "triu2 = np.triu(B, 1)\n",
    "triu1"
   ]
  },
  {
   "cell_type": "code",
   "execution_count": 10,
   "metadata": {},
   "outputs": [
    {
     "data": {
      "text/plain": [
       "array([[  0,   0,   0,   0],\n",
       "       [-10,   0,   0,   0],\n",
       "       [ -7,   0,   0,   0],\n",
       "       [  0,   8,  -6,   0]])"
      ]
     },
     "execution_count": 10,
     "metadata": {},
     "output_type": "execute_result"
    }
   ],
   "source": [
    "# 获取方阵的下三角，不包括对角线\n",
    "tril1 = np.tril(A, -1)\n",
    "tril2 = np.tril(B, -1)\n",
    "tril1"
   ]
  },
  {
   "cell_type": "code",
   "execution_count": 11,
   "metadata": {},
   "outputs": [
    {
     "name": "stdout",
     "output_type": "stream",
     "text": [
      "[ 1 -1 -1 -1]\n",
      "[ 0  1 -1  0]\n"
     ]
    }
   ],
   "source": [
    "# 随机创建两个元素为-1,0,1的向量\n",
    "I1 = np.random.randint(-1, 2, 4)\n",
    "I2 = np.random.randint(-1, 2, 4)\n",
    "print(I1)\n",
    "print(I2)"
   ]
  },
  {
   "cell_type": "code",
   "execution_count": 12,
   "metadata": {},
   "outputs": [
    {
     "data": {
      "text/plain": [
       "(array([ 1, -1, -1, -1]), array([-1,  1, -1, -1]))"
      ]
     },
     "execution_count": 12,
     "metadata": {},
     "output_type": "execute_result"
    }
   ],
   "source": [
    "# 将向量中为0的元素用1代替\n",
    "I1 = np.where(I1 != 0, I1, 1)\n",
    "# 将向量中为0的元素用-1代替\n",
    "I2 = np.where(I2 != 0, I2, -1)\n",
    "I1, I2"
   ]
  },
  {
   "cell_type": "markdown",
   "metadata": {},
   "source": [
    "## 命题2\n",
    "已知$B=\\{b_i \\in \\mathbb{R}^n:1 \\leqslant i \\leqslant n\\}$是$n$维格$\\mathcal{L}$的一组基，$\\mathcal{F}$是$n$维格$\\mathcal{L}$的一个元域，则对于任意向量$w \\in \\mathbb{R}^n$，存在唯一的向量$u \\in \\mathcal{F}$和$v \\in \\mathcal{L}$，满足$w=u+v$。"
   ]
  },
  {
   "cell_type": "markdown",
   "metadata": {},
   "source": [
    "**例：** 随机生成一个元域向量。"
   ]
  },
  {
   "cell_type": "code",
   "execution_count": 13,
   "metadata": {},
   "outputs": [
    {
     "data": {
      "text/plain": [
       "array([0.30491912, 0.39455374, 0.34302729])"
      ]
     },
     "execution_count": 13,
     "metadata": {},
     "output_type": "execute_result"
    }
   ],
   "source": [
    "# 随机创建一个元素为[0, 1)的向量\n",
    "v = np.random.uniform(0, 1, 3)\n",
    "v"
   ]
  },
  {
   "cell_type": "code",
   "execution_count": 14,
   "metadata": {},
   "outputs": [
    {
     "data": {
      "text/plain": [
       "array([ 1.69044657,  0.06494473, -0.80037909])"
      ]
     },
     "execution_count": 14,
     "metadata": {},
     "output_type": "execute_result"
    }
   ],
   "source": [
    "# 创建元域中的向量\n",
    "b = np.dot(l.basis, v)\n",
    "b"
   ]
  },
  {
   "cell_type": "code",
   "execution_count": 15,
   "metadata": {},
   "outputs": [
    {
     "data": {
      "text/plain": [
       "array([ 3.21248577, -1.61319496, -3.60245827])"
      ]
     },
     "execution_count": 15,
     "metadata": {},
     "output_type": "execute_result"
    }
   ],
   "source": [
    "# 通过格对象创建\n",
    "l.fundamental_point()"
   ]
  },
  {
   "cell_type": "markdown",
   "metadata": {},
   "source": [
    "## 定义3\n",
    "已知$\\mathcal{F}$是$n$维格$\\mathcal{L}$的一个元域，则$\\mathcal{L}$的行列式det $\\mathcal{L}$为元域$\\mathcal{F}$的$n$维体积。\n",
    "## 命题3\n",
    "已知$B=\\{b_i \\in \\mathbb{R}^n:1 \\leqslant i \\leqslant n\\}$是$n$维格$\\mathcal{L}$的一组基，则有det $\\mathcal{L}$=$|$det $B|$。\n",
    "## 命题4\n",
    "已知$B=\\{b_i \\in \\mathbb{R}^n:1 \\leqslant i \\leqslant n\\}$，则有Hadamard不等式$$det \\mathcal{L} \\leqslant \\Pi_{i=1}^n||b_i||$$"
   ]
  },
  {
   "cell_type": "markdown",
   "metadata": {},
   "source": [
    "**例：** 考虑一个四维的格$\\mathcal{L} \\subset \\mathbb{R}^4$，其一组基由四个向量构成$$\\begin{array}{ccc} \n",
    "b_1 = (-8, 4, 0, 1)^T \\\\\n",
    "b_2 = (-5, 1, -6, 1)^T \\\\\n",
    "b_3 = (-3, -1, 8, 8)^T \\\\\n",
    "b_4 = (-3, -7, -3, 2)^T \n",
    "\\end{array}$$计算该组基的Hadmard比，并随机生成一对“好”基和“坏”基。"
   ]
  },
  {
   "cell_type": "code",
   "execution_count": 16,
   "metadata": {},
   "outputs": [
    {
     "data": {
      "text/plain": [
       "array([[-8, -5, -3, -3],\n",
       "       [ 4,  1, -1, -7],\n",
       "       [ 0, -6,  8, -3],\n",
       "       [ 1,  1,  8,  2]])"
      ]
     },
     "execution_count": 16,
     "metadata": {},
     "output_type": "execute_result"
    }
   ],
   "source": [
    "import numpy as np\n",
    "basis = np.array([[-8, 4, 0 ,1], [-5, 1, -6, 1], [-3, -1, 8, 8], [-3, -7, -3, 2]])\n",
    "basis = basis.T\n",
    "basis"
   ]
  },
  {
   "cell_type": "code",
   "execution_count": 17,
   "metadata": {},
   "outputs": [
    {
     "data": {
      "text/plain": [
       "0.7869588900998594"
      ]
     },
     "execution_count": 17,
     "metadata": {},
     "output_type": "execute_result"
    }
   ],
   "source": [
    "# 计算基的行列式\n",
    "det = abs(np.linalg.det(basis))\n",
    "# 计算基的二范数乘积\n",
    "mult = np.prod(np.linalg.norm(basis, axis=0))\n",
    "# 计算Hadamard比\n",
    "ratio = (det/mult)**(1./4)\n",
    "ratio"
   ]
  },
  {
   "cell_type": "markdown",
   "metadata": {},
   "source": [
    "### 生成“好”基\n",
    "#### 方法一"
   ]
  },
  {
   "cell_type": "code",
   "execution_count": 18,
   "metadata": {},
   "outputs": [
    {
     "data": {
      "text/plain": [
       "array([[ 2,  3,  3, -9],\n",
       "       [-4, -8,  7, -6],\n",
       "       [ 8, -7, -9, -3],\n",
       "       [ 6,  6,  7,  4]])"
      ]
     },
     "execution_count": 18,
     "metadata": {},
     "output_type": "execute_result"
    }
   ],
   "source": [
    "import simchain.lbc as lbc\n",
    "# 定义维度和Hadamard比阈值\n",
    "n, ur = 4, 0.9\n",
    "# 定义基向量元素的取值\n",
    "lb, ub = -10, 10\n",
    "# 初始化“好”基\n",
    "good = np.random.randint(lb, ub, (n, n))\n",
    "# 满足“好”集条件退出循环\n",
    "while lbc.hadamard(good) < ur:\n",
    "    good = np.random.randint(lb, ub, (n, n))\n",
    "good"
   ]
  },
  {
   "cell_type": "code",
   "execution_count": 19,
   "metadata": {},
   "outputs": [
    {
     "data": {
      "text/plain": [
       "0.9223123719070113"
      ]
     },
     "execution_count": 19,
     "metadata": {},
     "output_type": "execute_result"
    }
   ],
   "source": [
    "# “好”基的Hadamard比\n",
    "lbc.hadamard(good)"
   ]
  },
  {
   "cell_type": "markdown",
   "metadata": {},
   "source": [
    "#### 方法二"
   ]
  },
  {
   "cell_type": "code",
   "execution_count": 20,
   "metadata": {},
   "outputs": [
    {
     "data": {
      "text/plain": [
       "0.9929048059721531"
      ]
     },
     "execution_count": 20,
     "metadata": {},
     "output_type": "execute_result"
    }
   ],
   "source": [
    "good = np.random.randint(lb, ub, (n, n))\n",
    "# 生成单元矩阵\n",
    "I = np.identity(n, dtype='int')\n",
    "k = 100\n",
    "good = good + k * I\n",
    "lbc.hadamard(good)"
   ]
  },
  {
   "cell_type": "markdown",
   "metadata": {},
   "source": [
    "### 生成“坏”基\n",
    "#### 方法一"
   ]
  },
  {
   "cell_type": "code",
   "execution_count": 21,
   "metadata": {},
   "outputs": [
    {
     "data": {
      "text/plain": [
       "array([[  97,  681, -145,  281],\n",
       "       [ 566, 4169, -674, 1592],\n",
       "       [  69, 2024, 1342, -786],\n",
       "       [  -2,   -1,    7,  100]])"
      ]
     },
     "execution_count": 21,
     "metadata": {},
     "output_type": "execute_result"
    }
   ],
   "source": [
    "# 随机生成幺模矩阵\n",
    "u = lbc.rand_unimodular_matrix(n)\n",
    "# 初始化“坏”基\n",
    "bad = np.dot(u, good)\n",
    "# 满足“坏”基条件退出循环\n",
    "while lbc.hadamard(bad) > 0.1:\n",
    "    u = lbc.rand_unimodular_matrix(n)\n",
    "    bad = np.dot(u, good)\n",
    "bad"
   ]
  },
  {
   "cell_type": "code",
   "execution_count": 22,
   "metadata": {},
   "outputs": [
    {
     "data": {
      "text/plain": [
       "0.060234400129852365"
      ]
     },
     "execution_count": 22,
     "metadata": {},
     "output_type": "execute_result"
    }
   ],
   "source": [
    "# “坏”基的Hadamard比\n",
    "lbc.hadamard(bad)"
   ]
  },
  {
   "cell_type": "markdown",
   "metadata": {},
   "source": [
    "#### 方法二"
   ]
  },
  {
   "cell_type": "code",
   "execution_count": 23,
   "metadata": {},
   "outputs": [
    {
     "data": {
      "text/plain": [
       "array([[188, -11,   6, -11],\n",
       "       [  0,  96, -18,  96],\n",
       "       [-18,  -4, 212,  -4],\n",
       "       [ -4,  99,  14,  99]])"
      ]
     },
     "execution_count": 23,
     "metadata": {},
     "output_type": "execute_result"
    }
   ],
   "source": [
    "# 初始化“坏”基\n",
    "bad = good.T.copy()\n",
    "# 满足“坏”基条件退出循环\n",
    "while lbc.hadamard(bad.T) > 0.1:\n",
    "    # 随机生成整数\n",
    "    r = np.random.randint(1, 10, (n , 1))\n",
    "    # 随机选择需要修改的向量\n",
    "    bad += np.random.permutation(bad)\n",
    "# 转置\n",
    "bad = bad.T\n",
    "bad"
   ]
  },
  {
   "cell_type": "code",
   "execution_count": 24,
   "metadata": {},
   "outputs": [
    {
     "data": {
      "text/plain": [
       "0.0"
      ]
     },
     "execution_count": 24,
     "metadata": {},
     "output_type": "execute_result"
    }
   ],
   "source": [
    "lbc.hadamard(bad)"
   ]
  }
 ],
 "metadata": {
  "kernelspec": {
   "display_name": "Python 3",
   "language": "python",
   "name": "python3"
  },
  "language_info": {
   "codemirror_mode": {
    "name": "ipython",
    "version": 3
   },
   "file_extension": ".py",
   "mimetype": "text/x-python",
   "name": "python",
   "nbconvert_exporter": "python",
   "pygments_lexer": "ipython3",
   "version": "3.7.2"
  },
  "toc": {
   "base_numbering": 1,
   "nav_menu": {},
   "number_sections": false,
   "sideBar": true,
   "skip_h1_title": false,
   "title_cell": "Table of Contents",
   "title_sidebar": "Contents",
   "toc_cell": false,
   "toc_position": {},
   "toc_section_display": true,
   "toc_window_display": false
  }
 },
 "nbformat": 4,
 "nbformat_minor": 1
}
